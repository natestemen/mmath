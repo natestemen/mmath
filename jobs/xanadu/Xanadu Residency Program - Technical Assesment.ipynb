{
 "cells": [
  {
   "cell_type": "markdown",
   "id": "9f7ae274",
   "metadata": {},
   "source": [
    "# Superdense coding\n",
    "\n",
    "In this article we will learn about **superdense coding**: that is a method used to send 2 classical bits of information using only 1 qubit! Through this we will see the relation to notions from classical information theory such as channel capacities, and quantum analogs.\n",
    "\n",
    "The first concept we will need is that of a communication channel. In general we will regard this informally as something that transmits information. In the real world this might be something like the under-sea cables that act as the backbone of the internet, or a telephone wire. This concept was first laid out in the Claude Shannon's \"A Mathematical Theory of Communication\" [1] where he defined a channel as\n",
    "\n",
    "> merely the medium used to transmit the signal from transmitter to receiver. It may be a pair of wires, a coaxial cable, a band of radio frequencies, a beam of light, etc.\n",
    "\n",
    "In this work Shannon also defines a channel's **capacity** as (note: there are more modern understandings of this quantity, but this simplified approach works for our purposes)\n",
    "\n",
    "$$\n",
    "C = \\lim_{T\\to\\infty}\\frac{\\log N(T)}{T}\n",
    "$$\n",
    "\n",
    "where $N(T)$ is the number of signals of length $T$. This value should be thought of in units of \"bits per channel use\". In the case of (noiselessly) transmitting $T$ binary digits (bits), we have $N(T) = 2^T$ possible messages, and hence $\\log N(T) = \\log_2 (2^T) = T$. Thus channels transmitting classical bits have a capacity $C = 1$. That is if you want to transmit $n$ bits, you must send $n$ bits. No way around it!\n",
    "\n",
    "This may seem to contradict what superdense coding stands for: that one can send two bits, using one qubit! That said, when Shannon was laying the foundation of information theory, the idea of a quantum computer had not yet been born, and hence his work is purely classical.\n",
    "\n",
    "With the advent of this new technology, one can ask many new questions about the capacities of quantum channels (that is channels that can transmit quantum information), and even new questions about classical channels. Here are some we might think to ask:\n",
    "\n",
    "- Can a qubit channel transmit more information than it's classical counterpart?\n",
    "- Can you transmit quantum information over a classical channel?\n",
    "- Can a classical channel transmit more information if the two parties share some quantum entanglement?\n",
    "- Can a *quantum* channel transmit more information if the two parties share some quantum entanglement?\n",
    "\n",
    "This last question is really the one being addressed by superdense coding. All four of these questions are interesting in their own right, however, and resources to learn more about each can be found at the end of the article.\n",
    "\n",
    "Without further philosophizing as to the history and importance of superdense coding, lets get down to the protocol. In circuit form it can be represented as follows.\n",
    "\n",
    "<img src=\"superdense.jpg\" alt=\"superdense coding circuit diagram\" width=\"800\"/>\n",
    "\n",
    "There are three main stages here, so let's break it down.\n",
    "\n",
    "## Stage 1: Create shared entanglement\n",
    "\n",
    "In this stage (colored gray in the above circuit) we will create a [Bell Pair](https://en.wikipedia.org/wiki/Bell_state) or Bell state. In particular we create the following state:\n",
    "\n",
    "$$\n",
    "    \\frac{1}{\\sqrt{2}}\\left(|00\\rangle + |11\\rangle\\right),\n",
    "$$\n",
    "\n",
    "but any such Bell state would theoretically work. Each such subsystem is then sent off to the respective parties: Alice and Bob. In this case Alice receives the first qubit `wire = 0`, and Bob receives the second `wire = 1`.\n",
    "\n",
    "## Stage 2: Alice encodes her message\n",
    "\n",
    "In this blue stage, Alice prepares her qubit to be sent to Bob so that he can receive the message $ab\\in\\{ 00, 01, 10, 11\\}$ which Alice is sending. To this end, Alice performs a [Pauli X](https://pennylane.readthedocs.io/en/stable/code/api/pennylane.PauliX.html) gate conditioned on the second bit $b$, and a [Pauli Z](https://pennylane.readthedocs.io/en/stable/code/api/pennylane.PauliZ.html) conditioned on the first bit $a$. It is this encoding process that allows Bob to later recover the message.\n",
    "\n",
    "Once Alice is done preparing the qubit, she must send it to Bob. This is the \"channel\" part of this protocol, and it's the part we analyze when thinking about how much information is exchanged here.\n",
    "\n",
    "## Stage 3: Bob decodes the message\n",
    "\n",
    "Finally (green), Bob is in possession of 2 qubits: one from the original creation of the Bell pair, and the other that's now been modified by Alice. Bob now performs \"the opposite\" of the Bell pair creation circuit and measures the two qubits. With this measurement Bob possesses the two bits Alice was sending and the protocol is complete!\n",
    "\n",
    "---\n",
    "\n",
    "Now we can get on with seeing how this protocol can be implemented in Pennylane. First we import `pennlylane` and set up the device we need to simulate the two qubit protocol."
   ]
  },
  {
   "cell_type": "code",
   "execution_count": 1,
   "id": "afa8ea0d",
   "metadata": {},
   "outputs": [],
   "source": [
    "import pennylane as qml\n",
    "\n",
    "dev = qml.device(\"default.qubit\", wires=2, shots=1)"
   ]
  },
  {
   "cell_type": "markdown",
   "id": "2950264f",
   "metadata": {},
   "source": [
    "Just as we broke superdense coding into three stages before, we will separate each stage into it's own function."
   ]
  },
  {
   "cell_type": "code",
   "execution_count": 2,
   "id": "46ab15f1",
   "metadata": {},
   "outputs": [],
   "source": [
    "def bell_pair():\n",
    "    qml.Hadamard(wires=0)\n",
    "    qml.CNOT(wires=[0, 1])\n",
    "    \n",
    "def encode(bits):\n",
    "    a, b = bits\n",
    "    if a:\n",
    "        qml.PauliZ(wires=0)\n",
    "    if b:\n",
    "        qml.PauliX(wires=0)\n",
    "\n",
    "def decode():\n",
    "    qml.CNOT(wires=[0, 1])\n",
    "    qml.Hadamard(wires=0)"
   ]
  },
  {
   "cell_type": "markdown",
   "id": "14c59312",
   "metadata": {},
   "source": [
    "We can now combine these three stages into one to complete the entire protocol."
   ]
  },
  {
   "cell_type": "code",
   "execution_count": 3,
   "id": "aeaa78bc",
   "metadata": {},
   "outputs": [],
   "source": [
    "@qml.qnode(dev)\n",
    "def superdense_coding(bits='00'):\n",
    "    bell_pair()\n",
    "    \n",
    "    encode(map(int, bits))\n",
    "        \n",
    "    decode()\n",
    "    \n",
    "    return qml.sample()"
   ]
  },
  {
   "cell_type": "markdown",
   "id": "05d55d34",
   "metadata": {},
   "source": [
    "Let's now test this on the default case of sending the string `00`. In this case no $X$ nor $Z$ gates will be performed, and the circuit should, in theory, do nothing since we are performing\n",
    "\n",
    "$$\n",
    "(H\\otimes \\mathbb{1}_2)\\cdot \\mathtt{CNOT}^1_2 \\cdot \\mathtt{CNOT}^1_2 \\cdot(H\\otimes \\mathbb{1}_2) = \\left[\\mathtt{CNOT}^1_2 \\cdot(H\\otimes \\mathbb{1}_2)\\right]^\\dagger\\cdot\\left[\\mathtt{CNOT}^1_2\\cdot(H\\otimes \\mathbb{1}_2)\\right] = U^\\dagger U = \\mathbb{1}_4.\n",
    "$$"
   ]
  },
  {
   "cell_type": "code",
   "execution_count": 4,
   "id": "66f6cfee",
   "metadata": {},
   "outputs": [
    {
     "name": "stdout",
     "output_type": "stream",
     "text": [
      "[0 0]\n"
     ]
    }
   ],
   "source": [
    "print(superdense_coding())"
   ]
  },
  {
   "cell_type": "markdown",
   "id": "ff60b99b",
   "metadata": {},
   "source": [
    "It works! Now let's ensure it works on the the rest of the cases."
   ]
  },
  {
   "cell_type": "code",
   "execution_count": 5,
   "id": "da01f4b6",
   "metadata": {},
   "outputs": [
    {
     "name": "stdout",
     "output_type": "stream",
     "text": [
      "sending 00: received [0 0]\n",
      "sending 01: received [0 1]\n",
      "sending 10: received [1 0]\n",
      "sending 11: received [1 1]\n"
     ]
    }
   ],
   "source": [
    "print(f\"sending 00: received {superdense_coding(bits='00')}\")\n",
    "print(f\"sending 01: received {superdense_coding(bits='01')}\")\n",
    "print(f\"sending 10: received {superdense_coding(bits='10')}\")\n",
    "print(f\"sending 11: received {superdense_coding(bits='11')}\")"
   ]
  },
  {
   "cell_type": "markdown",
   "id": "2495c5a0",
   "metadata": {},
   "source": [
    "So we've shown that we can transmit **two** classical bits using **one** quantum bit. But it's very rare that one only wants to send two classical bits! Most messages, especially important ones are much longer. Can this protocol be adapted?\n",
    "\n",
    "Some care must be taken with sending messages with an odd number of bits, but otherwise we can use this protocol repeatedly to send the bits sequentially as outlined in the following code."
   ]
  },
  {
   "cell_type": "code",
   "execution_count": 6,
   "id": "48c3ca47",
   "metadata": {},
   "outputs": [],
   "source": [
    "from pennylane import numpy as np\n",
    "\n",
    "def to_string(message):\n",
    "    '''\n",
    "    quickly convert the output of superdense_coding to a string\n",
    "    consisting of two bits `ab`\n",
    "    '''\n",
    "    return np.array2string(message, separator='')[1:-1]\n",
    "\n",
    "def send_big_message(parity_indicator, bits):\n",
    "    '''\n",
    "    use the superdense coding protocol to send messages of arbitrary\n",
    "    length. parity_indicator indicates wheter the incoming messages\n",
    "    is of even or odd length:\n",
    "        00 -> even length\n",
    "        11 -> odd length\n",
    "    '''\n",
    "    indicator = to_string(superdense_coding(bits=parity_indicator))\n",
    "    odd_bits_incoming = False\n",
    "    if indicator == '11':\n",
    "        odd_bits_incoming = True\n",
    "\n",
    "    message = \"\"\n",
    "    for index in range(0, len(bits), 2):\n",
    "        two_bits = bits[index:index + 2]\n",
    "        if len(two_bits) == 1:\n",
    "            two_bits += '0' # arbitrary choice to 0 to pad\n",
    "        message += to_string(superdense_coding(bits=two_bits))\n",
    "    \n",
    "    if odd_bits_incoming:\n",
    "        return message[:-1]\n",
    "    return message"
   ]
  },
  {
   "cell_type": "markdown",
   "id": "3b353ff3",
   "metadata": {},
   "source": [
    "This modified protocol requires sending, as part of the total message, two bits to indicate the parity of the length of the incoming message from Alice to Bob. In `send_big_message` we could naively clip the end of the message at the end of the function depending on the length of `bits`. However this doesn't account for the fact that this protocol is emulating Alice sending Bob a message, and hence Bob would not a priori know (without being told) if the message needs clipping or not. Hence we reserve the first two bits of the message to indicate this quantity so Bob can drop the last bit if needed."
   ]
  },
  {
   "cell_type": "code",
   "execution_count": 7,
   "id": "3ad63ec0",
   "metadata": {},
   "outputs": [
    {
     "data": {
      "text/plain": [
       "'101001111'"
      ]
     },
     "execution_count": 7,
     "metadata": {},
     "output_type": "execute_result"
    }
   ],
   "source": [
    "message = '101001111'\n",
    "parity = '00' if len(message) % 2 == 0 else '11'\n",
    "\n",
    "send_big_message(parity, message)"
   ]
  },
  {
   "cell_type": "markdown",
   "id": "77f70118",
   "metadata": {},
   "source": [
    "That's fun and all, but we can do a lot better by providing a more concrete example. Here Alice wants to send Bob the message `dont trust the cat`. To accomplish this, Alice must first convert each word to a binary string, and send each word separately so Bob knows where each word starts and stops."
   ]
  },
  {
   "cell_type": "code",
   "execution_count": 8,
   "id": "908e4efe",
   "metadata": {},
   "outputs": [
    {
     "name": "stdout",
     "output_type": "stream",
     "text": [
      "Bob receives and decodes: 'dont trust the cat'\n"
     ]
    }
   ],
   "source": [
    "alices_secret = 'dont trust the cat'\n",
    "words = alices_secret.split()\n",
    "bin_words = [ # convert words to binary digit strings\n",
    "    ''.join(format(ord(x), 'b') for x in word) for word in words\n",
    "]\n",
    "parities = ['00' if len(word) % 2 == 0 else '11' for word in bin_words]\n",
    "\n",
    "bob_receives = []\n",
    "for word, parity in zip(bin_words, parities):\n",
    "    bob_receives.append(send_big_message(parity, word))\n",
    "\n",
    "decoded_message = []\n",
    "for word in bob_receives:\n",
    "    decoded_message.append(''.join(\n",
    "        [\n",
    "            chr(int(word[i:i+7], 2)) # 7 binary digits/letter\n",
    "            for i in range(0, len(word), 7)\n",
    "        ]\n",
    "    ))\n",
    "\n",
    "print(f\"Bob receives and decodes: '{' '.join(decoded_message)}'\")"
   ]
  },
  {
   "cell_type": "markdown",
   "id": "04d975a8",
   "metadata": {},
   "source": [
    "In all we've provided an overview of the superdense coding protocol and shown how it transmits two bits of classical information using one quantum bit. We've also shown how to generalize this protocol to arbitrary length strings.\n",
    "\n",
    "Since the invention of this protocol in 1970's it has been experimentally verified many times, including [recently in 2017](https://arxiv.org/abs/1609.00713) using optical fibers [2]. However, there is still the question of are quantum channel capacities larger than classical ones? This question is partially resolved in [Holevo's theorem](https://en.wikipedia.org/wiki/Holevo%27s_theorem) which states that without any shared entanglement, quantum channels do not allow more information flow through than classical ones. More information about channel capacities, and a more rigorous treatment of superdense coding (known as dense coding in this book) can be found in [3]."
   ]
  },
  {
   "cell_type": "markdown",
   "id": "298c244a",
   "metadata": {},
   "source": [
    "## References\n",
    "\n",
    "[1] Shannon, C. (1948). A mathematical theory of communication. The Bell System Technical Journal, 27(3), 379-423.\n",
    "\n",
    "[2] Williams, B., Sadlier, R., & Humble, T. (2017). Superdense Coding over Optical Fiber Links with Complete Bell-State Measurements. Phys. Rev. Lett., 118, 050501.\n",
    "\n",
    "[3] Watrous, J. (2018). The Theory of Quantum Information. Cambridge University Press.\n",
    "\n",
    "### Extras\n",
    "\n",
    "- _Can a qubit channel transmit more information than it's classical counterpart?_\n",
    "Answered by [Holevo's theorem](https://en.wikipedia.org/wiki/Holevo%27s_theorem).\n",
    "- _Can you transmit quantum information over a classical channel?_\n",
    "No, except in the simplest of quantum states, because an arbitrary qubit $|\\psi\\rangle = \\alpha |0\\rangle + \\beta |1\\rangle$ requires two complex numbers $\\alpha$ and $\\beta$ which could have infinite decimal expansions, and hence an infinite number of classical bits.\n",
    "- _Can a classical channel transmit more information if the two parties share some quantum entanglement?_\n",
    "Partially answered by [Quantum teleportation](https://en.wikipedia.org/wiki/Quantum_teleportation), which in some sense is dual to superdense coding.\n",
    "- _Can a *quantum* channel transmit more information if the two parties share some quantum entanglement?_\n",
    "As discussed in this article, yes, but there is much more information to be found in [3]."
   ]
  }
 ],
 "metadata": {
  "kernelspec": {
   "display_name": "Python 3 (ipykernel)",
   "language": "python",
   "name": "python3"
  },
  "language_info": {
   "codemirror_mode": {
    "name": "ipython",
    "version": 3
   },
   "file_extension": ".py",
   "mimetype": "text/x-python",
   "name": "python",
   "nbconvert_exporter": "python",
   "pygments_lexer": "ipython3",
   "version": "3.9.7"
  }
 },
 "nbformat": 4,
 "nbformat_minor": 5
}
