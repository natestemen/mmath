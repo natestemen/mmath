{
 "cells": [
  {
   "cell_type": "markdown",
   "id": "2f3f4088",
   "metadata": {},
   "source": [
    "# Superdense coding\n",
    "\n"
   ]
  },
  {
   "cell_type": "code",
   "execution_count": 64,
   "id": "afa8ea0d",
   "metadata": {},
   "outputs": [],
   "source": [
    "import pennylane as qml\n",
    "\n",
    "dev = qml.device(\"default.qubit\", wires=2, shots=10)"
   ]
  },
  {
   "cell_type": "code",
   "execution_count": 104,
   "id": "46ab15f1",
   "metadata": {},
   "outputs": [],
   "source": [
    "def bell_pair(wires=None):\n",
    "    qml.Hadamard(wires=wires[0])\n",
    "    qml.CNOT(wires=[wires[0], wires[1]])\n",
    "    \n",
    "def decode(wires):\n",
    "    qml.CNOT(wires=[wires[0], wires[1]])\n",
    "    qml.Hadamard(wires=wires[0])"
   ]
  },
  {
   "cell_type": "code",
   "execution_count": 115,
   "id": "aeaa78bc",
   "metadata": {},
   "outputs": [],
   "source": [
    "@qml.qnode(dev)\n",
    "def superdense_coding(bits):\n",
    "    bell_pair(dev.wires)\n",
    "    \n",
    "    a, b = str(bits)\n",
    "    if a == '1':\n",
    "        qml.PauliZ(wires=0)\n",
    "        \n",
    "    if b == '1':\n",
    "        qml.PauliX(wires=0)\n",
    "        \n",
    "    decode(dev.wires)\n",
    "    \n",
    "    return qml.sample()"
   ]
  },
  {
   "cell_type": "code",
   "execution_count": 116,
   "id": "f697b678",
   "metadata": {},
   "outputs": [
    {
     "data": {
      "text/plain": [
       "tensor([[0, 0],\n",
       "        [0, 0],\n",
       "        [0, 0],\n",
       "        [0, 0],\n",
       "        [0, 0],\n",
       "        [0, 0],\n",
       "        [0, 0],\n",
       "        [0, 0],\n",
       "        [0, 0],\n",
       "        [0, 0]], requires_grad=True)"
      ]
     },
     "execution_count": 116,
     "metadata": {},
     "output_type": "execute_result"
    }
   ],
   "source": [
    "superdense_coding('00')"
   ]
  },
  {
   "cell_type": "code",
   "execution_count": null,
   "id": "3d5b7419",
   "metadata": {},
   "outputs": [],
   "source": []
  }
 ],
 "metadata": {
  "kernelspec": {
   "display_name": "Python 3 (ipykernel)",
   "language": "python",
   "name": "python3"
  },
  "language_info": {
   "codemirror_mode": {
    "name": "ipython",
    "version": 3
   },
   "file_extension": ".py",
   "mimetype": "text/x-python",
   "name": "python",
   "nbconvert_exporter": "python",
   "pygments_lexer": "ipython3",
   "version": "3.9.7"
  }
 },
 "nbformat": 4,
 "nbformat_minor": 5
}
