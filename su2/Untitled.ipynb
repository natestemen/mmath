{
 "cells": [
  {
   "cell_type": "code",
   "execution_count": 143,
   "id": "organized-edward",
   "metadata": {},
   "outputs": [],
   "source": [
    "import sympy as sym\n",
    "from sympy import *\n",
    "from sympy.matrices import rot_axis1, rot_axis2, rot_axis3, Matrix\n",
    "from sympy.abc import u, v\n",
    "from itertools import product"
   ]
  },
  {
   "cell_type": "code",
   "execution_count": 114,
   "id": "imposed-service",
   "metadata": {},
   "outputs": [],
   "source": [
    "def zrot(symbol_name):\n",
    "    return rot_axis3(Symbol(symbol_name))\n",
    "\n",
    "def yrot(symbol_name):\n",
    "    return rot_axis2(Symbol(symbol_name))"
   ]
  },
  {
   "cell_type": "code",
   "execution_count": 145,
   "id": "scenic-ambassador",
   "metadata": {},
   "outputs": [],
   "source": [
    "def construct_prod(m):\n",
    "    W = sym.eye(3)\n",
    "    for i in range(m):\n",
    "        W *= yrot('u') * zrot(f'theta_{i}')\n",
    "    W *= yrot('u') * yrot('v')\n",
    "    return W"
   ]
  },
  {
   "cell_type": "code",
   "execution_count": 146,
   "id": "ranging-snowboard",
   "metadata": {},
   "outputs": [],
   "source": [
    "t = construct_prod(1)"
   ]
  },
  {
   "cell_type": "code",
   "execution_count": 173,
   "id": "optional-cinema",
   "metadata": {},
   "outputs": [
    {
     "name": "stdout",
     "output_type": "stream",
     "text": [
      "0.1 0.0 (0.1,) 0.315464513626863\n",
      "0.1 0.0 (6.283185307179586,) 0.282371543599977\n",
      "0.1 0.0 (0.1, 0.1) 0.506951200879756\n",
      "0.1 0.0 (0.1, 6.283185307179586) 0.445186611825434\n",
      "0.1 0.0 (1.6457963267948967, 4.73738898038469) 0.342449686299240\n",
      "0.1 0.0 (3.1915926535897934, 3.1915926535897934) 0.199542574201674\n",
      "0.1 0.0 (4.73738898038469, 1.6457963267948967) 0.342449686299240\n",
      "0.1 0.0 (6.283185307179586, 0.1) 0.445186611825434\n",
      "0.1 0.0 (6.283185307179586, 6.283185307179586) 0.422674867359743\n",
      "0.1 0.0 (0.1, 0.1, 0.1) 0.699489272344237\n",
      "0.1 0.0 (0.1, 0.1, 6.283185307179586) 0.626837167619619\n",
      "0.1 0.0 (0.1, 1.6457963267948967, 4.73738898038469) 0.521005319668283\n",
      "0.1 0.0 (0.1, 3.1915926535897934, 3.1915926535897934) 0.398276112143409\n",
      "0.1 0.0 (0.1, 4.73738898038469, 1.6457963267948967) 0.524758476470285\n",
      "0.1 0.0 (0.1, 6.283185307179586, 0.1) 0.626992452319604\n",
      "0.1 0.0 (0.1, 6.283185307179586, 6.283185307179586) 0.578749194748640\n",
      "0.1 0.0 (1.6457963267948967, 0.1, 4.73738898038469) 0.482802529539235\n",
      "0.1 0.0 (1.6457963267948967, 1.6457963267948967, 3.1915926535897934) 0.349171573542005\n",
      "0.1 0.0 (1.6457963267948967, 3.1915926535897934, 1.6457963267948967) 0.403077272242163\n",
      "0.1 0.0 (1.6457963267948967, 4.73738898038469, 0.1) 0.524758476470285\n",
      "0.1 0.0 (1.6457963267948967, 4.73738898038469, 6.283185307179586) 0.463392737489829\n",
      "0.1 0.0 (1.6457963267948967, 6.283185307179586, 4.73738898038469) 0.417513567016073\n",
      "0.1 0.0 (3.1915926535897934, 0.1, 3.1915926535897934) 0.281668182458657\n",
      "0.1 0.0 (3.1915926535897934, 1.6457963267948967, 1.6457963267948967) 0.349171573542005\n",
      "0.1 0.0 (3.1915926535897934, 3.1915926535897934, 0.1) 0.398276112143409\n",
      "0.1 0.0 (3.1915926535897934, 3.1915926535897934, 6.283185307179586) 0.315229195531121\n",
      "0.1 0.0 (3.1915926535897934, 4.73738898038469, 4.73738898038469) 0.238169686518042\n",
      "0.1 0.0 (3.1915926535897934, 6.283185307179586, 3.1915926535897934) 0.140656652930510\n",
      "0.1 0.0 (4.73738898038469, 0.1, 1.6457963267948967) 0.482802529539235\n",
      "0.1 0.0 (4.73738898038469, 1.6457963267948967, 0.1) 0.521005319668283\n",
      "0.1 0.0 (4.73738898038469, 1.6457963267948967, 6.283185307179586) 0.463392737489829\n",
      "0.1 0.0 (4.73738898038469, 3.1915926535897934, 4.73738898038469) 0.309041363718348\n",
      "0.1 0.0 (4.73738898038469, 4.73738898038469, 3.1915926535897934) 0.238169686518042\n",
      "0.1 0.0 (4.73738898038469, 6.283185307179586, 1.6457963267948967) 0.417513567016073\n",
      "0.1 0.0 (6.283185307179586, 0.1, 0.1) 0.626837167619619\n",
      "0.1 0.0 (6.283185307179586, 0.1, 6.283185307179586) 0.578749194748640\n",
      "0.1 0.0 (6.283185307179586, 1.6457963267948967, 4.73738898038469) 0.463392737489829\n",
      "0.1 0.0 (6.283185307179586, 3.1915926535897934, 3.1915926535897934) 0.315229195531121\n",
      "0.1 0.0 (6.283185307179586, 4.73738898038469, 1.6457963267948967) 0.463392737489829\n",
      "0.1 0.0 (6.283185307179586, 6.283185307179586, 0.1) 0.578749194748640\n",
      "0.1 0.0 (6.283185307179586, 6.283185307179586, 6.283185307179586) 0.561921724075925\n"
     ]
    }
   ],
   "source": [
    "max_riffle = 4\n",
    "num_points = 5\n",
    "epsilon = 1e-0\n",
    "\n",
    "uspace, vspace = np.linspace(0.1, 2*np.pi, num_points), np.linspace(0, -2*np.pi, num_points)\n",
    "theta_space = np.linspace(0.1, 2*np.pi, num_points)\n",
    "\n",
    "data = {}\n",
    "for m in range(1, max_riffle):\n",
    "    prod = construct_prod(m)\n",
    "    theta_vars = [f'theta_{i}' for i in range(m)]\n",
    "    thetas = product(theta_space, repeat=m)\n",
    "    for u, v in zip(uspace, vspace):\n",
    "        prod = prod.subs( { 'u': u, 'v': v } )\n",
    "        for angles in thetas:\n",
    "            replacements = { f'theta_{i}': angle for i, angle in enumerate(angles) }\n",
    "            with_angles = prod.subs(replacements)\n",
    "            diff = (with_angles - sym.eye(3)).norm()\n",
    "            if diff < epsilon:\n",
    "                print(u, v, angles, diff)"
   ]
  },
  {
   "cell_type": "code",
   "execution_count": 156,
   "id": "expected-cambodia",
   "metadata": {},
   "outputs": [
    {
     "data": {
      "text/plain": [
       "[[('x', 0.0), ('y', 0.0)],\n",
       " [('x', 0.0), ('y', 3.141592653589793)],\n",
       " [('x', 0.0), ('y', 6.283185307179586)],\n",
       " [('x', 3.141592653589793), ('y', 0.0)],\n",
       " [('x', 3.141592653589793), ('y', 3.141592653589793)],\n",
       " [('x', 3.141592653589793), ('y', 6.283185307179586)],\n",
       " [('x', 6.283185307179586), ('y', 0.0)],\n",
       " [('x', 6.283185307179586), ('y', 3.141592653589793)],\n",
       " [('x', 6.283185307179586), ('y', 6.283185307179586)]]"
      ]
     },
     "execution_count": 156,
     "metadata": {},
     "output_type": "execute_result"
    }
   ],
   "source": [
    "[[('x', x), ('y', y) ] for x, y in list(product(theta_space, repeat=2))]"
   ]
  },
  {
   "cell_type": "code",
   "execution_count": 157,
   "id": "preliminary-phase",
   "metadata": {},
   "outputs": [
    {
     "data": {
      "text/plain": [
       "{0: 5, 1: 5, 2: 5, 3: 5}"
      ]
     },
     "execution_count": 157,
     "metadata": {},
     "output_type": "execute_result"
    }
   ],
   "source": [
    "{ x: 5 for x in range(4)}"
   ]
  },
  {
   "cell_type": "code",
   "execution_count": 141,
   "id": "thermal-regular",
   "metadata": {},
   "outputs": [
    {
     "data": {
      "text/latex": [
       "$\\displaystyle \\left[\\begin{matrix}\\frac{\\sqrt{2} \\left(- \\sin{\\left(v + \\frac{\\pi}{4} \\right)} + \\cos{\\left(\\theta_{0} \\right)} \\cos{\\left(v + \\frac{\\pi}{4} \\right)}\\right)}{2} & \\frac{\\sqrt{2} \\sin{\\left(\\theta_{0} \\right)}}{2} & - \\frac{\\sqrt{2} \\left(\\sin{\\left(v + \\frac{\\pi}{4} \\right)} \\cos{\\left(\\theta_{0} \\right)} + \\cos{\\left(v + \\frac{\\pi}{4} \\right)}\\right)}{2}\\\\- \\sin{\\left(\\theta_{0} \\right)} \\cos{\\left(v + \\frac{\\pi}{4} \\right)} & \\cos{\\left(\\theta_{0} \\right)} & \\sin{\\left(\\theta_{0} \\right)} \\sin{\\left(v + \\frac{\\pi}{4} \\right)}\\\\\\frac{\\sqrt{2} \\left(\\sin{\\left(v + \\frac{\\pi}{4} \\right)} + \\cos{\\left(\\theta_{0} \\right)} \\cos{\\left(v + \\frac{\\pi}{4} \\right)}\\right)}{2} & \\frac{\\sqrt{2} \\sin{\\left(\\theta_{0} \\right)}}{2} & - \\frac{\\sqrt{2} \\left(\\sin{\\left(v + \\frac{\\pi}{4} \\right)} \\cos{\\left(\\theta_{0} \\right)} - \\cos{\\left(v + \\frac{\\pi}{4} \\right)}\\right)}{2}\\end{matrix}\\right]$"
      ],
      "text/plain": [
       "Matrix([\n",
       "[sqrt(2)*(-sin(v + pi/4) + cos(theta_0)*cos(v + pi/4))/2, sqrt(2)*sin(theta_0)/2, -sqrt(2)*(sin(v + pi/4)*cos(theta_0) + cos(v + pi/4))/2],\n",
       "[                            -sin(theta_0)*cos(v + pi/4),           cos(theta_0),                              sin(theta_0)*sin(v + pi/4)],\n",
       "[ sqrt(2)*(sin(v + pi/4) + cos(theta_0)*cos(v + pi/4))/2, sqrt(2)*sin(theta_0)/2, -sqrt(2)*(sin(v + pi/4)*cos(theta_0) - cos(v + pi/4))/2]])"
      ]
     },
     "execution_count": 141,
     "metadata": {},
     "output_type": "execute_result"
    }
   ],
   "source": [
    "simplify((yrot('u') * zrot('theta_0') * yrot('u') * yrot('v')).subs( { 'u': pi/4 } ))"
   ]
  },
  {
   "cell_type": "code",
   "execution_count": 142,
   "id": "vocal-strain",
   "metadata": {},
   "outputs": [
    {
     "data": {
      "text/latex": [
       "$\\displaystyle \\left[\\begin{matrix}- \\frac{\\sqrt{2} \\left(\\sin{\\left(v + \\frac{\\pi}{4} \\right)} - \\cos{\\left(\\theta_{0} \\right)} \\cos{\\left(v + \\frac{\\pi}{4} \\right)}\\right)}{2} & \\frac{\\sqrt{2} \\sin{\\left(\\theta_{0} \\right)}}{2} & - \\frac{\\sqrt{2} \\left(\\sin{\\left(v + \\frac{\\pi}{4} \\right)} \\cos{\\left(\\theta_{0} \\right)} + \\cos{\\left(v + \\frac{\\pi}{4} \\right)}\\right)}{2}\\\\- \\sin{\\left(\\theta_{0} \\right)} \\cos{\\left(v + \\frac{\\pi}{4} \\right)} & \\cos{\\left(\\theta_{0} \\right)} & \\sin{\\left(\\theta_{0} \\right)} \\sin{\\left(v + \\frac{\\pi}{4} \\right)}\\\\\\frac{\\sqrt{2} \\left(\\sin{\\left(v + \\frac{\\pi}{4} \\right)} + \\cos{\\left(\\theta_{0} \\right)} \\cos{\\left(v + \\frac{\\pi}{4} \\right)}\\right)}{2} & \\frac{\\sqrt{2} \\sin{\\left(\\theta_{0} \\right)}}{2} & \\frac{\\sqrt{2} \\left(- \\sin{\\left(v + \\frac{\\pi}{4} \\right)} \\cos{\\left(\\theta_{0} \\right)} + \\cos{\\left(v + \\frac{\\pi}{4} \\right)}\\right)}{2}\\end{matrix}\\right]$"
      ],
      "text/plain": [
       "Matrix([\n",
       "[-sqrt(2)*(sin(v + pi/4) - cos(theta_0)*cos(v + pi/4))/2, sqrt(2)*sin(theta_0)/2, -sqrt(2)*(sin(v + pi/4)*cos(theta_0) + cos(v + pi/4))/2],\n",
       "[                            -sin(theta_0)*cos(v + pi/4),           cos(theta_0),                              sin(theta_0)*sin(v + pi/4)],\n",
       "[ sqrt(2)*(sin(v + pi/4) + cos(theta_0)*cos(v + pi/4))/2, sqrt(2)*sin(theta_0)/2, sqrt(2)*(-sin(v + pi/4)*cos(theta_0) + cos(v + pi/4))/2]])"
      ]
     },
     "execution_count": 142,
     "metadata": {},
     "output_type": "execute_result"
    }
   ],
   "source": [
    "simplify(t.subs( { 'u': pi/4 } ))"
   ]
  },
  {
   "cell_type": "code",
   "execution_count": 21,
   "id": "rotary-final",
   "metadata": {},
   "outputs": [
    {
     "data": {
      "text/latex": [
       "$\\displaystyle \\left[\\begin{matrix}\\left(\\left(\\left(1 - \\cos{\\left(\\beta \\right)}\\right) \\cos^{2}{\\left(\\alpha \\right)} + \\cos{\\left(\\beta \\right)}\\right) \\cos{\\left(\\theta_{0} \\right)} + \\sin{\\left(\\alpha \\right)} \\sin{\\left(\\beta \\right)} \\sin{\\left(\\theta_{0} \\right)}\\right) \\cos{\\left(\\theta_{1} \\right)} - \\left(- \\sin{\\left(\\alpha \\right)} \\sin{\\left(\\beta \\right)} \\cos{\\left(\\theta_{0} \\right)} + \\sin{\\left(\\theta_{0} \\right)} \\cos{\\left(\\beta \\right)}\\right) \\sin{\\left(\\theta_{1} \\right)} & \\left(\\left(\\left(1 - \\cos{\\left(\\beta \\right)}\\right) \\cos^{2}{\\left(\\alpha \\right)} + \\cos{\\left(\\beta \\right)}\\right) \\cos{\\left(\\theta_{0} \\right)} + \\sin{\\left(\\alpha \\right)} \\sin{\\left(\\beta \\right)} \\sin{\\left(\\theta_{0} \\right)}\\right) \\sin{\\left(\\theta_{1} \\right)} + \\left(- \\sin{\\left(\\alpha \\right)} \\sin{\\left(\\beta \\right)} \\cos{\\left(\\theta_{0} \\right)} + \\sin{\\left(\\theta_{0} \\right)} \\cos{\\left(\\beta \\right)}\\right) \\cos{\\left(\\theta_{1} \\right)} & \\left(1 - \\cos{\\left(\\beta \\right)}\\right) \\sin{\\left(\\alpha \\right)} \\cos{\\left(\\alpha \\right)} \\cos{\\left(\\theta_{0} \\right)} - \\sin{\\left(\\beta \\right)} \\sin{\\left(\\theta_{0} \\right)} \\cos{\\left(\\alpha \\right)}\\\\\\left(- \\left(\\left(1 - \\cos{\\left(\\beta \\right)}\\right) \\cos^{2}{\\left(\\alpha \\right)} + \\cos{\\left(\\beta \\right)}\\right) \\sin{\\left(\\theta_{0} \\right)} + \\sin{\\left(\\alpha \\right)} \\sin{\\left(\\beta \\right)} \\cos{\\left(\\theta_{0} \\right)}\\right) \\cos{\\left(\\theta_{1} \\right)} - \\left(\\sin{\\left(\\alpha \\right)} \\sin{\\left(\\beta \\right)} \\sin{\\left(\\theta_{0} \\right)} + \\cos{\\left(\\beta \\right)} \\cos{\\left(\\theta_{0} \\right)}\\right) \\sin{\\left(\\theta_{1} \\right)} & \\left(- \\left(\\left(1 - \\cos{\\left(\\beta \\right)}\\right) \\cos^{2}{\\left(\\alpha \\right)} + \\cos{\\left(\\beta \\right)}\\right) \\sin{\\left(\\theta_{0} \\right)} + \\sin{\\left(\\alpha \\right)} \\sin{\\left(\\beta \\right)} \\cos{\\left(\\theta_{0} \\right)}\\right) \\sin{\\left(\\theta_{1} \\right)} + \\left(\\sin{\\left(\\alpha \\right)} \\sin{\\left(\\beta \\right)} \\sin{\\left(\\theta_{0} \\right)} + \\cos{\\left(\\beta \\right)} \\cos{\\left(\\theta_{0} \\right)}\\right) \\cos{\\left(\\theta_{1} \\right)} & - \\left(1 - \\cos{\\left(\\beta \\right)}\\right) \\sin{\\left(\\alpha \\right)} \\sin{\\left(\\theta_{0} \\right)} \\cos{\\left(\\alpha \\right)} - \\sin{\\left(\\beta \\right)} \\cos{\\left(\\alpha \\right)} \\cos{\\left(\\theta_{0} \\right)}\\\\\\left(1 - \\cos{\\left(\\beta \\right)}\\right) \\sin{\\left(\\alpha \\right)} \\cos{\\left(\\alpha \\right)} \\cos{\\left(\\theta_{1} \\right)} - \\sin{\\left(\\beta \\right)} \\sin{\\left(\\theta_{1} \\right)} \\cos{\\left(\\alpha \\right)} & \\left(1 - \\cos{\\left(\\beta \\right)}\\right) \\sin{\\left(\\alpha \\right)} \\sin{\\left(\\theta_{1} \\right)} \\cos{\\left(\\alpha \\right)} + \\sin{\\left(\\beta \\right)} \\cos{\\left(\\alpha \\right)} \\cos{\\left(\\theta_{1} \\right)} & \\left(1 - \\cos{\\left(\\beta \\right)}\\right) \\sin^{2}{\\left(\\alpha \\right)} + \\cos{\\left(\\beta \\right)}\\end{matrix}\\right]$"
      ],
      "text/plain": [
       "Matrix([\n",
       "[(((1 - cos(beta))*cos(alpha)**2 + cos(beta))*cos(theta_0) + sin(alpha)*sin(beta)*sin(theta_0))*cos(theta_1) - (-sin(alpha)*sin(beta)*cos(theta_0) + sin(theta_0)*cos(beta))*sin(theta_1), (((1 - cos(beta))*cos(alpha)**2 + cos(beta))*cos(theta_0) + sin(alpha)*sin(beta)*sin(theta_0))*sin(theta_1) + (-sin(alpha)*sin(beta)*cos(theta_0) + sin(theta_0)*cos(beta))*cos(theta_1),  (1 - cos(beta))*sin(alpha)*cos(alpha)*cos(theta_0) - sin(beta)*sin(theta_0)*cos(alpha)],\n",
       "[(-((1 - cos(beta))*cos(alpha)**2 + cos(beta))*sin(theta_0) + sin(alpha)*sin(beta)*cos(theta_0))*cos(theta_1) - (sin(alpha)*sin(beta)*sin(theta_0) + cos(beta)*cos(theta_0))*sin(theta_1), (-((1 - cos(beta))*cos(alpha)**2 + cos(beta))*sin(theta_0) + sin(alpha)*sin(beta)*cos(theta_0))*sin(theta_1) + (sin(alpha)*sin(beta)*sin(theta_0) + cos(beta)*cos(theta_0))*cos(theta_1), -(1 - cos(beta))*sin(alpha)*sin(theta_0)*cos(alpha) - sin(beta)*cos(alpha)*cos(theta_0)],\n",
       "[                                                                                                  (1 - cos(beta))*sin(alpha)*cos(alpha)*cos(theta_1) - sin(beta)*sin(theta_1)*cos(alpha),                                                                                                   (1 - cos(beta))*sin(alpha)*sin(theta_1)*cos(alpha) + sin(beta)*cos(alpha)*cos(theta_1),                                               (1 - cos(beta))*sin(alpha)**2 + cos(beta)]])"
      ]
     },
     "execution_count": 21,
     "metadata": {},
     "output_type": "execute_result"
    }
   ],
   "source": [
    "trigsimp(t)"
   ]
  },
  {
   "cell_type": "code",
   "execution_count": 18,
   "id": "modular-dairy",
   "metadata": {},
   "outputs": [
    {
     "data": {
      "text/latex": [
       "$\\displaystyle 1$"
      ],
      "text/plain": [
       "1"
      ]
     },
     "execution_count": 18,
     "metadata": {},
     "output_type": "execute_result"
    }
   ],
   "source": [
    "trigsimp(t.det())"
   ]
  },
  {
   "cell_type": "code",
   "execution_count": 100,
   "id": "ignored-apparel",
   "metadata": {},
   "outputs": [],
   "source": [
    "test = sym.eye(3)\n",
    "test *= yrot('u')\n",
    "test *= zrot('theta_2')\n",
    "test *= yrot('u')\n",
    "test *= zrot('theta_3')\n",
    "test *= yrot('u')\n",
    "test *= zrot('theta_4')\n",
    "test *= yrot('u')\n",
    "test *= yrot('v')"
   ]
  },
  {
   "cell_type": "code",
   "execution_count": 39,
   "id": "hydraulic-monte",
   "metadata": {},
   "outputs": [],
   "source": [
    "import numpy as np"
   ]
  },
  {
   "cell_type": "code",
   "execution_count": 101,
   "id": "based-jenny",
   "metadata": {},
   "outputs": [
    {
     "name": "stdout",
     "output_type": "stream",
     "text": [
      "worked for u = 0.0, v = 0.0, theta_2 = 0.0, theta_3 = 0.0 and theta_4 = 0.0!\n",
      "worked for u = 0.0, v = 0.0, theta_2 = 2.0943951023931953, theta_3 = 2.0943951023931953 and theta_4 = 2.0943951023931953!\n",
      "worked for u = 0.0, v = 0.0, theta_2 = 4.1887902047863905, theta_3 = 4.1887902047863905 and theta_4 = 4.1887902047863905!\n",
      "worked for u = 0.0, v = 0.0, theta_2 = 6.283185307179586, theta_3 = 6.283185307179586 and theta_4 = 6.283185307179586!\n",
      "worked for u = 2.0943951023931953, v = -2.0943951023931953, theta_2 = 0.0, theta_3 = 0.0 and theta_4 = 0.0!\n",
      "worked for u = 2.0943951023931953, v = -2.0943951023931953, theta_2 = 6.283185307179586, theta_3 = 6.283185307179586 and theta_4 = 6.283185307179586!\n",
      "worked for u = 4.1887902047863905, v = -4.1887902047863905, theta_2 = 0.0, theta_3 = 0.0 and theta_4 = 0.0!\n",
      "worked for u = 4.1887902047863905, v = -4.1887902047863905, theta_2 = 6.283185307179586, theta_3 = 6.283185307179586 and theta_4 = 6.283185307179586!\n",
      "worked for u = 6.283185307179586, v = -6.283185307179586, theta_2 = 0.0, theta_3 = 0.0 and theta_4 = 0.0!\n",
      "worked for u = 6.283185307179586, v = -6.283185307179586, theta_2 = 2.0943951023931953, theta_3 = 2.0943951023931953 and theta_4 = 2.0943951023931953!\n",
      "worked for u = 6.283185307179586, v = -6.283185307179586, theta_2 = 4.1887902047863905, theta_3 = 4.1887902047863905 and theta_4 = 4.1887902047863905!\n",
      "worked for u = 6.283185307179586, v = -6.283185307179586, theta_2 = 6.283185307179586, theta_3 = 6.283185307179586 and theta_4 = 6.283185307179586!\n"
     ]
    }
   ],
   "source": [
    "num_points = 10\n",
    "epsilon = 1e-5\n",
    "\n",
    "us = np.linspace(0, 2 * np.pi, num_points, endpoint=True)\n",
    "vs = np.linspace(0, -2 * np.pi, num_points, endpoint=True)\n",
    "theta2s = np.linspace(0, 2 * np.pi, num_points, endpoint=True)\n",
    "theta3s = np.linspace(0, 2 * np.pi, num_points, endpoint=True)\n",
    "theta4s = np.linspace(0, 2 * np.pi, num_points, endpoint=True)\n",
    "for u, v in zip(us, vs):\n",
    "    rot = test.subs( { 'u': u, 'v': v } )\n",
    "    for theta2, theta3, theta4 in zip(theta2s, theta3s, theta4s):\n",
    "        subbed = rot.subs( { 'theta_2': theta2, 'theta_3': theta3, 'theta_4': theta4 } )\n",
    "        diff = (subbed - sym.eye(3)).norm()\n",
    "        if diff < epsilon:\n",
    "            print(f'worked for u = {u}, v = {v}, theta_2 = {theta2}, theta_3 = {theta3} and theta_4 = {theta4}!')"
   ]
  },
  {
   "cell_type": "code",
   "execution_count": 84,
   "id": "bronze-gothic",
   "metadata": {},
   "outputs": [
    {
     "data": {
      "text/latex": [
       "$\\displaystyle 1.10864899132304$"
      ],
      "text/plain": [
       "1.10864899132304"
      ]
     },
     "execution_count": 84,
     "metadata": {},
     "output_type": "execute_result"
    }
   ],
   "source": [
    "(test.subs({ 'u': Liszt[5][0] , 'v': Liszt[5][1], 'theta_2': Liszt[5][2] }) - sym.eye(3)).norm()"
   ]
  },
  {
   "cell_type": "code",
   "execution_count": 77,
   "id": "stable-landscape",
   "metadata": {},
   "outputs": [
    {
     "data": {
      "text/plain": [
       "array([6.2, 6.2, 6.2])"
      ]
     },
     "execution_count": 77,
     "metadata": {},
     "output_type": "execute_result"
    }
   ],
   "source": [
    "Liszt[-1]"
   ]
  },
  {
   "cell_type": "code",
   "execution_count": 97,
   "id": "young-fiber",
   "metadata": {},
   "outputs": [
    {
     "data": {
      "text/latex": [
       "$\\displaystyle \\left[\\begin{matrix}\\left(- \\left(\\left(- \\sin^{2}{\\left(u \\right)} + \\cos{\\left(\\theta_{2} \\right)} \\cos^{2}{\\left(u \\right)}\\right) \\cos{\\left(\\theta_{3} \\right)} - \\sin{\\left(\\theta_{2} \\right)} \\sin{\\left(\\theta_{3} \\right)} \\cos{\\left(u \\right)}\\right) \\sin{\\left(u \\right)} + \\left(- \\sin{\\left(u \\right)} \\cos{\\left(\\theta_{2} \\right)} \\cos{\\left(u \\right)} - \\sin{\\left(u \\right)} \\cos{\\left(u \\right)}\\right) \\cos{\\left(u \\right)}\\right) \\sin{\\left(v \\right)} + \\left(\\left(\\left(- \\sin^{2}{\\left(u \\right)} + \\cos{\\left(\\theta_{2} \\right)} \\cos^{2}{\\left(u \\right)}\\right) \\cos{\\left(\\theta_{3} \\right)} - \\sin{\\left(\\theta_{2} \\right)} \\sin{\\left(\\theta_{3} \\right)} \\cos{\\left(u \\right)}\\right) \\cos{\\left(u \\right)} + \\left(- \\sin{\\left(u \\right)} \\cos{\\left(\\theta_{2} \\right)} \\cos{\\left(u \\right)} - \\sin{\\left(u \\right)} \\cos{\\left(u \\right)}\\right) \\sin{\\left(u \\right)}\\right) \\cos{\\left(v \\right)} & \\left(- \\sin^{2}{\\left(u \\right)} + \\cos{\\left(\\theta_{2} \\right)} \\cos^{2}{\\left(u \\right)}\\right) \\sin{\\left(\\theta_{3} \\right)} + \\sin{\\left(\\theta_{2} \\right)} \\cos{\\left(\\theta_{3} \\right)} \\cos{\\left(u \\right)} & \\left(- \\left(\\left(- \\sin^{2}{\\left(u \\right)} + \\cos{\\left(\\theta_{2} \\right)} \\cos^{2}{\\left(u \\right)}\\right) \\cos{\\left(\\theta_{3} \\right)} - \\sin{\\left(\\theta_{2} \\right)} \\sin{\\left(\\theta_{3} \\right)} \\cos{\\left(u \\right)}\\right) \\sin{\\left(u \\right)} + \\left(- \\sin{\\left(u \\right)} \\cos{\\left(\\theta_{2} \\right)} \\cos{\\left(u \\right)} - \\sin{\\left(u \\right)} \\cos{\\left(u \\right)}\\right) \\cos{\\left(u \\right)}\\right) \\cos{\\left(v \\right)} - \\left(\\left(\\left(- \\sin^{2}{\\left(u \\right)} + \\cos{\\left(\\theta_{2} \\right)} \\cos^{2}{\\left(u \\right)}\\right) \\cos{\\left(\\theta_{3} \\right)} - \\sin{\\left(\\theta_{2} \\right)} \\sin{\\left(\\theta_{3} \\right)} \\cos{\\left(u \\right)}\\right) \\cos{\\left(u \\right)} + \\left(- \\sin{\\left(u \\right)} \\cos{\\left(\\theta_{2} \\right)} \\cos{\\left(u \\right)} - \\sin{\\left(u \\right)} \\cos{\\left(u \\right)}\\right) \\sin{\\left(u \\right)}\\right) \\sin{\\left(v \\right)}\\\\\\left(- \\left(- \\sin{\\left(\\theta_{2} \\right)} \\cos{\\left(\\theta_{3} \\right)} \\cos{\\left(u \\right)} - \\sin{\\left(\\theta_{3} \\right)} \\cos{\\left(\\theta_{2} \\right)}\\right) \\sin{\\left(u \\right)} + \\sin{\\left(\\theta_{2} \\right)} \\sin{\\left(u \\right)} \\cos{\\left(u \\right)}\\right) \\sin{\\left(v \\right)} + \\left(\\left(- \\sin{\\left(\\theta_{2} \\right)} \\cos{\\left(\\theta_{3} \\right)} \\cos{\\left(u \\right)} - \\sin{\\left(\\theta_{3} \\right)} \\cos{\\left(\\theta_{2} \\right)}\\right) \\cos{\\left(u \\right)} + \\sin{\\left(\\theta_{2} \\right)} \\sin^{2}{\\left(u \\right)}\\right) \\cos{\\left(v \\right)} & - \\sin{\\left(\\theta_{2} \\right)} \\sin{\\left(\\theta_{3} \\right)} \\cos{\\left(u \\right)} + \\cos{\\left(\\theta_{2} \\right)} \\cos{\\left(\\theta_{3} \\right)} & \\left(- \\left(- \\sin{\\left(\\theta_{2} \\right)} \\cos{\\left(\\theta_{3} \\right)} \\cos{\\left(u \\right)} - \\sin{\\left(\\theta_{3} \\right)} \\cos{\\left(\\theta_{2} \\right)}\\right) \\sin{\\left(u \\right)} + \\sin{\\left(\\theta_{2} \\right)} \\sin{\\left(u \\right)} \\cos{\\left(u \\right)}\\right) \\cos{\\left(v \\right)} - \\left(\\left(- \\sin{\\left(\\theta_{2} \\right)} \\cos{\\left(\\theta_{3} \\right)} \\cos{\\left(u \\right)} - \\sin{\\left(\\theta_{3} \\right)} \\cos{\\left(\\theta_{2} \\right)}\\right) \\cos{\\left(u \\right)} + \\sin{\\left(\\theta_{2} \\right)} \\sin^{2}{\\left(u \\right)}\\right) \\sin{\\left(v \\right)}\\\\\\left(- \\left(\\left(\\sin{\\left(u \\right)} \\cos{\\left(\\theta_{2} \\right)} \\cos{\\left(u \\right)} + \\sin{\\left(u \\right)} \\cos{\\left(u \\right)}\\right) \\cos{\\left(\\theta_{3} \\right)} - \\sin{\\left(\\theta_{2} \\right)} \\sin{\\left(\\theta_{3} \\right)} \\sin{\\left(u \\right)}\\right) \\sin{\\left(u \\right)} + \\left(- \\sin^{2}{\\left(u \\right)} \\cos{\\left(\\theta_{2} \\right)} + \\cos^{2}{\\left(u \\right)}\\right) \\cos{\\left(u \\right)}\\right) \\sin{\\left(v \\right)} + \\left(\\left(\\left(\\sin{\\left(u \\right)} \\cos{\\left(\\theta_{2} \\right)} \\cos{\\left(u \\right)} + \\sin{\\left(u \\right)} \\cos{\\left(u \\right)}\\right) \\cos{\\left(\\theta_{3} \\right)} - \\sin{\\left(\\theta_{2} \\right)} \\sin{\\left(\\theta_{3} \\right)} \\sin{\\left(u \\right)}\\right) \\cos{\\left(u \\right)} + \\left(- \\sin^{2}{\\left(u \\right)} \\cos{\\left(\\theta_{2} \\right)} + \\cos^{2}{\\left(u \\right)}\\right) \\sin{\\left(u \\right)}\\right) \\cos{\\left(v \\right)} & \\left(\\sin{\\left(u \\right)} \\cos{\\left(\\theta_{2} \\right)} \\cos{\\left(u \\right)} + \\sin{\\left(u \\right)} \\cos{\\left(u \\right)}\\right) \\sin{\\left(\\theta_{3} \\right)} + \\sin{\\left(\\theta_{2} \\right)} \\sin{\\left(u \\right)} \\cos{\\left(\\theta_{3} \\right)} & \\left(- \\left(\\left(\\sin{\\left(u \\right)} \\cos{\\left(\\theta_{2} \\right)} \\cos{\\left(u \\right)} + \\sin{\\left(u \\right)} \\cos{\\left(u \\right)}\\right) \\cos{\\left(\\theta_{3} \\right)} - \\sin{\\left(\\theta_{2} \\right)} \\sin{\\left(\\theta_{3} \\right)} \\sin{\\left(u \\right)}\\right) \\sin{\\left(u \\right)} + \\left(- \\sin^{2}{\\left(u \\right)} \\cos{\\left(\\theta_{2} \\right)} + \\cos^{2}{\\left(u \\right)}\\right) \\cos{\\left(u \\right)}\\right) \\cos{\\left(v \\right)} - \\left(\\left(\\left(\\sin{\\left(u \\right)} \\cos{\\left(\\theta_{2} \\right)} \\cos{\\left(u \\right)} + \\sin{\\left(u \\right)} \\cos{\\left(u \\right)}\\right) \\cos{\\left(\\theta_{3} \\right)} - \\sin{\\left(\\theta_{2} \\right)} \\sin{\\left(\\theta_{3} \\right)} \\sin{\\left(u \\right)}\\right) \\cos{\\left(u \\right)} + \\left(- \\sin^{2}{\\left(u \\right)} \\cos{\\left(\\theta_{2} \\right)} + \\cos^{2}{\\left(u \\right)}\\right) \\sin{\\left(u \\right)}\\right) \\sin{\\left(v \\right)}\\end{matrix}\\right]$"
      ],
      "text/plain": [
       "Matrix([\n",
       "[(-((-sin(u)**2 + cos(theta_2)*cos(u)**2)*cos(theta_3) - sin(theta_2)*sin(theta_3)*cos(u))*sin(u) + (-sin(u)*cos(theta_2)*cos(u) - sin(u)*cos(u))*cos(u))*sin(v) + (((-sin(u)**2 + cos(theta_2)*cos(u)**2)*cos(theta_3) - sin(theta_2)*sin(theta_3)*cos(u))*cos(u) + (-sin(u)*cos(theta_2)*cos(u) - sin(u)*cos(u))*sin(u))*cos(v),        (-sin(u)**2 + cos(theta_2)*cos(u)**2)*sin(theta_3) + sin(theta_2)*cos(theta_3)*cos(u), (-((-sin(u)**2 + cos(theta_2)*cos(u)**2)*cos(theta_3) - sin(theta_2)*sin(theta_3)*cos(u))*sin(u) + (-sin(u)*cos(theta_2)*cos(u) - sin(u)*cos(u))*cos(u))*cos(v) - (((-sin(u)**2 + cos(theta_2)*cos(u)**2)*cos(theta_3) - sin(theta_2)*sin(theta_3)*cos(u))*cos(u) + (-sin(u)*cos(theta_2)*cos(u) - sin(u)*cos(u))*sin(u))*sin(v)],\n",
       "[                                                                                                        (-(-sin(theta_2)*cos(theta_3)*cos(u) - sin(theta_3)*cos(theta_2))*sin(u) + sin(theta_2)*sin(u)*cos(u))*sin(v) + ((-sin(theta_2)*cos(theta_3)*cos(u) - sin(theta_3)*cos(theta_2))*cos(u) + sin(theta_2)*sin(u)**2)*cos(v),                                -sin(theta_2)*sin(theta_3)*cos(u) + cos(theta_2)*cos(theta_3),                                                                                                         (-(-sin(theta_2)*cos(theta_3)*cos(u) - sin(theta_3)*cos(theta_2))*sin(u) + sin(theta_2)*sin(u)*cos(u))*cos(v) - ((-sin(theta_2)*cos(theta_3)*cos(u) - sin(theta_3)*cos(theta_2))*cos(u) + sin(theta_2)*sin(u)**2)*sin(v)],\n",
       "[  (-((sin(u)*cos(theta_2)*cos(u) + sin(u)*cos(u))*cos(theta_3) - sin(theta_2)*sin(theta_3)*sin(u))*sin(u) + (-sin(u)**2*cos(theta_2) + cos(u)**2)*cos(u))*sin(v) + (((sin(u)*cos(theta_2)*cos(u) + sin(u)*cos(u))*cos(theta_3) - sin(theta_2)*sin(theta_3)*sin(u))*cos(u) + (-sin(u)**2*cos(theta_2) + cos(u)**2)*sin(u))*cos(v), (sin(u)*cos(theta_2)*cos(u) + sin(u)*cos(u))*sin(theta_3) + sin(theta_2)*sin(u)*cos(theta_3),   (-((sin(u)*cos(theta_2)*cos(u) + sin(u)*cos(u))*cos(theta_3) - sin(theta_2)*sin(theta_3)*sin(u))*sin(u) + (-sin(u)**2*cos(theta_2) + cos(u)**2)*cos(u))*cos(v) - (((sin(u)*cos(theta_2)*cos(u) + sin(u)*cos(u))*cos(theta_3) - sin(theta_2)*sin(theta_3)*sin(u))*cos(u) + (-sin(u)**2*cos(theta_2) + cos(u)**2)*sin(u))*sin(v)]])"
      ]
     },
     "execution_count": 97,
     "metadata": {},
     "output_type": "execute_result"
    }
   ],
   "source": [
    "test"
   ]
  },
  {
   "cell_type": "code",
   "execution_count": null,
   "id": "dirty-shelf",
   "metadata": {},
   "outputs": [],
   "source": []
  }
 ],
 "metadata": {
  "kernelspec": {
   "display_name": "Python 3",
   "language": "python",
   "name": "python3"
  },
  "language_info": {
   "codemirror_mode": {
    "name": "ipython",
    "version": 3
   },
   "file_extension": ".py",
   "mimetype": "text/x-python",
   "name": "python",
   "nbconvert_exporter": "python",
   "pygments_lexer": "ipython3",
   "version": "3.9.1"
  },
  "toc-autonumbering": true,
  "toc-showmarkdowntxt": false
 },
 "nbformat": 4,
 "nbformat_minor": 5
}
