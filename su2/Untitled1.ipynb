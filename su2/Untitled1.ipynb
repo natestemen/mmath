{
 "cells": [
  {
   "cell_type": "code",
   "execution_count": 12,
   "id": "dress-floating",
   "metadata": {},
   "outputs": [],
   "source": [
    "import numpy as np\n",
    "from numpy import cos, sin\n",
    "from itertools import product\n",
    "\n",
    "import matplotlib\n",
    "matplotlib.rcParams['text.usetex'] = True\n",
    "import matplotlib.pyplot as plt\n",
    "plt.style.use('ggplot')"
   ]
  },
  {
   "cell_type": "code",
   "execution_count": 20,
   "id": "normal-deposit",
   "metadata": {},
   "outputs": [],
   "source": [
    "numpoints = 10\n",
    "domain = np.linspace(0, 2 * np.pi, numpoints)\n",
    "# iden, X, Y, Z = np.identity(2), msigma(1), msigma(2), msigma(3)\n",
    "iden = np.identity(2)\n",
    "X = np.matrix('0 1; 1 0')\n",
    "Y = np.matrix('0 -1j; 1j 0')\n",
    "Z = np.matrix('1 0; 0 -1')"
   ]
  },
  {
   "cell_type": "code",
   "execution_count": 4,
   "id": "jewish-chinese",
   "metadata": {},
   "outputs": [
    {
     "data": {
      "text/plain": [
       "matrix([[0, 1],\n",
       "        [1, 0]])"
      ]
     },
     "execution_count": 4,
     "metadata": {},
     "output_type": "execute_result"
    }
   ],
   "source": [
    "X"
   ]
  },
  {
   "cell_type": "code",
   "execution_count": null,
   "id": "recreational-bulletin",
   "metadata": {},
   "outputs": [],
   "source": []
  },
  {
   "cell_type": "code",
   "execution_count": 21,
   "id": "patent-kinase",
   "metadata": {},
   "outputs": [],
   "source": [
    "allowed = []\n",
    "for theta1, theta2, theta3, alpha, beta in product(domain, repeat=5):\n",
    "    lhs = (cos(theta1) * iden + 1j * sin(theta1) * Z) * (cos(alpha) * iden + 1j * sin(alpha) * Y) * (cos(theta2) * iden + 1j * sin(theta2) * Z) * (cos(alpha) * iden + 1j * sin(alpha) * Y) * (cos(theta3) * iden + 1j * sin(theta3) * Z)\n",
    "    rhs = (cos(beta) * iden + 1j * sin(beta) * Y)\n",
    "    diff = np.allclose(lhs, rhs)\n",
    "    if diff:\n",
    "        allowed.append((alpha, beta))"
   ]
  },
  {
   "cell_type": "code",
   "execution_count": 22,
   "id": "urban-tokyo",
   "metadata": {},
   "outputs": [
    {
     "data": {
      "text/plain": [
       "<matplotlib.collections.PathCollection at 0x7f3efbf779d0>"
      ]
     },
     "execution_count": 22,
     "metadata": {},
     "output_type": "execute_result"
    },
    {
     "data": {
      "image/png": "[encoded data removed]",
      "text/plain": [
       "<Figure size 432x288 with 1 Axes>"
      ]
     },
     "metadata": {},
     "output_type": "display_data"
    }
   ],
   "source": [
    "plt.scatter(*zip(*allowed))"
   ]
  },
  {
   "cell_type": "code",
   "execution_count": 54,
   "id": "compatible-affect",
   "metadata": {},
   "outputs": [],
   "source": [
    "import sympy as sym\n",
    "from sympy import Symbol, I, cos, sin, eye\n",
    "from sympy.matrices import rot_axis1, rot_axis2, rot_axis3, Matrix\n",
    "from sympy.abc import alpha, beta, theta, phi, psi\n",
    "from itertools import product\n",
    "\n",
    "from sympy.physics.paulialgebra import Pauli, evaluate_pauli_product\n",
    "from sympy.physics.matrices import msigma\n",
    "\n",
    "import numpy as np"
   ]
  },
  {
   "cell_type": "code",
   "execution_count": 55,
   "id": "medical-inspiration",
   "metadata": {},
   "outputs": [],
   "source": [
    "lhs = (cos(theta) * eye(2) + I * sin(theta) * msigma(3)) * (cos(alpha) * eye(2) + I * sin(alpha) * msigma(2)) * (cos(phi) * eye(2) + I * sin(phi) * msigma(3)) * (cos(alpha) * eye(2) + I * sin(alpha) * msigma(2)) * (cos(psi) * eye(2) + I * sin(psi) * msigma(3))\n",
    "rhs = cos(beta) * eye(2) + I * sin(beta) * msigma(2)"
   ]
  },
  {
   "cell_type": "code",
   "execution_count": 56,
   "id": "imported-carbon",
   "metadata": {},
   "outputs": [
    {
     "data": {
      "text/latex": [
       "$\\displaystyle \\left[\\begin{matrix}\\left(i \\sin{\\left(\\psi \\right)} + \\cos{\\left(\\psi \\right)}\\right) \\left(- \\left(- i \\sin{\\left(\\phi \\right)} + \\cos{\\left(\\phi \\right)}\\right) \\left(i \\sin{\\left(\\theta \\right)} + \\cos{\\left(\\theta \\right)}\\right) \\sin^{2}{\\left(\\alpha \\right)} + \\left(i \\sin{\\left(\\phi \\right)} + \\cos{\\left(\\phi \\right)}\\right) \\left(i \\sin{\\left(\\theta \\right)} + \\cos{\\left(\\theta \\right)}\\right) \\cos^{2}{\\left(\\alpha \\right)}\\right) & \\left(- i \\sin{\\left(\\psi \\right)} + \\cos{\\left(\\psi \\right)}\\right) \\left(\\left(- i \\sin{\\left(\\phi \\right)} + \\cos{\\left(\\phi \\right)}\\right) \\left(i \\sin{\\left(\\theta \\right)} + \\cos{\\left(\\theta \\right)}\\right) \\sin{\\left(\\alpha \\right)} \\cos{\\left(\\alpha \\right)} + \\left(i \\sin{\\left(\\phi \\right)} + \\cos{\\left(\\phi \\right)}\\right) \\left(i \\sin{\\left(\\theta \\right)} + \\cos{\\left(\\theta \\right)}\\right) \\sin{\\left(\\alpha \\right)} \\cos{\\left(\\alpha \\right)}\\right)\\\\\\left(i \\sin{\\left(\\psi \\right)} + \\cos{\\left(\\psi \\right)}\\right) \\left(- \\left(- i \\sin{\\left(\\phi \\right)} + \\cos{\\left(\\phi \\right)}\\right) \\left(- i \\sin{\\left(\\theta \\right)} + \\cos{\\left(\\theta \\right)}\\right) \\sin{\\left(\\alpha \\right)} \\cos{\\left(\\alpha \\right)} - \\left(i \\sin{\\left(\\phi \\right)} + \\cos{\\left(\\phi \\right)}\\right) \\left(- i \\sin{\\left(\\theta \\right)} + \\cos{\\left(\\theta \\right)}\\right) \\sin{\\left(\\alpha \\right)} \\cos{\\left(\\alpha \\right)}\\right) & \\left(- i \\sin{\\left(\\psi \\right)} + \\cos{\\left(\\psi \\right)}\\right) \\left(\\left(- i \\sin{\\left(\\phi \\right)} + \\cos{\\left(\\phi \\right)}\\right) \\left(- i \\sin{\\left(\\theta \\right)} + \\cos{\\left(\\theta \\right)}\\right) \\cos^{2}{\\left(\\alpha \\right)} - \\left(i \\sin{\\left(\\phi \\right)} + \\cos{\\left(\\phi \\right)}\\right) \\left(- i \\sin{\\left(\\theta \\right)} + \\cos{\\left(\\theta \\right)}\\right) \\sin^{2}{\\left(\\alpha \\right)}\\right)\\end{matrix}\\right]$"
      ],
      "text/plain": [
       "Matrix([\n",
       "[                  (I*sin(psi) + cos(psi))*(-(-I*sin(phi) + cos(phi))*(I*sin(theta) + cos(theta))*sin(alpha)**2 + (I*sin(phi) + cos(phi))*(I*sin(theta) + cos(theta))*cos(alpha)**2), (-I*sin(psi) + cos(psi))*((-I*sin(phi) + cos(phi))*(I*sin(theta) + cos(theta))*sin(alpha)*cos(alpha) + (I*sin(phi) + cos(phi))*(I*sin(theta) + cos(theta))*sin(alpha)*cos(alpha))],\n",
       "[(I*sin(psi) + cos(psi))*(-(-I*sin(phi) + cos(phi))*(-I*sin(theta) + cos(theta))*sin(alpha)*cos(alpha) - (I*sin(phi) + cos(phi))*(-I*sin(theta) + cos(theta))*sin(alpha)*cos(alpha)),               (-I*sin(psi) + cos(psi))*((-I*sin(phi) + cos(phi))*(-I*sin(theta) + cos(theta))*cos(alpha)**2 - (I*sin(phi) + cos(phi))*(-I*sin(theta) + cos(theta))*sin(alpha)**2)]])"
      ]
     },
     "execution_count": 56,
     "metadata": {},
     "output_type": "execute_result"
    }
   ],
   "source": [
    "lhs"
   ]
  },
  {
   "cell_type": "code",
   "execution_count": 57,
   "id": "cross-queue",
   "metadata": {},
   "outputs": [
    {
     "data": {
      "text/latex": [
       "$\\displaystyle \\left[\\begin{matrix}2 \\sin^{2}{\\left(\\alpha \\right)} \\sin{\\left(\\psi \\right)} \\sin{\\left(\\theta \\right)} \\cos{\\left(\\phi \\right)} - 2 i \\sin^{2}{\\left(\\alpha \\right)} \\sin{\\left(\\psi \\right)} \\cos{\\left(\\phi \\right)} \\cos{\\left(\\theta \\right)} - 2 i \\sin^{2}{\\left(\\alpha \\right)} \\sin{\\left(\\theta \\right)} \\cos{\\left(\\phi \\right)} \\cos{\\left(\\psi \\right)} - 2 \\sin^{2}{\\left(\\alpha \\right)} \\cos{\\left(\\phi \\right)} \\cos{\\left(\\psi \\right)} \\cos{\\left(\\theta \\right)} - i \\sin{\\left(\\phi \\right)} \\sin{\\left(\\psi \\right)} \\sin{\\left(\\theta \\right)} - \\sin{\\left(\\phi \\right)} \\sin{\\left(\\psi \\right)} \\cos{\\left(\\theta \\right)} - \\sin{\\left(\\phi \\right)} \\sin{\\left(\\theta \\right)} \\cos{\\left(\\psi \\right)} + i \\sin{\\left(\\phi \\right)} \\cos{\\left(\\psi \\right)} \\cos{\\left(\\theta \\right)} - \\sin{\\left(\\psi \\right)} \\sin{\\left(\\theta \\right)} \\cos{\\left(\\phi \\right)} + i \\sin{\\left(\\psi \\right)} \\cos{\\left(\\phi \\right)} \\cos{\\left(\\theta \\right)} + i \\sin{\\left(\\theta \\right)} \\cos{\\left(\\phi \\right)} \\cos{\\left(\\psi \\right)} + \\cos{\\left(\\phi \\right)} \\cos{\\left(\\psi \\right)} \\cos{\\left(\\theta \\right)} & 2 e^{i \\left(- \\psi + \\theta\\right)} \\sin{\\left(\\alpha \\right)} \\cos{\\left(\\alpha \\right)} \\cos{\\left(\\phi \\right)}\\\\- 2 e^{i \\left(\\psi - \\theta\\right)} \\sin{\\left(\\alpha \\right)} \\cos{\\left(\\alpha \\right)} \\cos{\\left(\\phi \\right)} & i \\sin{\\left(\\phi \\right)} \\sin{\\left(\\psi \\right)} \\sin{\\left(\\theta \\right)} - \\sin{\\left(\\phi \\right)} \\sin{\\left(\\psi \\right)} \\cos{\\left(\\theta \\right)} - \\sin{\\left(\\phi \\right)} \\sin{\\left(\\theta \\right)} \\cos{\\left(\\psi \\right)} - i \\sin{\\left(\\phi \\right)} \\cos{\\left(\\psi \\right)} \\cos{\\left(\\theta \\right)} - 2 \\sin{\\left(\\psi \\right)} \\sin{\\left(\\theta \\right)} \\cos^{2}{\\left(\\alpha \\right)} \\cos{\\left(\\phi \\right)} + \\sin{\\left(\\psi \\right)} \\sin{\\left(\\theta \\right)} \\cos{\\left(\\phi \\right)} - 2 i \\sin{\\left(\\psi \\right)} \\cos^{2}{\\left(\\alpha \\right)} \\cos{\\left(\\phi \\right)} \\cos{\\left(\\theta \\right)} + i \\sin{\\left(\\psi \\right)} \\cos{\\left(\\phi \\right)} \\cos{\\left(\\theta \\right)} - 2 i \\sin{\\left(\\theta \\right)} \\cos^{2}{\\left(\\alpha \\right)} \\cos{\\left(\\phi \\right)} \\cos{\\left(\\psi \\right)} + i \\sin{\\left(\\theta \\right)} \\cos{\\left(\\phi \\right)} \\cos{\\left(\\psi \\right)} + 2 \\cos^{2}{\\left(\\alpha \\right)} \\cos{\\left(\\phi \\right)} \\cos{\\left(\\psi \\right)} \\cos{\\left(\\theta \\right)} - \\cos{\\left(\\phi \\right)} \\cos{\\left(\\psi \\right)} \\cos{\\left(\\theta \\right)}\\end{matrix}\\right]$"
      ],
      "text/plain": [
       "Matrix([\n",
       "[2*sin(alpha)**2*sin(psi)*sin(theta)*cos(phi) - 2*I*sin(alpha)**2*sin(psi)*cos(phi)*cos(theta) - 2*I*sin(alpha)**2*sin(theta)*cos(phi)*cos(psi) - 2*sin(alpha)**2*cos(phi)*cos(psi)*cos(theta) - I*sin(phi)*sin(psi)*sin(theta) - sin(phi)*sin(psi)*cos(theta) - sin(phi)*sin(theta)*cos(psi) + I*sin(phi)*cos(psi)*cos(theta) - sin(psi)*sin(theta)*cos(phi) + I*sin(psi)*cos(phi)*cos(theta) + I*sin(theta)*cos(phi)*cos(psi) + cos(phi)*cos(psi)*cos(theta),                                                                                                                                                                                                                                                                                                                                                                                                        2*exp(I*(-psi + theta))*sin(alpha)*cos(alpha)*cos(phi)],\n",
       "[                                                                                                                                                                                                                                                                                                                                                                                                       -2*exp(I*(psi - theta))*sin(alpha)*cos(alpha)*cos(phi), I*sin(phi)*sin(psi)*sin(theta) - sin(phi)*sin(psi)*cos(theta) - sin(phi)*sin(theta)*cos(psi) - I*sin(phi)*cos(psi)*cos(theta) - 2*sin(psi)*sin(theta)*cos(alpha)**2*cos(phi) + sin(psi)*sin(theta)*cos(phi) - 2*I*sin(psi)*cos(alpha)**2*cos(phi)*cos(theta) + I*sin(psi)*cos(phi)*cos(theta) - 2*I*sin(theta)*cos(alpha)**2*cos(phi)*cos(psi) + I*sin(theta)*cos(phi)*cos(psi) + 2*cos(alpha)**2*cos(phi)*cos(psi)*cos(theta) - cos(phi)*cos(psi)*cos(theta)]])"
      ]
     },
     "execution_count": 57,
     "metadata": {},
     "output_type": "execute_result"
    }
   ],
   "source": [
    "sym.simplify(lhs.expand())"
   ]
  },
  {
   "cell_type": "code",
   "execution_count": 36,
   "id": "duplicate-weight",
   "metadata": {},
   "outputs": [
    {
     "ename": "TypeError",
     "evalue": "X must be a row or a column matrix",
     "output_type": "error",
     "traceback": [
      "\u001b[0;31m---------------------------------------------------------------------------\u001b[0m",
      "\u001b[0;31mTypeError\u001b[0m                                 Traceback (most recent call last)",
      "\u001b[0;32m<ipython-input-36-c62c647eed6b>\u001b[0m in \u001b[0;36m<module>\u001b[0;34m\u001b[0m\n\u001b[1;32m      1\u001b[0m \u001b[0;31m# tlhs =\u001b[0m\u001b[0;34m\u001b[0m\u001b[0;34m\u001b[0m\u001b[0;34m\u001b[0m\u001b[0m\n\u001b[0;32m----> 2\u001b[0;31m \u001b[0msym\u001b[0m\u001b[0;34m.\u001b[0m\u001b[0mnsolve\u001b[0m\u001b[0;34m(\u001b[0m\u001b[0mlhs\u001b[0m\u001b[0;34m,\u001b[0m \u001b[0mrhs\u001b[0m\u001b[0;34m,\u001b[0m \u001b[0;36m0\u001b[0m\u001b[0;34m)\u001b[0m\u001b[0;34m\u001b[0m\u001b[0;34m\u001b[0m\u001b[0m\n\u001b[0m",
      "\u001b[0;32m~/.local/lib/python3.9/site-packages/sympy/utilities/decorator.py\u001b[0m in \u001b[0;36mfunc_wrapper\u001b[0;34m(*args, **kwargs)\u001b[0m\n\u001b[1;32m     86\u001b[0m         \u001b[0mdps\u001b[0m \u001b[0;34m=\u001b[0m \u001b[0mmpmath\u001b[0m\u001b[0;34m.\u001b[0m\u001b[0mmp\u001b[0m\u001b[0;34m.\u001b[0m\u001b[0mdps\u001b[0m\u001b[0;34m\u001b[0m\u001b[0;34m\u001b[0m\u001b[0m\n\u001b[1;32m     87\u001b[0m         \u001b[0;32mtry\u001b[0m\u001b[0;34m:\u001b[0m\u001b[0;34m\u001b[0m\u001b[0;34m\u001b[0m\u001b[0m\n\u001b[0;32m---> 88\u001b[0;31m             \u001b[0;32mreturn\u001b[0m \u001b[0mfunc\u001b[0m\u001b[0;34m(\u001b[0m\u001b[0;34m*\u001b[0m\u001b[0margs\u001b[0m\u001b[0;34m,\u001b[0m \u001b[0;34m**\u001b[0m\u001b[0mkwargs\u001b[0m\u001b[0;34m)\u001b[0m\u001b[0;34m\u001b[0m\u001b[0;34m\u001b[0m\u001b[0m\n\u001b[0m\u001b[1;32m     89\u001b[0m         \u001b[0;32mfinally\u001b[0m\u001b[0;34m:\u001b[0m\u001b[0;34m\u001b[0m\u001b[0;34m\u001b[0m\u001b[0m\n\u001b[1;32m     90\u001b[0m             \u001b[0mmpmath\u001b[0m\u001b[0;34m.\u001b[0m\u001b[0mmp\u001b[0m\u001b[0;34m.\u001b[0m\u001b[0mdps\u001b[0m \u001b[0;34m=\u001b[0m \u001b[0mdps\u001b[0m\u001b[0;34m\u001b[0m\u001b[0;34m\u001b[0m\u001b[0m\n",
      "\u001b[0;32m~/.local/lib/python3.9/site-packages/sympy/solvers/solvers.py\u001b[0m in \u001b[0;36mnsolve\u001b[0;34m(dict, *args, **kwargs)\u001b[0m\n\u001b[1;32m   2945\u001b[0m         \u001b[0mprint\u001b[0m\u001b[0;34m(\u001b[0m\u001b[0mf\u001b[0m\u001b[0;34m)\u001b[0m\u001b[0;34m\u001b[0m\u001b[0;34m\u001b[0m\u001b[0m\n\u001b[1;32m   2946\u001b[0m     \u001b[0;31m# derive Jacobian\u001b[0m\u001b[0;34m\u001b[0m\u001b[0;34m\u001b[0m\u001b[0;34m\u001b[0m\u001b[0m\n\u001b[0;32m-> 2947\u001b[0;31m     \u001b[0mJ\u001b[0m \u001b[0;34m=\u001b[0m \u001b[0mf\u001b[0m\u001b[0;34m.\u001b[0m\u001b[0mjacobian\u001b[0m\u001b[0;34m(\u001b[0m\u001b[0mfargs\u001b[0m\u001b[0;34m)\u001b[0m\u001b[0;34m\u001b[0m\u001b[0;34m\u001b[0m\u001b[0m\n\u001b[0m\u001b[1;32m   2948\u001b[0m     \u001b[0;32mif\u001b[0m \u001b[0mverbose\u001b[0m\u001b[0;34m:\u001b[0m\u001b[0;34m\u001b[0m\u001b[0;34m\u001b[0m\u001b[0m\n\u001b[1;32m   2949\u001b[0m         \u001b[0mprint\u001b[0m\u001b[0;34m(\u001b[0m\u001b[0;34m'J(x):'\u001b[0m\u001b[0;34m)\u001b[0m\u001b[0;34m\u001b[0m\u001b[0;34m\u001b[0m\u001b[0m\n",
      "\u001b[0;32m~/.local/lib/python3.9/site-packages/sympy/matrices/matrices.py\u001b[0m in \u001b[0;36mjacobian\u001b[0;34m(self, X)\u001b[0m\n\u001b[1;32m    544\u001b[0m             \u001b[0mn\u001b[0m \u001b[0;34m=\u001b[0m \u001b[0mX\u001b[0m\u001b[0;34m.\u001b[0m\u001b[0mshape\u001b[0m\u001b[0;34m[\u001b[0m\u001b[0;36m0\u001b[0m\u001b[0;34m]\u001b[0m\u001b[0;34m\u001b[0m\u001b[0;34m\u001b[0m\u001b[0m\n\u001b[1;32m    545\u001b[0m         \u001b[0;32melse\u001b[0m\u001b[0;34m:\u001b[0m\u001b[0;34m\u001b[0m\u001b[0;34m\u001b[0m\u001b[0m\n\u001b[0;32m--> 546\u001b[0;31m             \u001b[0;32mraise\u001b[0m \u001b[0mTypeError\u001b[0m\u001b[0;34m(\u001b[0m\u001b[0;34m\"X must be a row or a column matrix\"\u001b[0m\u001b[0;34m)\u001b[0m\u001b[0;34m\u001b[0m\u001b[0;34m\u001b[0m\u001b[0m\n\u001b[0m\u001b[1;32m    547\u001b[0m \u001b[0;34m\u001b[0m\u001b[0m\n\u001b[1;32m    548\u001b[0m         \u001b[0;31m# m is the number of functions and n is the number of variables\u001b[0m\u001b[0;34m\u001b[0m\u001b[0;34m\u001b[0m\u001b[0;34m\u001b[0m\u001b[0m\n",
      "\u001b[0;31mTypeError\u001b[0m: X must be a row or a column matrix"
     ]
    }
   ],
   "source": [
    "# tlhs = \n",
    "sym.nsolve(lhs, rhs, 0)"
   ]
  },
  {
   "cell_type": "code",
   "execution_count": null,
   "id": "english-doctrine",
   "metadata": {},
   "outputs": [],
   "source": []
  }
 ],
 "metadata": {
  "kernelspec": {
   "display_name": "Python 3",
   "language": "python",
   "name": "python3"
  },
  "language_info": {
   "codemirror_mode": {
    "name": "ipython",
    "version": 3
   },
   "file_extension": ".py",
   "mimetype": "text/x-python",
   "name": "python",
   "nbconvert_exporter": "python",
   "pygments_lexer": "ipython3",
   "version": "3.9.2"
  }
 },
 "nbformat": 4,
 "nbformat_minor": 5
}
