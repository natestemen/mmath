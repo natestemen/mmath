{
 "cells": [
  {
   "cell_type": "code",
   "execution_count": 1,
   "id": "painted-arnold",
   "metadata": {},
   "outputs": [],
   "source": [
    "import sympy as sym\n",
    "from sympy import Symbol, I\n",
    "from sympy.matrices import rot_axis1, rot_axis2, rot_axis3, Matrix\n",
    "from sympy.abc import alpha, beta, theta, phi\n",
    "from itertools import product\n",
    "\n",
    "from sympy.physics.paulialgebra import Pauli, evaluate_pauli_product\n",
    "from sympy.physics.matrices import msigma\n",
    "\n",
    "import numpy as np"
   ]
  },
  {
   "cell_type": "code",
   "execution_count": 18,
   "id": "norwegian-voice",
   "metadata": {},
   "outputs": [
    {
     "data": {
      "text/latex": [
       "$\\displaystyle \\left[\\begin{matrix}0 & - i\\\\i & 0\\end{matrix}\\right]$"
      ],
      "text/plain": [
       "Matrix([\n",
       "[0, -I],\n",
       "[I,  0]])"
      ]
     },
     "execution_count": 18,
     "metadata": {},
     "output_type": "execute_result"
    }
   ],
   "source": [
    "msigma(2)"
   ]
  },
  {
   "cell_type": "code",
   "execution_count": 29,
   "id": "handmade-twenty",
   "metadata": {},
   "outputs": [],
   "source": [
    "pauliX = np.matrix('0 1; 1 0')\n",
    "pauliY = np.matrix('0 -1j; 1j 0')\n",
    "pauliZ = np.matrix('1 0; 0 -1')\n",
    "\n",
    "def commutator(X, Y):\n",
    "    return X * Y - Y * X\n",
    "\n",
    "def bch_approx(X, Y):\n",
    "    comm = commutator(X, Y)\n",
    "    return X + Y + comm / 2 + commutator(X, comm) / 12 - commutator(Y, comm) / 12 - commutator(Y, commutator(X, comm)) / 24\n",
    "\n",
    "def compute_approx(alpha, beta, theta, phi):\n",
    "    Z1 = bch_approx(-1j * (beta - 2 * alpha) * pauliY, 1j * theta * pauliZ)\n",
    "    Z2 = bch_approx(1j * alpha * pauliY, 1j * phi * pauliZ)\n",
    "    return bch_approx(Z1, Z2)"
   ]
  },
  {
   "cell_type": "code",
   "execution_count": 32,
   "id": "alternate-wiring",
   "metadata": {},
   "outputs": [
    {
     "name": "stdout",
     "output_type": "stream",
     "text": [
      "0.0 0.0 0.0 0.0\n",
      "0.3306939635357677 0.992081890607303 0.0 0.0\n",
      "0.6613879270715354 1.984163781214606 0.0 0.0\n",
      "0.992081890607303 2.9762456718219092 0.0 0.0\n",
      "1.3227758541430708 3.968327562429212 0.0 0.0\n",
      "1.6534698176788385 4.960409453036515 0.0 0.0\n",
      "1.984163781214606 5.9524913436438185 0.0 0.0\n"
     ]
    }
   ],
   "source": [
    "domain = np.linspace(0, 2 * np.pi, 20)\n",
    "for a, b, t, p in product(domain, repeat=4):\n",
    "    maybe = compute_approx(a, b, t, p)\n",
    "    if np.allclose(maybe, np.zeros((2, 2))):\n",
    "#     if np.linalg.norm(maybe) < 1e-5:\n",
    "        print(a, b, t, p)"
   ]
  }
 ],
 "metadata": {
  "kernelspec": {
   "display_name": "Python 3",
   "language": "python",
   "name": "python3"
  },
  "language_info": {
   "codemirror_mode": {
    "name": "ipython",
    "version": 3
   },
   "file_extension": ".py",
   "mimetype": "text/x-python",
   "name": "python",
   "nbconvert_exporter": "python",
   "pygments_lexer": "ipython3",
   "version": "3.9.2"
  },
  "toc-autonumbering": true,
  "toc-showmarkdowntxt": false
 },
 "nbformat": 4,
 "nbformat_minor": 5
}
