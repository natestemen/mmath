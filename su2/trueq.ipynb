{
 "cells": [
  {
   "cell_type": "code",
   "execution_count": null,
   "id": "widespread-translation",
   "metadata": {},
   "outputs": [],
   "source": [
    "import trueq as tq\n",
    "import trueq.compilation as tqc\n",
    "import numpy as np\n"
   ]
  },
  {
   "cell_type": "code",
   "execution_count": null,
   "id": "verbal-camera",
   "metadata": {},
   "outputs": [],
   "source": [
    "layers = []\n",
    "layers.append(tq.math.rotation.Rotation(tq.Gate.z.mat, \"a\"))\n",
    "layers.append(tq.math.rotation.FixedRotation(tq.Gate.rx(94)))\n",
    "layers.append(tq.math.rotation.Rotation(tq.Gate.z.mat, \"b\"))\n",
    "layers.append(tq.math.rotation.FixedRotation(tq.Gate.rx(94)))\n",
    "layers.append(tq.math.rotation.Rotation(tq.Gate.z.mat, \"c\"))\n",
    "layers.append(tq.math.rotation.FixedRotation(tq.Gate.rx(94)))\n",
    "layers.append(tq.math.rotation.Rotation(tq.Gate.z.mat, \"d\"))\n",
    "fact = tq.config.GateFactory(\"U\", layers=layers)\n",
    "comp = tqc.NativeExact(factories=[fact], tol=1e-8)"
   ]
  },
  {
   "cell_type": "code",
   "execution_count": null,
   "id": "organized-completion",
   "metadata": {},
   "outputs": [],
   "source": [
    "for j in np.linspace(0, 180, 1000):\n",
    "    a = comp.apply((0,), tq.Gate.ry(j))"
   ]
  },
  {
   "cell_type": "code",
   "execution_count": null,
   "id": "subject-panel",
   "metadata": {},
   "outputs": [],
   "source": [
    "a[0][(0,)]"
   ]
  },
  {
   "cell_type": "code",
   "execution_count": null,
   "id": "educational-leader",
   "metadata": {},
   "outputs": [],
   "source": []
  }
 ],
 "metadata": {
  "kernelspec": {
   "display_name": "Python 3",
   "language": "python",
   "name": "python3"
  },
  "language_info": {
   "codemirror_mode": {
    "name": "ipython",
    "version": 3
   },
   "file_extension": ".py",
   "mimetype": "text/x-python",
   "name": "python",
   "nbconvert_exporter": "python",
   "pygments_lexer": "ipython3",
   "version": "3.9.2"
  }
 },
 "nbformat": 4,
 "nbformat_minor": 5
}
