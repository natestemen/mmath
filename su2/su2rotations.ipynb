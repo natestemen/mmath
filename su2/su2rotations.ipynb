{
 "cells": [
  {
   "cell_type": "code",
   "execution_count": null,
   "id": "built-wagner",
   "metadata": {},
   "outputs": [],
   "source": [
    "import numpy as np\n",
    "from scipy.spatial.transform import Rotation as R\n",
    "\n",
    "import matplotlib\n",
    "matplotlib.rcParams['text.usetex'] = True\n",
    "import matplotlib.pyplot as plt\n",
    "plt.style.use('ggplot')\n",
    "\n",
    "from itertools import product"
   ]
  },
  {
   "cell_type": "code",
   "execution_count": null,
   "id": "flexible-principle",
   "metadata": {},
   "outputs": [],
   "source": [
    "def zrot(angle):\n",
    "    return R.from_euler('z', angle)\n",
    "\n",
    "def yrot(angle):\n",
    "    return R.from_euler('y', angle)"
   ]
  },
  {
   "cell_type": "code",
   "execution_count": null,
   "id": "technological-holly",
   "metadata": {},
   "outputs": [],
   "source": [
    "def construct_prod(zangles, alpha):\n",
    "    if len(zangles) == 0:\n",
    "        return yrot(alpha).as_matrix()\n",
    "    W = R.identity()\n",
    "    if type(zangles) != list:\n",
    "        zangles = [zangles]\n",
    "    for theta in zangles[:-1]:\n",
    "        W *= zrot(theta) * yrot(alpha)\n",
    "    W *= zrot(zangles[-1])\n",
    "    return W.as_matrix()\n",
    "\n",
    "def matrix_diff(zangles, alpha, beta):\n",
    "    zrots = construct_prod(zangles, alpha)\n",
    "    if len(zangles) == 0:\n",
    "        yrots = yrot(beta).as_matrix()\n",
    "    else:\n",
    "        yrots = yrot(beta).as_matrix()\n",
    "    return np.linalg.norm(zrots - yrots)"
   ]
  },
  {
   "cell_type": "code",
   "execution_count": null,
   "id": "municipal-shopping",
   "metadata": {},
   "outputs": [],
   "source": [
    "def allowed_angles(m, num_points=20, tolerance=1e-10):\n",
    "    alphas, betas = [], []\n",
    "    domain = np.linspace(0, 2*np.pi, num_points)\n",
    "    params = product(domain, repeat=m + 2)\n",
    "    for *thetas, alpha, beta in params:\n",
    "        diff = matrix_diff(thetas, alpha, beta)\n",
    "        if diff < tolerance:\n",
    "            alphas.append(alpha)\n",
    "            betas.append(beta)\n",
    "    \n",
    "    return alphas, betas"
   ]
  },
  {
   "cell_type": "code",
   "execution_count": null,
   "id": "adjustable-turtle",
   "metadata": {},
   "outputs": [],
   "source": [
    "a0, b0 = allowed_angles(0, num_points=40, tolerance=1e-4)"
   ]
  },
  {
   "cell_type": "code",
   "execution_count": null,
   "id": "protected-engine",
   "metadata": {},
   "outputs": [],
   "source": [
    "fig, ax = plt.subplots(figsize=(6, 4))\n",
    "ax.scatter(a0, b0, marker='s')\n",
    "\n",
    "ax.set_xticks([0, 2 * np.pi])\n",
    "ax.set_xticklabels([\"$0$\", \"$2\\pi$\"])\n",
    "ax.set_yticks([0, np.pi, 2 * np.pi])\n",
    "ax.set_yticklabels([\"$0$\", \"$\\pi$\", \"$2\\pi$\"])\n",
    "\n",
    "ax.set_xlabel(r\"``Fixed'' $\\alpha$\")\n",
    "ax.set_ylabel(r'Allowed $\\beta$ values')\n",
    "ax.set_title(r'Parameters making $S_0 = \\mathsf{SU}(2)$')\n",
    "\n",
    "# plt.savefig('./s0.pdf')"
   ]
  },
  {
   "cell_type": "code",
   "execution_count": null,
   "id": "identical-machine",
   "metadata": {},
   "outputs": [],
   "source": [
    "a1, b1 = allowed_angles(1, num_points=40, tolerance=1e-5)"
   ]
  },
  {
   "cell_type": "code",
   "execution_count": null,
   "id": "antique-thirty",
   "metadata": {},
   "outputs": [],
   "source": [
    "fig, ax = plt.subplots(figsize=(6, 4))\n",
    "ax.scatter(a1, b1, marker='s')\n",
    "\n",
    "ax.set_xticks([0, np.pi, 2 * np.pi])\n",
    "ax.set_xticklabels([\"$0$\", \"$\\pi$\", \"$2\\pi$\"])\n",
    "ax.set_yticks([0, np.pi, 2 * np.pi])\n",
    "ax.set_yticklabels([\"$0$\", \"$\\pi$\", \"$2\\pi$\"])\n",
    "\n",
    "ax.set_xlabel(r\"``Fixed'' $\\alpha$\")\n",
    "ax.set_ylabel(r'Allowed $\\beta$ values')\n",
    "ax.set_title(r'Parameters making $S_1 = \\mathsf{SU}(2)$')\n",
    "\n",
    "# plt.savefig('./s1.pdf')"
   ]
  },
  {
   "cell_type": "code",
   "execution_count": null,
   "id": "final-calvin",
   "metadata": {},
   "outputs": [],
   "source": [
    "a2, b2 = allowed_angles(2, num_points=20, tolerance=1e-5)"
   ]
  },
  {
   "cell_type": "code",
   "execution_count": null,
   "id": "identical-award",
   "metadata": {},
   "outputs": [],
   "source": [
    "fig, ax = plt.subplots(figsize=(6, 4))\n",
    "ax.scatter(a2, b2, marker='s')\n",
    "\n",
    "ax.set_xticks([0, 2 * np.pi / 3, 4 * np.pi / 3, 2 * np.pi])\n",
    "ax.set_xticklabels([\"$0$\", r\"$2\\pi / 3$\", \"$4\\pi / 3$\", \"$2\\pi$\"])\n",
    "ax.set_yticks([0, np.pi, 2 * np.pi])\n",
    "ax.set_yticklabels([\"$0$\", r\"$\\pi$\", \"$2\\pi$\"])\n",
    "\n",
    "ax.set_xlabel(r\"``Fixed'' $\\alpha$\")\n",
    "ax.set_ylabel(r'Allowed $\\beta$ values')\n",
    "ax.set_title(r'Parameters making $S_2 = \\mathsf{SU}(2)$')\n",
    "\n",
    "# plt.savefig('./s2.pdf')"
   ]
  },
  {
   "cell_type": "code",
   "execution_count": null,
   "id": "pressing-examination",
   "metadata": {},
   "outputs": [],
   "source": [
    "a3, b3 = allowed_angles(3, num_points=10)"
   ]
  },
  {
   "cell_type": "code",
   "execution_count": null,
   "id": "welcome-kuwait",
   "metadata": {},
   "outputs": [],
   "source": [
    "fig, ax = plt.subplots(figsize=(6, 4))\n",
    "ax.scatter(a3, b3, marker='s')\n",
    "\n",
    "ax.set_xticks(     [0,      np.pi / 2,     np.pi, 3 * np.pi / 2,  2 * np.pi])\n",
    "ax.set_xticklabels([\"$0$\", r\"$\\pi / 2$\", \"$\\pi$\",    \"$3\\pi / 2$\", \"$2\\pi$\"])\n",
    "ax.set_yticks([0, np.pi, 2 * np.pi])\n",
    "ax.set_yticklabels([\"$0$\", r\"$\\pi$\", \"$2\\pi$\"])\n",
    "\n",
    "ax.set_xlabel(r\"``Fixed'' $\\alpha$\")\n",
    "ax.set_ylabel(r'Allowed $\\beta$ values')\n",
    "ax.set_title(r'Parameters making $S_3 = \\mathsf{SU}(2)$')\n",
    "\n",
    "# plt.savefig('./s3.pdf')"
   ]
  },
  {
   "cell_type": "markdown",
   "id": "manual-miami",
   "metadata": {},
   "source": [
    "## The rest of the file was for testing purposes!"
   ]
  },
  {
   "cell_type": "code",
   "execution_count": null,
   "id": "victorian-foster",
   "metadata": {},
   "outputs": [],
   "source": []
  },
  {
   "cell_type": "code",
   "execution_count": null,
   "id": "empirical-therapy",
   "metadata": {},
   "outputs": [],
   "source": []
  },
  {
   "cell_type": "code",
   "execution_count": null,
   "id": "frequent-fountain",
   "metadata": {},
   "outputs": [],
   "source": []
  },
  {
   "cell_type": "code",
   "execution_count": null,
   "id": "adverse-council",
   "metadata": {},
   "outputs": [],
   "source": [
    "test = [ (1, 2, 3), (1, 2, 3), (4, 5, 6)]\n",
    "for *thetas, b in test:\n",
    "    print(thetas)"
   ]
  },
  {
   "cell_type": "code",
   "execution_count": null,
   "id": "tender-benjamin",
   "metadata": {},
   "outputs": [],
   "source": [
    "max_riffle = 2\n",
    "num_points = 20\n",
    "epsilon = 1e-8\n",
    "\n",
    "uspace, vspace = np.linspace(0, 2*np.pi, num_points), np.linspace(0, 2*np.pi, num_points)\n",
    "theta_space = np.linspace(0, 2*np.pi, num_points)\n",
    "domain = np.linspace(0, 2*np.pi, num_points)"
   ]
  },
  {
   "cell_type": "code",
   "execution_count": null,
   "id": "reduced-heather",
   "metadata": {},
   "outputs": [],
   "source": [
    "uu, vv, theta = np.meshgrid(domain, domain, domain, indexing='ij')\n",
    "allowed = []\n",
    "for i in range(num_points):\n",
    "    for j in range(num_points):\n",
    "        for k in range(num_points):\n",
    "            alpha, beta = uu[i, j, k], vv[i, j, k]\n",
    "            zangle = theta[i, j, k]\n",
    "            yangle = beta\n",
    "            yrot = R.from_euler('y', yangle).as_matrix()\n",
    "            zrot = R.from_euler('z', zangle).as_matrix()\n",
    "            diff = np.linalg.norm(zrot - yrot)\n",
    "            if diff < epsilon:\n",
    "                allowed.append((alpha, beta))\n",
    "#                 print(f'worked for alpha = {alpha}, beta = {beta}, theta = {zangle} with diff = {diff}')"
   ]
  },
  {
   "cell_type": "code",
   "execution_count": null,
   "id": "unable-presentation",
   "metadata": {},
   "outputs": [],
   "source": [
    "plt.scatter(*zip(*allowed))"
   ]
  },
  {
   "cell_type": "code",
   "execution_count": null,
   "id": "unusual-badge",
   "metadata": {},
   "outputs": [],
   "source": [
    "uu, vv, theta1, theta2 = np.meshgrid(domain, domain, domain, domain, indexing='ij')\n",
    "allowed2 = []\n",
    "for i in range(num_points):\n",
    "    for j in range(num_points):\n",
    "        for k in range(num_points):\n",
    "            for l in range(num_points):\n",
    "                alpha, beta = uu[i, j, k, l], vv[i, j, k, l]\n",
    "                zangle1, zangle2 = theta1[i, j, k, l], theta2[i, j, k, l]\n",
    "                yangle = beta\n",
    "                lhs = (R.from_euler('z', zangle1) * R.from_euler('y', alpha) * R.from_euler('z', zangle2)).as_matrix()\n",
    "                rhs = R.from_euler('y', yangle).as_matrix()\n",
    "                diff = np.linalg.norm(lhs - rhs)\n",
    "                if diff < epsilon:\n",
    "                    allowed2.append((alpha, beta))\n",
    "#                     print(f'worked for alpha = {alpha}, beta = {beta}, theta = {zangle} with diff = {diff}')"
   ]
  },
  {
   "cell_type": "code",
   "execution_count": null,
   "id": "strange-mailman",
   "metadata": {},
   "outputs": [],
   "source": [
    "plt.scatter(*zip(*allowed2))"
   ]
  },
  {
   "cell_type": "code",
   "execution_count": null,
   "id": "worst-current",
   "metadata": {},
   "outputs": [],
   "source": [
    "uu, vv, theta1, theta2, theta3 = np.meshgrid(domain, domain, domain, domain, domain, indexing='ij')\n",
    "allowed3 = []\n",
    "for i in range(num_points):\n",
    "    for j in range(num_points):\n",
    "        for k in range(num_points):\n",
    "            for l in range(num_points):\n",
    "                for n in range(num_points):\n",
    "                    alpha, beta = uu[i, j, k, l, n], vv[i, j, k, l, n]\n",
    "                    zangle1, zangle2, zangle3 = theta1[i, j, k, l, n], theta2[i, j, k, l, n], theta3[i, j, k, l, n]\n",
    "                    yangle = beta - 2 * alpha\n",
    "                    lhs = (R.from_euler('z', zangle1) * R.from_euler('y', alpha) * R.from_euler('z', zangle2) * R.from_euler('y', alpha) * R.from_euler('z', zangle3)).as_matrix()\n",
    "                    rhs = R.from_euler('y', yangle).as_matrix()\n",
    "                    diff = np.linalg.norm(lhs - rhs)\n",
    "                    if diff < epsilon:\n",
    "                        allowed3.append((alpha, beta))\n",
    "    #                     print(f'worked for alpha = {alpha}, beta = {beta}, theta = {zangle} with diff = {diff}')"
   ]
  },
  {
   "cell_type": "code",
   "execution_count": null,
   "id": "plastic-pepper",
   "metadata": {},
   "outputs": [],
   "source": [
    "plt.scatter(*zip(*allowed3))"
   ]
  },
  {
   "cell_type": "code",
   "execution_count": null,
   "id": "random-conditioning",
   "metadata": {},
   "outputs": [],
   "source": []
  }
 ],
 "metadata": {
  "kernelspec": {
   "display_name": "Python 3",
   "language": "python",
   "name": "python3"
  },
  "language_info": {
   "codemirror_mode": {
    "name": "ipython",
    "version": 3
   },
   "file_extension": ".py",
   "mimetype": "text/x-python",
   "name": "python",
   "nbconvert_exporter": "python",
   "pygments_lexer": "ipython3",
   "version": "3.9.2"
  }
 },
 "nbformat": 4,
 "nbformat_minor": 5
}
