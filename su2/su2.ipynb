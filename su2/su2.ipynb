{
 "cells": [
  {
   "cell_type": "code",
   "execution_count": 12,
   "id": "downtown-native",
   "metadata": {},
   "outputs": [],
   "source": [
    "import sympy as sym\n",
    "from sympy import Symbol\n",
    "from sympy.matrices import rot_axis1, rot_axis2, rot_axis3, Matrix\n",
    "from sympy.abc import u, v\n",
    "from itertools import product\n",
    "\n",
    "import numpy as np"
   ]
  },
  {
   "cell_type": "code",
   "execution_count": 6,
   "id": "architectural-joshua",
   "metadata": {},
   "outputs": [],
   "source": [
    "def zrot(symbol_name):\n",
    "    return rot_axis3(Symbol(symbol_name))\n",
    "\n",
    "def yrot(symbol_name):\n",
    "    return rot_axis2(Symbol(symbol_name))"
   ]
  },
  {
   "cell_type": "code",
   "execution_count": 7,
   "id": "located-coordinate",
   "metadata": {},
   "outputs": [],
   "source": [
    "def construct_prod(m):\n",
    "    W = sym.eye(3)\n",
    "    for i in range(m):\n",
    "        W *= yrot('u') * zrot(f'theta_{i}')\n",
    "    W *= yrot('u')\n",
    "    return W"
   ]
  },
  {
   "cell_type": "code",
   "execution_count": 9,
   "id": "statutory-oliver",
   "metadata": {},
   "outputs": [
    {
     "data": {
      "text/latex": [
       "$\\displaystyle \\left[\\begin{matrix}- \\sin^{2}{\\left(u \\right)} + \\cos{\\left(\\theta_{0} \\right)} \\cos^{2}{\\left(u \\right)} & \\sin{\\left(\\theta_{0} \\right)} \\cos{\\left(u \\right)} & - \\sin{\\left(u \\right)} \\cos{\\left(\\theta_{0} \\right)} \\cos{\\left(u \\right)} - \\sin{\\left(u \\right)} \\cos{\\left(u \\right)}\\\\- \\sin{\\left(\\theta_{0} \\right)} \\cos{\\left(u \\right)} & \\cos{\\left(\\theta_{0} \\right)} & \\sin{\\left(\\theta_{0} \\right)} \\sin{\\left(u \\right)}\\\\\\sin{\\left(u \\right)} \\cos{\\left(\\theta_{0} \\right)} \\cos{\\left(u \\right)} + \\sin{\\left(u \\right)} \\cos{\\left(u \\right)} & \\sin{\\left(\\theta_{0} \\right)} \\sin{\\left(u \\right)} & - \\sin^{2}{\\left(u \\right)} \\cos{\\left(\\theta_{0} \\right)} + \\cos^{2}{\\left(u \\right)}\\end{matrix}\\right]$"
      ],
      "text/plain": [
       "Matrix([\n",
       "[       -sin(u)**2 + cos(theta_0)*cos(u)**2, sin(theta_0)*cos(u), -sin(u)*cos(theta_0)*cos(u) - sin(u)*cos(u)],\n",
       "[                      -sin(theta_0)*cos(u),        cos(theta_0),                         sin(theta_0)*sin(u)],\n",
       "[sin(u)*cos(theta_0)*cos(u) + sin(u)*cos(u), sin(theta_0)*sin(u),         -sin(u)**2*cos(theta_0) + cos(u)**2]])"
      ]
     },
     "execution_count": 9,
     "metadata": {},
     "output_type": "execute_result"
    }
   ],
   "source": [
    "t = construct_prod(1)\n",
    "t"
   ]
  },
  {
   "cell_type": "code",
   "execution_count": 10,
   "id": "descending-columbus",
   "metadata": {},
   "outputs": [
    {
     "data": {
      "text/latex": [
       "$\\displaystyle \\left[\\begin{matrix}- \\sin^{2}{\\left(u \\right)} + \\cos{\\left(\\theta_{2} \\right)} \\cos^{2}{\\left(u \\right)} & \\sin{\\left(\\theta_{2} \\right)} \\cos{\\left(u \\right)} & - \\sin{\\left(u \\right)} \\cos{\\left(\\theta_{2} \\right)} \\cos{\\left(u \\right)} - \\sin{\\left(u \\right)} \\cos{\\left(u \\right)}\\\\- \\sin{\\left(\\theta_{2} \\right)} \\cos{\\left(u \\right)} & \\cos{\\left(\\theta_{2} \\right)} & \\sin{\\left(\\theta_{2} \\right)} \\sin{\\left(u \\right)}\\\\\\sin{\\left(u \\right)} \\cos{\\left(\\theta_{2} \\right)} \\cos{\\left(u \\right)} + \\sin{\\left(u \\right)} \\cos{\\left(u \\right)} & \\sin{\\left(\\theta_{2} \\right)} \\sin{\\left(u \\right)} & - \\sin^{2}{\\left(u \\right)} \\cos{\\left(\\theta_{2} \\right)} + \\cos^{2}{\\left(u \\right)}\\end{matrix}\\right]$"
      ],
      "text/plain": [
       "Matrix([\n",
       "[       -sin(u)**2 + cos(theta_2)*cos(u)**2, sin(theta_2)*cos(u), -sin(u)*cos(theta_2)*cos(u) - sin(u)*cos(u)],\n",
       "[                      -sin(theta_2)*cos(u),        cos(theta_2),                         sin(theta_2)*sin(u)],\n",
       "[sin(u)*cos(theta_2)*cos(u) + sin(u)*cos(u), sin(theta_2)*sin(u),         -sin(u)**2*cos(theta_2) + cos(u)**2]])"
      ]
     },
     "execution_count": 10,
     "metadata": {},
     "output_type": "execute_result"
    }
   ],
   "source": [
    "test = yrot('u')\n",
    "test *= zrot('theta_2')\n",
    "test *= yrot('u')\n",
    "test"
   ]
  },
  {
   "cell_type": "code",
   "execution_count": null,
   "id": "unauthorized-sleep",
   "metadata": {},
   "outputs": [],
   "source": []
  },
  {
   "cell_type": "code",
   "execution_count": null,
   "id": "fresh-offset",
   "metadata": {},
   "outputs": [],
   "source": []
  },
  {
   "cell_type": "code",
   "execution_count": 90,
   "id": "removed-harvard",
   "metadata": {},
   "outputs": [
    {
     "name": "stdout",
     "output_type": "stream",
     "text": [
      "m = 1------------------\n",
      "0.0 0.0 (0.0,) 0\n",
      "0.0 0.0 (0.03157379551346526,) 0.0446502351091787\n",
      "0.0 0.0 (0.06314759102693052,) 0.0892893424436901\n",
      "0.0 0.0 (6.220037716152656,) 0.0892893424436901\n",
      "0.0 0.0 (6.2516115116661215,) 0.0446502351091783\n",
      "0.0 0.0 (6.283185307179586,) 3.46382422494197e-16\n"
     ]
    }
   ],
   "source": [
    "max_riffle = 2\n",
    "num_points = 200\n",
    "epsilon = 1e-1\n",
    "\n",
    "uspace, vspace = np.linspace(0, 2*np.pi, num_points), np.linspace(0, 2*np.pi, num_points)\n",
    "theta_space = np.linspace(0, 2*np.pi, num_points)\n",
    "\n",
    "data = {}\n",
    "for m in range(1, max_riffle):\n",
    "    print(f'm = {m}------------------')\n",
    "    prod = construct_prod(m)\n",
    "    thetas = product(theta_space, repeat=m)\n",
    "    \n",
    "    for uang, vang in product(uspace, vspace):\n",
    "#         with_uv = prod.subs( { 'u': uang } )\n",
    "#         vrot = yrot('v').subs({ 'v': vang })\n",
    "#         if -1e-4 < vang - 2 * uang < 1e-4:\n",
    "#             print(vang, uang )\n",
    "#             print((with_uv.subs( { 'theta_0': 0}) - vrot).norm())\n",
    "        \n",
    "        for angles in thetas:\n",
    "            with_uv = prod.subs( { 'u': uang } )\n",
    "            vrot = yrot('v').subs({ 'v': vang })\n",
    "            if -1e-2 < vang - 2 * uang < 1e-2 and uang != 0 and vang != 0:\n",
    "                print(uang, vang, (with_uv.subs( { 'theta_0': 0.0 } ) - vrot).norm())\n",
    "            replacements = { f'theta_{i}': angle for i, angle in enumerate(angles) }\n",
    "#             print(replacements)\n",
    "            with_angles = with_uv.subs(replacements)\n",
    "            diff = (with_angles - vrot).norm()\n",
    "#             print(replacements)\n",
    "            if diff < epsilon:\n",
    "                print(uang, vang, angles, diff)"
   ]
  },
  {
   "cell_type": "code",
   "execution_count": 82,
   "id": "exciting-intranet",
   "metadata": {},
   "outputs": [
    {
     "data": {
      "text/plain": [
       "[(0.0,),\n",
       " (0.06346651825433926,),\n",
       " (0.12693303650867852,),\n",
       " (0.1903995547630178,),\n",
       " (0.25386607301735703,),\n",
       " (0.3173325912716963,),\n",
       " (0.3807991095260356,),\n",
       " (0.4442656277803748,),\n",
       " (0.5077321460347141,),\n",
       " (0.5711986642890533,),\n",
       " (0.6346651825433925,),\n",
       " (0.6981317007977318,),\n",
       " (0.7615982190520711,),\n",
       " (0.8250647373064104,),\n",
       " (0.8885312555607496,),\n",
       " (0.9519977738150889,),\n",
       " (1.0154642920694281,),\n",
       " (1.0789308103237674,),\n",
       " (1.1423973285781066,),\n",
       " (1.2058638468324459,),\n",
       " (1.269330365086785,),\n",
       " (1.3327968833411243,),\n",
       " (1.3962634015954636,),\n",
       " (1.4597299198498028,),\n",
       " (1.5231964381041423,),\n",
       " (1.5866629563584815,),\n",
       " (1.6501294746128208,),\n",
       " (1.71359599286716,),\n",
       " (1.7770625111214993,),\n",
       " (1.8405290293758385,),\n",
       " (1.9039955476301778,),\n",
       " (1.967462065884517,),\n",
       " (2.0309285841388562,),\n",
       " (2.0943951023931957,),\n",
       " (2.1578616206475347,),\n",
       " (2.221328138901874,),\n",
       " (2.284794657156213,),\n",
       " (2.3482611754105527,),\n",
       " (2.4117276936648917,),\n",
       " (2.475194211919231,),\n",
       " (2.53866073017357,),\n",
       " (2.6021272484279097,),\n",
       " (2.6655937666822487,),\n",
       " (2.729060284936588,),\n",
       " (2.792526803190927,),\n",
       " (2.8559933214452666,),\n",
       " (2.9194598396996057,),\n",
       " (2.982926357953945,),\n",
       " (3.0463928762082846,),\n",
       " (3.1098593944626236,),\n",
       " (3.173325912716963,),\n",
       " (3.236792430971302,),\n",
       " (3.3002589492256416,),\n",
       " (3.3637254674799806,),\n",
       " (3.42719198573432,),\n",
       " (3.490658503988659,),\n",
       " (3.5541250222429985,),\n",
       " (3.6175915404973376,),\n",
       " (3.681058058751677,),\n",
       " (3.744524577006016,),\n",
       " (3.8079910952603555,),\n",
       " (3.8714576135146945,),\n",
       " (3.934924131769034,),\n",
       " (3.998390650023373,),\n",
       " (4.0618571682777125,),\n",
       " (4.1253236865320515,),\n",
       " (4.188790204786391,),\n",
       " (4.25225672304073,),\n",
       " (4.3157232412950695,),\n",
       " (4.3791897595494085,),\n",
       " (4.442656277803748,),\n",
       " (4.506122796058087,),\n",
       " (4.569589314312426,),\n",
       " (4.6330558325667655,),\n",
       " (4.696522350821105,),\n",
       " (4.759988869075444,),\n",
       " (4.823455387329783,),\n",
       " (4.886921905584122,),\n",
       " (4.950388423838462,),\n",
       " (5.013854942092801,),\n",
       " (5.07732146034714,),\n",
       " (5.14078797860148,),\n",
       " (5.204254496855819,),\n",
       " (5.267721015110158,),\n",
       " (5.331187533364497,),\n",
       " (5.394654051618837,),\n",
       " (5.458120569873176,),\n",
       " (5.521587088127515,),\n",
       " (5.585053606381854,),\n",
       " (5.648520124636194,),\n",
       " (5.711986642890533,),\n",
       " (5.775453161144872,),\n",
       " (5.838919679399211,),\n",
       " (5.902386197653551,),\n",
       " (5.96585271590789,),\n",
       " (6.029319234162229,),\n",
       " (6.092785752416569,),\n",
       " (6.156252270670908,),\n",
       " (6.219718788925247,),\n",
       " (6.283185307179586,)]"
      ]
     },
     "execution_count": 82,
     "metadata": {},
     "output_type": "execute_result"
    }
   ],
   "source": [
    "list(product(np.linspace(0, 2 * np.pi, 100), repeat=1))"
   ]
  },
  {
   "cell_type": "code",
   "execution_count": 186,
   "id": "organizational-garbage",
   "metadata": {},
   "outputs": [],
   "source": [
    "hi = u**2 + v ** 2"
   ]
  },
  {
   "cell_type": "code",
   "execution_count": 188,
   "id": "confident-sleeping",
   "metadata": {},
   "outputs": [],
   "source": [
    "this = hi.subs( { 'u': 3, 'v': 4 })"
   ]
  },
  {
   "cell_type": "code",
   "execution_count": 190,
   "id": "dirty-facial",
   "metadata": {},
   "outputs": [
    {
     "data": {
      "text/latex": [
       "$\\displaystyle 25$"
      ],
      "text/plain": [
       "25"
      ]
     },
     "execution_count": 190,
     "metadata": {},
     "output_type": "execute_result"
    }
   ],
   "source": [
    "this.subs( { 'u': 444 })"
   ]
  },
  {
   "cell_type": "code",
   "execution_count": null,
   "id": "chubby-illustration",
   "metadata": {},
   "outputs": [],
   "source": []
  },
  {
   "cell_type": "code",
   "execution_count": 141,
   "id": "alternative-remove",
   "metadata": {},
   "outputs": [
    {
     "data": {
      "text/latex": [
       "$\\displaystyle \\left[\\begin{matrix}\\frac{\\sqrt{2} \\left(- \\sin{\\left(v + \\frac{\\pi}{4} \\right)} + \\cos{\\left(\\theta_{0} \\right)} \\cos{\\left(v + \\frac{\\pi}{4} \\right)}\\right)}{2} & \\frac{\\sqrt{2} \\sin{\\left(\\theta_{0} \\right)}}{2} & - \\frac{\\sqrt{2} \\left(\\sin{\\left(v + \\frac{\\pi}{4} \\right)} \\cos{\\left(\\theta_{0} \\right)} + \\cos{\\left(v + \\frac{\\pi}{4} \\right)}\\right)}{2}\\\\- \\sin{\\left(\\theta_{0} \\right)} \\cos{\\left(v + \\frac{\\pi}{4} \\right)} & \\cos{\\left(\\theta_{0} \\right)} & \\sin{\\left(\\theta_{0} \\right)} \\sin{\\left(v + \\frac{\\pi}{4} \\right)}\\\\\\frac{\\sqrt{2} \\left(\\sin{\\left(v + \\frac{\\pi}{4} \\right)} + \\cos{\\left(\\theta_{0} \\right)} \\cos{\\left(v + \\frac{\\pi}{4} \\right)}\\right)}{2} & \\frac{\\sqrt{2} \\sin{\\left(\\theta_{0} \\right)}}{2} & - \\frac{\\sqrt{2} \\left(\\sin{\\left(v + \\frac{\\pi}{4} \\right)} \\cos{\\left(\\theta_{0} \\right)} - \\cos{\\left(v + \\frac{\\pi}{4} \\right)}\\right)}{2}\\end{matrix}\\right]$"
      ],
      "text/plain": [
       "Matrix([\n",
       "[sqrt(2)*(-sin(v + pi/4) + cos(theta_0)*cos(v + pi/4))/2, sqrt(2)*sin(theta_0)/2, -sqrt(2)*(sin(v + pi/4)*cos(theta_0) + cos(v + pi/4))/2],\n",
       "[                            -sin(theta_0)*cos(v + pi/4),           cos(theta_0),                              sin(theta_0)*sin(v + pi/4)],\n",
       "[ sqrt(2)*(sin(v + pi/4) + cos(theta_0)*cos(v + pi/4))/2, sqrt(2)*sin(theta_0)/2, -sqrt(2)*(sin(v + pi/4)*cos(theta_0) - cos(v + pi/4))/2]])"
      ]
     },
     "execution_count": 141,
     "metadata": {},
     "output_type": "execute_result"
    }
   ],
   "source": [
    "simplify((yrot('u') * zrot('theta_0') * yrot('u') * yrot('v')).subs( { 'u': pi/4 } ))"
   ]
  },
  {
   "cell_type": "code",
   "execution_count": 142,
   "id": "superior-principle",
   "metadata": {},
   "outputs": [
    {
     "data": {
      "text/latex": [
       "$\\displaystyle \\left[\\begin{matrix}- \\frac{\\sqrt{2} \\left(\\sin{\\left(v + \\frac{\\pi}{4} \\right)} - \\cos{\\left(\\theta_{0} \\right)} \\cos{\\left(v + \\frac{\\pi}{4} \\right)}\\right)}{2} & \\frac{\\sqrt{2} \\sin{\\left(\\theta_{0} \\right)}}{2} & - \\frac{\\sqrt{2} \\left(\\sin{\\left(v + \\frac{\\pi}{4} \\right)} \\cos{\\left(\\theta_{0} \\right)} + \\cos{\\left(v + \\frac{\\pi}{4} \\right)}\\right)}{2}\\\\- \\sin{\\left(\\theta_{0} \\right)} \\cos{\\left(v + \\frac{\\pi}{4} \\right)} & \\cos{\\left(\\theta_{0} \\right)} & \\sin{\\left(\\theta_{0} \\right)} \\sin{\\left(v + \\frac{\\pi}{4} \\right)}\\\\\\frac{\\sqrt{2} \\left(\\sin{\\left(v + \\frac{\\pi}{4} \\right)} + \\cos{\\left(\\theta_{0} \\right)} \\cos{\\left(v + \\frac{\\pi}{4} \\right)}\\right)}{2} & \\frac{\\sqrt{2} \\sin{\\left(\\theta_{0} \\right)}}{2} & \\frac{\\sqrt{2} \\left(- \\sin{\\left(v + \\frac{\\pi}{4} \\right)} \\cos{\\left(\\theta_{0} \\right)} + \\cos{\\left(v + \\frac{\\pi}{4} \\right)}\\right)}{2}\\end{matrix}\\right]$"
      ],
      "text/plain": [
       "Matrix([\n",
       "[-sqrt(2)*(sin(v + pi/4) - cos(theta_0)*cos(v + pi/4))/2, sqrt(2)*sin(theta_0)/2, -sqrt(2)*(sin(v + pi/4)*cos(theta_0) + cos(v + pi/4))/2],\n",
       "[                            -sin(theta_0)*cos(v + pi/4),           cos(theta_0),                              sin(theta_0)*sin(v + pi/4)],\n",
       "[ sqrt(2)*(sin(v + pi/4) + cos(theta_0)*cos(v + pi/4))/2, sqrt(2)*sin(theta_0)/2, sqrt(2)*(-sin(v + pi/4)*cos(theta_0) + cos(v + pi/4))/2]])"
      ]
     },
     "execution_count": 142,
     "metadata": {},
     "output_type": "execute_result"
    }
   ],
   "source": [
    "simplify(t.subs( { 'u': pi/4 } ))"
   ]
  },
  {
   "cell_type": "code",
   "execution_count": 21,
   "id": "certified-viewer",
   "metadata": {},
   "outputs": [
    {
     "data": {
      "text/latex": [
       "$\\displaystyle \\left[\\begin{matrix}\\left(\\left(\\left(1 - \\cos{\\left(\\beta \\right)}\\right) \\cos^{2}{\\left(\\alpha \\right)} + \\cos{\\left(\\beta \\right)}\\right) \\cos{\\left(\\theta_{0} \\right)} + \\sin{\\left(\\alpha \\right)} \\sin{\\left(\\beta \\right)} \\sin{\\left(\\theta_{0} \\right)}\\right) \\cos{\\left(\\theta_{1} \\right)} - \\left(- \\sin{\\left(\\alpha \\right)} \\sin{\\left(\\beta \\right)} \\cos{\\left(\\theta_{0} \\right)} + \\sin{\\left(\\theta_{0} \\right)} \\cos{\\left(\\beta \\right)}\\right) \\sin{\\left(\\theta_{1} \\right)} & \\left(\\left(\\left(1 - \\cos{\\left(\\beta \\right)}\\right) \\cos^{2}{\\left(\\alpha \\right)} + \\cos{\\left(\\beta \\right)}\\right) \\cos{\\left(\\theta_{0} \\right)} + \\sin{\\left(\\alpha \\right)} \\sin{\\left(\\beta \\right)} \\sin{\\left(\\theta_{0} \\right)}\\right) \\sin{\\left(\\theta_{1} \\right)} + \\left(- \\sin{\\left(\\alpha \\right)} \\sin{\\left(\\beta \\right)} \\cos{\\left(\\theta_{0} \\right)} + \\sin{\\left(\\theta_{0} \\right)} \\cos{\\left(\\beta \\right)}\\right) \\cos{\\left(\\theta_{1} \\right)} & \\left(1 - \\cos{\\left(\\beta \\right)}\\right) \\sin{\\left(\\alpha \\right)} \\cos{\\left(\\alpha \\right)} \\cos{\\left(\\theta_{0} \\right)} - \\sin{\\left(\\beta \\right)} \\sin{\\left(\\theta_{0} \\right)} \\cos{\\left(\\alpha \\right)}\\\\\\left(- \\left(\\left(1 - \\cos{\\left(\\beta \\right)}\\right) \\cos^{2}{\\left(\\alpha \\right)} + \\cos{\\left(\\beta \\right)}\\right) \\sin{\\left(\\theta_{0} \\right)} + \\sin{\\left(\\alpha \\right)} \\sin{\\left(\\beta \\right)} \\cos{\\left(\\theta_{0} \\right)}\\right) \\cos{\\left(\\theta_{1} \\right)} - \\left(\\sin{\\left(\\alpha \\right)} \\sin{\\left(\\beta \\right)} \\sin{\\left(\\theta_{0} \\right)} + \\cos{\\left(\\beta \\right)} \\cos{\\left(\\theta_{0} \\right)}\\right) \\sin{\\left(\\theta_{1} \\right)} & \\left(- \\left(\\left(1 - \\cos{\\left(\\beta \\right)}\\right) \\cos^{2}{\\left(\\alpha \\right)} + \\cos{\\left(\\beta \\right)}\\right) \\sin{\\left(\\theta_{0} \\right)} + \\sin{\\left(\\alpha \\right)} \\sin{\\left(\\beta \\right)} \\cos{\\left(\\theta_{0} \\right)}\\right) \\sin{\\left(\\theta_{1} \\right)} + \\left(\\sin{\\left(\\alpha \\right)} \\sin{\\left(\\beta \\right)} \\sin{\\left(\\theta_{0} \\right)} + \\cos{\\left(\\beta \\right)} \\cos{\\left(\\theta_{0} \\right)}\\right) \\cos{\\left(\\theta_{1} \\right)} & - \\left(1 - \\cos{\\left(\\beta \\right)}\\right) \\sin{\\left(\\alpha \\right)} \\sin{\\left(\\theta_{0} \\right)} \\cos{\\left(\\alpha \\right)} - \\sin{\\left(\\beta \\right)} \\cos{\\left(\\alpha \\right)} \\cos{\\left(\\theta_{0} \\right)}\\\\\\left(1 - \\cos{\\left(\\beta \\right)}\\right) \\sin{\\left(\\alpha \\right)} \\cos{\\left(\\alpha \\right)} \\cos{\\left(\\theta_{1} \\right)} - \\sin{\\left(\\beta \\right)} \\sin{\\left(\\theta_{1} \\right)} \\cos{\\left(\\alpha \\right)} & \\left(1 - \\cos{\\left(\\beta \\right)}\\right) \\sin{\\left(\\alpha \\right)} \\sin{\\left(\\theta_{1} \\right)} \\cos{\\left(\\alpha \\right)} + \\sin{\\left(\\beta \\right)} \\cos{\\left(\\alpha \\right)} \\cos{\\left(\\theta_{1} \\right)} & \\left(1 - \\cos{\\left(\\beta \\right)}\\right) \\sin^{2}{\\left(\\alpha \\right)} + \\cos{\\left(\\beta \\right)}\\end{matrix}\\right]$"
      ],
      "text/plain": [
       "Matrix([\n",
       "[(((1 - cos(beta))*cos(alpha)**2 + cos(beta))*cos(theta_0) + sin(alpha)*sin(beta)*sin(theta_0))*cos(theta_1) - (-sin(alpha)*sin(beta)*cos(theta_0) + sin(theta_0)*cos(beta))*sin(theta_1), (((1 - cos(beta))*cos(alpha)**2 + cos(beta))*cos(theta_0) + sin(alpha)*sin(beta)*sin(theta_0))*sin(theta_1) + (-sin(alpha)*sin(beta)*cos(theta_0) + sin(theta_0)*cos(beta))*cos(theta_1),  (1 - cos(beta))*sin(alpha)*cos(alpha)*cos(theta_0) - sin(beta)*sin(theta_0)*cos(alpha)],\n",
       "[(-((1 - cos(beta))*cos(alpha)**2 + cos(beta))*sin(theta_0) + sin(alpha)*sin(beta)*cos(theta_0))*cos(theta_1) - (sin(alpha)*sin(beta)*sin(theta_0) + cos(beta)*cos(theta_0))*sin(theta_1), (-((1 - cos(beta))*cos(alpha)**2 + cos(beta))*sin(theta_0) + sin(alpha)*sin(beta)*cos(theta_0))*sin(theta_1) + (sin(alpha)*sin(beta)*sin(theta_0) + cos(beta)*cos(theta_0))*cos(theta_1), -(1 - cos(beta))*sin(alpha)*sin(theta_0)*cos(alpha) - sin(beta)*cos(alpha)*cos(theta_0)],\n",
       "[                                                                                                  (1 - cos(beta))*sin(alpha)*cos(alpha)*cos(theta_1) - sin(beta)*sin(theta_1)*cos(alpha),                                                                                                   (1 - cos(beta))*sin(alpha)*sin(theta_1)*cos(alpha) + sin(beta)*cos(alpha)*cos(theta_1),                                               (1 - cos(beta))*sin(alpha)**2 + cos(beta)]])"
      ]
     },
     "execution_count": 21,
     "metadata": {},
     "output_type": "execute_result"
    }
   ],
   "source": [
    "trigsimp(t)"
   ]
  },
  {
   "cell_type": "code",
   "execution_count": 18,
   "id": "interesting-scholar",
   "metadata": {},
   "outputs": [
    {
     "data": {
      "text/latex": [
       "$\\displaystyle 1$"
      ],
      "text/plain": [
       "1"
      ]
     },
     "execution_count": 18,
     "metadata": {},
     "output_type": "execute_result"
    }
   ],
   "source": [
    "trigsimp(t.det())"
   ]
  },
  {
   "cell_type": "code",
   "execution_count": 93,
   "id": "sublime-strip",
   "metadata": {},
   "outputs": [
    {
     "data": {
      "text/latex": [
       "$\\displaystyle \\left[\\begin{matrix}- \\sin^{2}{\\left(u \\right)} + \\cos{\\left(\\theta_{2} \\right)} \\cos^{2}{\\left(u \\right)} & \\sin{\\left(\\theta_{2} \\right)} \\cos{\\left(u \\right)} & - \\sin{\\left(u \\right)} \\cos{\\left(\\theta_{2} \\right)} \\cos{\\left(u \\right)} - \\sin{\\left(u \\right)} \\cos{\\left(u \\right)}\\\\- \\sin{\\left(\\theta_{2} \\right)} \\cos{\\left(u \\right)} & \\cos{\\left(\\theta_{2} \\right)} & \\sin{\\left(\\theta_{2} \\right)} \\sin{\\left(u \\right)}\\\\\\sin{\\left(u \\right)} \\cos{\\left(\\theta_{2} \\right)} \\cos{\\left(u \\right)} + \\sin{\\left(u \\right)} \\cos{\\left(u \\right)} & \\sin{\\left(\\theta_{2} \\right)} \\sin{\\left(u \\right)} & - \\sin^{2}{\\left(u \\right)} \\cos{\\left(\\theta_{2} \\right)} + \\cos^{2}{\\left(u \\right)}\\end{matrix}\\right]$"
      ],
      "text/plain": [
       "Matrix([\n",
       "[       -sin(u)**2 + cos(theta_2)*cos(u)**2, sin(theta_2)*cos(u), -sin(u)*cos(theta_2)*cos(u) - sin(u)*cos(u)],\n",
       "[                      -sin(theta_2)*cos(u),        cos(theta_2),                         sin(theta_2)*sin(u)],\n",
       "[sin(u)*cos(theta_2)*cos(u) + sin(u)*cos(u), sin(theta_2)*sin(u),         -sin(u)**2*cos(theta_2) + cos(u)**2]])"
      ]
     },
     "execution_count": 93,
     "metadata": {},
     "output_type": "execute_result"
    }
   ],
   "source": [
    "test = sym.eye(3)\n",
    "test *= yrot('u')\n",
    "test *= zrot('theta_2')\n",
    "test *= yrot('u')\n",
    "test"
   ]
  },
  {
   "cell_type": "code",
   "execution_count": 94,
   "id": "exempt-strategy",
   "metadata": {},
   "outputs": [
    {
     "name": "stdout",
     "output_type": "stream",
     "text": [
      "worked for u = 0.0, v = 0.0, theta_2 = 0.0!\n",
      "worked for u = 0.0, v = 0.0, theta_2 = 6.283185307179586!\n",
      "worked for u = 0.0, v = 6.283185307179586, theta_2 = 0.0!\n",
      "worked for u = 0.0, v = 6.283185307179586, theta_2 = 6.283185307179586!\n",
      "worked for u = 0.06346651825433926, v = 0.12693303650867852, theta_2 = 0.0!\n",
      "worked for u = 0.06346651825433926, v = 0.12693303650867852, theta_2 = 6.283185307179586!\n",
      "worked for u = 0.12693303650867852, v = 0.25386607301735703, theta_2 = 0.0!\n",
      "worked for u = 0.12693303650867852, v = 0.25386607301735703, theta_2 = 6.283185307179586!\n",
      "worked for u = 0.1903995547630178, v = 0.3807991095260356, theta_2 = 0.0!\n",
      "worked for u = 0.1903995547630178, v = 0.3807991095260356, theta_2 = 6.283185307179586!\n",
      "worked for u = 0.25386607301735703, v = 0.5077321460347141, theta_2 = 0.0!\n",
      "worked for u = 0.25386607301735703, v = 0.5077321460347141, theta_2 = 6.283185307179586!\n",
      "worked for u = 0.3173325912716963, v = 0.6346651825433925, theta_2 = 0.0!\n",
      "worked for u = 0.3173325912716963, v = 0.6346651825433925, theta_2 = 6.283185307179586!\n",
      "worked for u = 0.3807991095260356, v = 0.7615982190520711, theta_2 = 0.0!\n",
      "worked for u = 0.3807991095260356, v = 0.7615982190520711, theta_2 = 6.283185307179586!\n",
      "worked for u = 0.4442656277803748, v = 0.8885312555607496, theta_2 = 0.0!\n",
      "worked for u = 0.4442656277803748, v = 0.8885312555607496, theta_2 = 6.283185307179586!\n",
      "worked for u = 0.5077321460347141, v = 1.0154642920694281, theta_2 = 0.0!\n",
      "worked for u = 0.5077321460347141, v = 1.0154642920694281, theta_2 = 6.283185307179586!\n",
      "worked for u = 0.5711986642890533, v = 1.1423973285781066, theta_2 = 0.0!\n",
      "worked for u = 0.5711986642890533, v = 1.1423973285781066, theta_2 = 6.283185307179586!\n",
      "worked for u = 0.6346651825433925, v = 1.269330365086785, theta_2 = 0.0!\n",
      "worked for u = 0.6346651825433925, v = 1.269330365086785, theta_2 = 6.283185307179586!\n",
      "worked for u = 0.6981317007977318, v = 1.3962634015954636, theta_2 = 0.0!\n",
      "worked for u = 0.6981317007977318, v = 1.3962634015954636, theta_2 = 6.283185307179586!\n",
      "worked for u = 0.7615982190520711, v = 1.5231964381041423, theta_2 = 0.0!\n",
      "worked for u = 0.7615982190520711, v = 1.5231964381041423, theta_2 = 6.283185307179586!\n",
      "worked for u = 0.8250647373064104, v = 1.6501294746128208, theta_2 = 0.0!\n",
      "worked for u = 0.8250647373064104, v = 1.6501294746128208, theta_2 = 6.283185307179586!\n",
      "worked for u = 0.8885312555607496, v = 1.7770625111214993, theta_2 = 0.0!\n",
      "worked for u = 0.8885312555607496, v = 1.7770625111214993, theta_2 = 6.283185307179586!\n",
      "worked for u = 0.9519977738150889, v = 1.9039955476301778, theta_2 = 0.0!\n",
      "worked for u = 0.9519977738150889, v = 1.9039955476301778, theta_2 = 6.283185307179586!\n",
      "worked for u = 1.0154642920694281, v = 2.0309285841388562, theta_2 = 0.0!\n",
      "worked for u = 1.0154642920694281, v = 2.0309285841388562, theta_2 = 6.283185307179586!\n",
      "worked for u = 1.0789308103237674, v = 2.1578616206475347, theta_2 = 0.0!\n",
      "worked for u = 1.0789308103237674, v = 2.1578616206475347, theta_2 = 6.283185307179586!\n",
      "worked for u = 1.1423973285781066, v = 2.284794657156213, theta_2 = 0.0!\n",
      "worked for u = 1.1423973285781066, v = 2.284794657156213, theta_2 = 6.283185307179586!\n",
      "worked for u = 1.2058638468324459, v = 2.4117276936648917, theta_2 = 0.0!\n",
      "worked for u = 1.2058638468324459, v = 2.4117276936648917, theta_2 = 6.283185307179586!\n",
      "worked for u = 1.269330365086785, v = 2.53866073017357, theta_2 = 0.0!\n",
      "worked for u = 1.269330365086785, v = 2.53866073017357, theta_2 = 6.283185307179586!\n",
      "worked for u = 1.3327968833411243, v = 2.6655937666822487, theta_2 = 0.0!\n",
      "worked for u = 1.3327968833411243, v = 2.6655937666822487, theta_2 = 6.283185307179586!\n",
      "worked for u = 1.3962634015954636, v = 2.792526803190927, theta_2 = 0.0!\n",
      "worked for u = 1.3962634015954636, v = 2.792526803190927, theta_2 = 6.283185307179586!\n",
      "worked for u = 1.4597299198498028, v = 2.9194598396996057, theta_2 = 0.0!\n",
      "worked for u = 1.4597299198498028, v = 2.9194598396996057, theta_2 = 6.283185307179586!\n",
      "worked for u = 1.5231964381041423, v = 3.0463928762082846, theta_2 = 0.0!\n",
      "worked for u = 1.5231964381041423, v = 3.0463928762082846, theta_2 = 6.283185307179586!\n",
      "worked for u = 1.5866629563584815, v = 3.173325912716963, theta_2 = 0.0!\n",
      "worked for u = 1.5866629563584815, v = 3.173325912716963, theta_2 = 6.283185307179586!\n",
      "worked for u = 1.6501294746128208, v = 3.3002589492256416, theta_2 = 0.0!\n",
      "worked for u = 1.6501294746128208, v = 3.3002589492256416, theta_2 = 6.283185307179586!\n",
      "worked for u = 1.71359599286716, v = 3.42719198573432, theta_2 = 0.0!\n",
      "worked for u = 1.71359599286716, v = 3.42719198573432, theta_2 = 6.283185307179586!\n",
      "worked for u = 1.7770625111214993, v = 3.5541250222429985, theta_2 = 0.0!\n",
      "worked for u = 1.7770625111214993, v = 3.5541250222429985, theta_2 = 6.283185307179586!\n",
      "worked for u = 1.8405290293758385, v = 3.681058058751677, theta_2 = 0.0!\n",
      "worked for u = 1.8405290293758385, v = 3.681058058751677, theta_2 = 6.283185307179586!\n",
      "worked for u = 1.9039955476301778, v = 3.8079910952603555, theta_2 = 0.0!\n",
      "worked for u = 1.9039955476301778, v = 3.8079910952603555, theta_2 = 6.283185307179586!\n",
      "worked for u = 1.967462065884517, v = 3.934924131769034, theta_2 = 0.0!\n",
      "worked for u = 1.967462065884517, v = 3.934924131769034, theta_2 = 6.283185307179586!\n",
      "worked for u = 2.0309285841388562, v = 4.0618571682777125, theta_2 = 0.0!\n",
      "worked for u = 2.0309285841388562, v = 4.0618571682777125, theta_2 = 6.283185307179586!\n",
      "worked for u = 2.0943951023931957, v = 4.188790204786391, theta_2 = 0.0!\n",
      "worked for u = 2.0943951023931957, v = 4.188790204786391, theta_2 = 6.283185307179586!\n",
      "worked for u = 2.1578616206475347, v = 4.3157232412950695, theta_2 = 0.0!\n",
      "worked for u = 2.1578616206475347, v = 4.3157232412950695, theta_2 = 6.283185307179586!\n",
      "worked for u = 2.221328138901874, v = 4.442656277803748, theta_2 = 0.0!\n",
      "worked for u = 2.221328138901874, v = 4.442656277803748, theta_2 = 6.283185307179586!\n",
      "worked for u = 2.284794657156213, v = 4.569589314312426, theta_2 = 0.0!\n",
      "worked for u = 2.284794657156213, v = 4.569589314312426, theta_2 = 6.283185307179586!\n",
      "worked for u = 2.3482611754105527, v = 4.696522350821105, theta_2 = 0.0!\n",
      "worked for u = 2.3482611754105527, v = 4.696522350821105, theta_2 = 6.283185307179586!\n",
      "worked for u = 2.4117276936648917, v = 4.823455387329783, theta_2 = 0.0!\n",
      "worked for u = 2.4117276936648917, v = 4.823455387329783, theta_2 = 6.283185307179586!\n",
      "worked for u = 2.475194211919231, v = 4.950388423838462, theta_2 = 0.0!\n",
      "worked for u = 2.475194211919231, v = 4.950388423838462, theta_2 = 6.283185307179586!\n",
      "worked for u = 2.53866073017357, v = 5.07732146034714, theta_2 = 0.0!\n",
      "worked for u = 2.53866073017357, v = 5.07732146034714, theta_2 = 6.283185307179586!\n",
      "worked for u = 2.6021272484279097, v = 5.204254496855819, theta_2 = 0.0!\n",
      "worked for u = 2.6021272484279097, v = 5.204254496855819, theta_2 = 6.283185307179586!\n",
      "worked for u = 2.6655937666822487, v = 5.331187533364497, theta_2 = 0.0!\n",
      "worked for u = 2.6655937666822487, v = 5.331187533364497, theta_2 = 6.283185307179586!\n",
      "worked for u = 2.729060284936588, v = 5.458120569873176, theta_2 = 0.0!\n",
      "worked for u = 2.729060284936588, v = 5.458120569873176, theta_2 = 6.283185307179586!\n",
      "worked for u = 2.792526803190927, v = 5.585053606381854, theta_2 = 0.0!\n",
      "worked for u = 2.792526803190927, v = 5.585053606381854, theta_2 = 6.283185307179586!\n",
      "worked for u = 2.8559933214452666, v = 5.711986642890533, theta_2 = 0.0!\n",
      "worked for u = 2.8559933214452666, v = 5.711986642890533, theta_2 = 6.283185307179586!\n",
      "worked for u = 2.9194598396996057, v = 5.838919679399211, theta_2 = 0.0!\n",
      "worked for u = 2.9194598396996057, v = 5.838919679399211, theta_2 = 6.283185307179586!\n",
      "worked for u = 2.982926357953945, v = 5.96585271590789, theta_2 = 0.0!\n",
      "worked for u = 2.982926357953945, v = 5.96585271590789, theta_2 = 6.283185307179586!\n",
      "worked for u = 3.0463928762082846, v = 6.092785752416569, theta_2 = 0.0!\n",
      "worked for u = 3.0463928762082846, v = 6.092785752416569, theta_2 = 6.283185307179586!\n",
      "worked for u = 3.1098593944626236, v = 6.219718788925247, theta_2 = 0.0!\n",
      "worked for u = 3.1098593944626236, v = 6.219718788925247, theta_2 = 6.283185307179586!\n",
      "worked for u = 3.173325912716963, v = 0.06346651825433926, theta_2 = 0.0!\n",
      "worked for u = 3.173325912716963, v = 0.06346651825433926, theta_2 = 6.283185307179586!\n",
      "worked for u = 3.236792430971302, v = 0.1903995547630178, theta_2 = 0.0!\n",
      "worked for u = 3.236792430971302, v = 0.1903995547630178, theta_2 = 6.283185307179586!\n",
      "worked for u = 3.3002589492256416, v = 0.3173325912716963, theta_2 = 0.0!\n",
      "worked for u = 3.3002589492256416, v = 0.3173325912716963, theta_2 = 6.283185307179586!\n",
      "worked for u = 3.3637254674799806, v = 0.4442656277803748, theta_2 = 0.0!\n",
      "worked for u = 3.3637254674799806, v = 0.4442656277803748, theta_2 = 6.283185307179586!\n",
      "worked for u = 3.42719198573432, v = 0.5711986642890533, theta_2 = 0.0!\n",
      "worked for u = 3.42719198573432, v = 0.5711986642890533, theta_2 = 6.283185307179586!\n",
      "worked for u = 3.490658503988659, v = 0.6981317007977318, theta_2 = 0.0!\n",
      "worked for u = 3.490658503988659, v = 0.6981317007977318, theta_2 = 6.283185307179586!\n",
      "worked for u = 3.5541250222429985, v = 0.8250647373064104, theta_2 = 0.0!\n",
      "worked for u = 3.5541250222429985, v = 0.8250647373064104, theta_2 = 6.283185307179586!\n",
      "worked for u = 3.6175915404973376, v = 0.9519977738150889, theta_2 = 0.0!\n",
      "worked for u = 3.6175915404973376, v = 0.9519977738150889, theta_2 = 6.283185307179586!\n",
      "worked for u = 3.681058058751677, v = 1.0789308103237674, theta_2 = 0.0!\n",
      "worked for u = 3.681058058751677, v = 1.0789308103237674, theta_2 = 6.283185307179586!\n",
      "worked for u = 3.744524577006016, v = 1.2058638468324459, theta_2 = 0.0!\n",
      "worked for u = 3.744524577006016, v = 1.2058638468324459, theta_2 = 6.283185307179586!\n",
      "worked for u = 3.8079910952603555, v = 1.3327968833411243, theta_2 = 0.0!\n",
      "worked for u = 3.8079910952603555, v = 1.3327968833411243, theta_2 = 6.283185307179586!\n",
      "worked for u = 3.8714576135146945, v = 1.4597299198498028, theta_2 = 0.0!\n",
      "worked for u = 3.8714576135146945, v = 1.4597299198498028, theta_2 = 6.283185307179586!\n",
      "worked for u = 3.934924131769034, v = 1.5866629563584815, theta_2 = 0.0!\n",
      "worked for u = 3.934924131769034, v = 1.5866629563584815, theta_2 = 6.283185307179586!\n",
      "worked for u = 3.998390650023373, v = 1.71359599286716, theta_2 = 0.0!\n",
      "worked for u = 3.998390650023373, v = 1.71359599286716, theta_2 = 6.283185307179586!\n",
      "worked for u = 4.0618571682777125, v = 1.8405290293758385, theta_2 = 0.0!\n",
      "worked for u = 4.0618571682777125, v = 1.8405290293758385, theta_2 = 6.283185307179586!\n",
      "worked for u = 4.1253236865320515, v = 1.967462065884517, theta_2 = 0.0!\n",
      "worked for u = 4.1253236865320515, v = 1.967462065884517, theta_2 = 6.283185307179586!\n",
      "worked for u = 4.188790204786391, v = 2.0943951023931957, theta_2 = 0.0!\n",
      "worked for u = 4.188790204786391, v = 2.0943951023931957, theta_2 = 6.283185307179586!\n",
      "worked for u = 4.25225672304073, v = 2.221328138901874, theta_2 = 0.0!\n",
      "worked for u = 4.25225672304073, v = 2.221328138901874, theta_2 = 6.283185307179586!\n",
      "worked for u = 4.3157232412950695, v = 2.3482611754105527, theta_2 = 0.0!\n",
      "worked for u = 4.3157232412950695, v = 2.3482611754105527, theta_2 = 6.283185307179586!\n"
     ]
    },
    {
     "ename": "KeyboardInterrupt",
     "evalue": "",
     "output_type": "error",
     "traceback": [
      "\u001b[0;31m---------------------------------------------------------------------------\u001b[0m",
      "\u001b[0;31mKeyboardInterrupt\u001b[0m                         Traceback (most recent call last)",
      "\u001b[0;32m<ipython-input-94-965c18d1bab3>\u001b[0m in \u001b[0;36m<module>\u001b[0;34m\u001b[0m\n\u001b[1;32m     10\u001b[0m     \u001b[0mvrot\u001b[0m \u001b[0;34m=\u001b[0m \u001b[0myrot\u001b[0m\u001b[0;34m(\u001b[0m\u001b[0;34m'v'\u001b[0m\u001b[0;34m)\u001b[0m\u001b[0;34m.\u001b[0m\u001b[0msubs\u001b[0m\u001b[0;34m(\u001b[0m \u001b[0;34m{\u001b[0m \u001b[0;34m'v'\u001b[0m\u001b[0;34m:\u001b[0m \u001b[0mv\u001b[0m \u001b[0;34m}\u001b[0m \u001b[0;34m)\u001b[0m\u001b[0;34m\u001b[0m\u001b[0;34m\u001b[0m\u001b[0m\n\u001b[1;32m     11\u001b[0m     \u001b[0;32mfor\u001b[0m \u001b[0mtheta2\u001b[0m \u001b[0;32min\u001b[0m \u001b[0mtheta2s\u001b[0m\u001b[0;34m:\u001b[0m\u001b[0;31m#, theta3s, theta4s):\u001b[0m\u001b[0;34m\u001b[0m\u001b[0;34m\u001b[0m\u001b[0m\n\u001b[0;32m---> 12\u001b[0;31m         \u001b[0msubbed\u001b[0m \u001b[0;34m=\u001b[0m \u001b[0mrot\u001b[0m\u001b[0;34m.\u001b[0m\u001b[0msubs\u001b[0m\u001b[0;34m(\u001b[0m \u001b[0;34m{\u001b[0m \u001b[0;34m'theta_2'\u001b[0m\u001b[0;34m:\u001b[0m \u001b[0mtheta2\u001b[0m\u001b[0;34m}\u001b[0m \u001b[0;34m)\u001b[0m\u001b[0;31m#, 'theta_3': theta3, 'theta_4': theta4 } )\u001b[0m\u001b[0;34m\u001b[0m\u001b[0;34m\u001b[0m\u001b[0m\n\u001b[0m\u001b[1;32m     13\u001b[0m         \u001b[0mdiff\u001b[0m \u001b[0;34m=\u001b[0m \u001b[0;34m(\u001b[0m\u001b[0msubbed\u001b[0m \u001b[0;34m-\u001b[0m \u001b[0mvrot\u001b[0m\u001b[0;34m)\u001b[0m\u001b[0;34m.\u001b[0m\u001b[0mnorm\u001b[0m\u001b[0;34m(\u001b[0m\u001b[0;34m)\u001b[0m\u001b[0;34m\u001b[0m\u001b[0;34m\u001b[0m\u001b[0m\n\u001b[1;32m     14\u001b[0m         \u001b[0;32mif\u001b[0m \u001b[0mdiff\u001b[0m \u001b[0;34m<\u001b[0m \u001b[0mepsilon\u001b[0m\u001b[0;34m:\u001b[0m\u001b[0;34m\u001b[0m\u001b[0;34m\u001b[0m\u001b[0m\n",
      "\u001b[0;32m~/.local/lib/python3.9/site-packages/sympy/matrices/common.py\u001b[0m in \u001b[0;36msubs\u001b[0;34m(self, *args, **kwargs)\u001b[0m\n\u001b[1;32m   2337\u001b[0m             \u001b[0margs\u001b[0m \u001b[0;34m=\u001b[0m \u001b[0;34m(\u001b[0m\u001b[0mlist\u001b[0m\u001b[0;34m(\u001b[0m\u001b[0margs\u001b[0m\u001b[0;34m[\u001b[0m\u001b[0;36m0\u001b[0m\u001b[0;34m]\u001b[0m\u001b[0;34m)\u001b[0m\u001b[0;34m,\u001b[0m\u001b[0;34m)\u001b[0m\u001b[0;34m\u001b[0m\u001b[0;34m\u001b[0m\u001b[0m\n\u001b[1;32m   2338\u001b[0m \u001b[0;34m\u001b[0m\u001b[0m\n\u001b[0;32m-> 2339\u001b[0;31m         \u001b[0;32mreturn\u001b[0m \u001b[0mself\u001b[0m\u001b[0;34m.\u001b[0m\u001b[0mapplyfunc\u001b[0m\u001b[0;34m(\u001b[0m\u001b[0;32mlambda\u001b[0m \u001b[0mx\u001b[0m\u001b[0;34m:\u001b[0m \u001b[0mx\u001b[0m\u001b[0;34m.\u001b[0m\u001b[0msubs\u001b[0m\u001b[0;34m(\u001b[0m\u001b[0;34m*\u001b[0m\u001b[0margs\u001b[0m\u001b[0;34m,\u001b[0m \u001b[0;34m**\u001b[0m\u001b[0mkwargs\u001b[0m\u001b[0;34m)\u001b[0m\u001b[0;34m)\u001b[0m\u001b[0;34m\u001b[0m\u001b[0;34m\u001b[0m\u001b[0m\n\u001b[0m\u001b[1;32m   2340\u001b[0m \u001b[0;34m\u001b[0m\u001b[0m\n\u001b[1;32m   2341\u001b[0m     \u001b[0;32mdef\u001b[0m \u001b[0mtrace\u001b[0m\u001b[0;34m(\u001b[0m\u001b[0mself\u001b[0m\u001b[0;34m)\u001b[0m\u001b[0;34m:\u001b[0m\u001b[0;34m\u001b[0m\u001b[0;34m\u001b[0m\u001b[0m\n",
      "\u001b[0;32m~/.local/lib/python3.9/site-packages/sympy/matrices/common.py\u001b[0m in \u001b[0;36mapplyfunc\u001b[0;34m(self, f)\u001b[0m\n\u001b[1;32m   1967\u001b[0m             \u001b[0;32mraise\u001b[0m \u001b[0mTypeError\u001b[0m\u001b[0;34m(\u001b[0m\u001b[0;34m\"`f` must be callable.\"\u001b[0m\u001b[0;34m)\u001b[0m\u001b[0;34m\u001b[0m\u001b[0;34m\u001b[0m\u001b[0m\n\u001b[1;32m   1968\u001b[0m \u001b[0;34m\u001b[0m\u001b[0m\n\u001b[0;32m-> 1969\u001b[0;31m         \u001b[0;32mreturn\u001b[0m \u001b[0mself\u001b[0m\u001b[0;34m.\u001b[0m\u001b[0m_eval_applyfunc\u001b[0m\u001b[0;34m(\u001b[0m\u001b[0mf\u001b[0m\u001b[0;34m)\u001b[0m\u001b[0;34m\u001b[0m\u001b[0;34m\u001b[0m\u001b[0m\n\u001b[0m\u001b[1;32m   1970\u001b[0m \u001b[0;34m\u001b[0m\u001b[0m\n\u001b[1;32m   1971\u001b[0m     \u001b[0;32mdef\u001b[0m \u001b[0mas_real_imag\u001b[0m\u001b[0;34m(\u001b[0m\u001b[0mself\u001b[0m\u001b[0;34m,\u001b[0m \u001b[0mdeep\u001b[0m\u001b[0;34m=\u001b[0m\u001b[0;32mTrue\u001b[0m\u001b[0;34m,\u001b[0m \u001b[0;34m**\u001b[0m\u001b[0mhints\u001b[0m\u001b[0;34m)\u001b[0m\u001b[0;34m:\u001b[0m\u001b[0;34m\u001b[0m\u001b[0;34m\u001b[0m\u001b[0m\n",
      "\u001b[0;32m~/.local/lib/python3.9/site-packages/sympy/matrices/common.py\u001b[0m in \u001b[0;36m_eval_applyfunc\u001b[0;34m(self, f)\u001b[0m\n\u001b[1;32m   1907\u001b[0m \u001b[0;34m\u001b[0m\u001b[0m\n\u001b[1;32m   1908\u001b[0m     \u001b[0;32mdef\u001b[0m \u001b[0m_eval_applyfunc\u001b[0m\u001b[0;34m(\u001b[0m\u001b[0mself\u001b[0m\u001b[0;34m,\u001b[0m \u001b[0mf\u001b[0m\u001b[0;34m)\u001b[0m\u001b[0;34m:\u001b[0m\u001b[0;34m\u001b[0m\u001b[0;34m\u001b[0m\u001b[0m\n\u001b[0;32m-> 1909\u001b[0;31m         \u001b[0mout\u001b[0m \u001b[0;34m=\u001b[0m \u001b[0mself\u001b[0m\u001b[0;34m.\u001b[0m\u001b[0m_new\u001b[0m\u001b[0;34m(\u001b[0m\u001b[0mself\u001b[0m\u001b[0;34m.\u001b[0m\u001b[0mrows\u001b[0m\u001b[0;34m,\u001b[0m \u001b[0mself\u001b[0m\u001b[0;34m.\u001b[0m\u001b[0mcols\u001b[0m\u001b[0;34m,\u001b[0m \u001b[0;34m[\u001b[0m\u001b[0mf\u001b[0m\u001b[0;34m(\u001b[0m\u001b[0mx\u001b[0m\u001b[0;34m)\u001b[0m \u001b[0;32mfor\u001b[0m \u001b[0mx\u001b[0m \u001b[0;32min\u001b[0m \u001b[0mself\u001b[0m\u001b[0;34m]\u001b[0m\u001b[0;34m)\u001b[0m\u001b[0;34m\u001b[0m\u001b[0;34m\u001b[0m\u001b[0m\n\u001b[0m\u001b[1;32m   1910\u001b[0m         \u001b[0;32mreturn\u001b[0m \u001b[0mout\u001b[0m\u001b[0;34m\u001b[0m\u001b[0;34m\u001b[0m\u001b[0m\n\u001b[1;32m   1911\u001b[0m \u001b[0;34m\u001b[0m\u001b[0m\n",
      "\u001b[0;32m~/.local/lib/python3.9/site-packages/sympy/matrices/common.py\u001b[0m in \u001b[0;36m<listcomp>\u001b[0;34m(.0)\u001b[0m\n\u001b[1;32m   1907\u001b[0m \u001b[0;34m\u001b[0m\u001b[0m\n\u001b[1;32m   1908\u001b[0m     \u001b[0;32mdef\u001b[0m \u001b[0m_eval_applyfunc\u001b[0m\u001b[0;34m(\u001b[0m\u001b[0mself\u001b[0m\u001b[0;34m,\u001b[0m \u001b[0mf\u001b[0m\u001b[0;34m)\u001b[0m\u001b[0;34m:\u001b[0m\u001b[0;34m\u001b[0m\u001b[0;34m\u001b[0m\u001b[0m\n\u001b[0;32m-> 1909\u001b[0;31m         \u001b[0mout\u001b[0m \u001b[0;34m=\u001b[0m \u001b[0mself\u001b[0m\u001b[0;34m.\u001b[0m\u001b[0m_new\u001b[0m\u001b[0;34m(\u001b[0m\u001b[0mself\u001b[0m\u001b[0;34m.\u001b[0m\u001b[0mrows\u001b[0m\u001b[0;34m,\u001b[0m \u001b[0mself\u001b[0m\u001b[0;34m.\u001b[0m\u001b[0mcols\u001b[0m\u001b[0;34m,\u001b[0m \u001b[0;34m[\u001b[0m\u001b[0mf\u001b[0m\u001b[0;34m(\u001b[0m\u001b[0mx\u001b[0m\u001b[0;34m)\u001b[0m \u001b[0;32mfor\u001b[0m \u001b[0mx\u001b[0m \u001b[0;32min\u001b[0m \u001b[0mself\u001b[0m\u001b[0;34m]\u001b[0m\u001b[0;34m)\u001b[0m\u001b[0;34m\u001b[0m\u001b[0;34m\u001b[0m\u001b[0m\n\u001b[0m\u001b[1;32m   1910\u001b[0m         \u001b[0;32mreturn\u001b[0m \u001b[0mout\u001b[0m\u001b[0;34m\u001b[0m\u001b[0;34m\u001b[0m\u001b[0m\n\u001b[1;32m   1911\u001b[0m \u001b[0;34m\u001b[0m\u001b[0m\n",
      "\u001b[0;32m~/.local/lib/python3.9/site-packages/sympy/matrices/common.py\u001b[0m in \u001b[0;36m<lambda>\u001b[0;34m(x)\u001b[0m\n\u001b[1;32m   2337\u001b[0m             \u001b[0margs\u001b[0m \u001b[0;34m=\u001b[0m \u001b[0;34m(\u001b[0m\u001b[0mlist\u001b[0m\u001b[0;34m(\u001b[0m\u001b[0margs\u001b[0m\u001b[0;34m[\u001b[0m\u001b[0;36m0\u001b[0m\u001b[0;34m]\u001b[0m\u001b[0;34m)\u001b[0m\u001b[0;34m,\u001b[0m\u001b[0;34m)\u001b[0m\u001b[0;34m\u001b[0m\u001b[0;34m\u001b[0m\u001b[0m\n\u001b[1;32m   2338\u001b[0m \u001b[0;34m\u001b[0m\u001b[0m\n\u001b[0;32m-> 2339\u001b[0;31m         \u001b[0;32mreturn\u001b[0m \u001b[0mself\u001b[0m\u001b[0;34m.\u001b[0m\u001b[0mapplyfunc\u001b[0m\u001b[0;34m(\u001b[0m\u001b[0;32mlambda\u001b[0m \u001b[0mx\u001b[0m\u001b[0;34m:\u001b[0m \u001b[0mx\u001b[0m\u001b[0;34m.\u001b[0m\u001b[0msubs\u001b[0m\u001b[0;34m(\u001b[0m\u001b[0;34m*\u001b[0m\u001b[0margs\u001b[0m\u001b[0;34m,\u001b[0m \u001b[0;34m**\u001b[0m\u001b[0mkwargs\u001b[0m\u001b[0;34m)\u001b[0m\u001b[0;34m)\u001b[0m\u001b[0;34m\u001b[0m\u001b[0;34m\u001b[0m\u001b[0m\n\u001b[0m\u001b[1;32m   2340\u001b[0m \u001b[0;34m\u001b[0m\u001b[0m\n\u001b[1;32m   2341\u001b[0m     \u001b[0;32mdef\u001b[0m \u001b[0mtrace\u001b[0m\u001b[0;34m(\u001b[0m\u001b[0mself\u001b[0m\u001b[0;34m)\u001b[0m\u001b[0;34m:\u001b[0m\u001b[0;34m\u001b[0m\u001b[0;34m\u001b[0m\u001b[0m\n",
      "\u001b[0;32m~/.local/lib/python3.9/site-packages/sympy/core/basic.py\u001b[0m in \u001b[0;36msubs\u001b[0;34m(self, *args, **kwargs)\u001b[0m\n\u001b[1;32m    946\u001b[0m             \u001b[0mrv\u001b[0m \u001b[0;34m=\u001b[0m \u001b[0mself\u001b[0m\u001b[0;34m\u001b[0m\u001b[0;34m\u001b[0m\u001b[0m\n\u001b[1;32m    947\u001b[0m             \u001b[0;32mfor\u001b[0m \u001b[0mold\u001b[0m\u001b[0;34m,\u001b[0m \u001b[0mnew\u001b[0m \u001b[0;32min\u001b[0m \u001b[0msequence\u001b[0m\u001b[0;34m:\u001b[0m\u001b[0;34m\u001b[0m\u001b[0;34m\u001b[0m\u001b[0m\n\u001b[0;32m--> 948\u001b[0;31m                 \u001b[0mrv\u001b[0m \u001b[0;34m=\u001b[0m \u001b[0mrv\u001b[0m\u001b[0;34m.\u001b[0m\u001b[0m_subs\u001b[0m\u001b[0;34m(\u001b[0m\u001b[0mold\u001b[0m\u001b[0;34m,\u001b[0m \u001b[0mnew\u001b[0m\u001b[0;34m,\u001b[0m \u001b[0;34m**\u001b[0m\u001b[0mkwargs\u001b[0m\u001b[0;34m)\u001b[0m\u001b[0;34m\u001b[0m\u001b[0;34m\u001b[0m\u001b[0m\n\u001b[0m\u001b[1;32m    949\u001b[0m                 \u001b[0;32mif\u001b[0m \u001b[0;32mnot\u001b[0m \u001b[0misinstance\u001b[0m\u001b[0;34m(\u001b[0m\u001b[0mrv\u001b[0m\u001b[0;34m,\u001b[0m \u001b[0mBasic\u001b[0m\u001b[0;34m)\u001b[0m\u001b[0;34m:\u001b[0m\u001b[0;34m\u001b[0m\u001b[0;34m\u001b[0m\u001b[0m\n\u001b[1;32m    950\u001b[0m                     \u001b[0;32mbreak\u001b[0m\u001b[0;34m\u001b[0m\u001b[0;34m\u001b[0m\u001b[0m\n",
      "\u001b[0;32m~/.local/lib/python3.9/site-packages/sympy/core/cache.py\u001b[0m in \u001b[0;36mwrapper\u001b[0;34m(*args, **kwargs)\u001b[0m\n\u001b[1;32m     70\u001b[0m         \u001b[0;32mdef\u001b[0m \u001b[0mwrapper\u001b[0m\u001b[0;34m(\u001b[0m\u001b[0;34m*\u001b[0m\u001b[0margs\u001b[0m\u001b[0;34m,\u001b[0m \u001b[0;34m**\u001b[0m\u001b[0mkwargs\u001b[0m\u001b[0;34m)\u001b[0m\u001b[0;34m:\u001b[0m\u001b[0;34m\u001b[0m\u001b[0;34m\u001b[0m\u001b[0m\n\u001b[1;32m     71\u001b[0m             \u001b[0;32mtry\u001b[0m\u001b[0;34m:\u001b[0m\u001b[0;34m\u001b[0m\u001b[0;34m\u001b[0m\u001b[0m\n\u001b[0;32m---> 72\u001b[0;31m                 \u001b[0mretval\u001b[0m \u001b[0;34m=\u001b[0m \u001b[0mcfunc\u001b[0m\u001b[0;34m(\u001b[0m\u001b[0;34m*\u001b[0m\u001b[0margs\u001b[0m\u001b[0;34m,\u001b[0m \u001b[0;34m**\u001b[0m\u001b[0mkwargs\u001b[0m\u001b[0;34m)\u001b[0m\u001b[0;34m\u001b[0m\u001b[0;34m\u001b[0m\u001b[0m\n\u001b[0m\u001b[1;32m     73\u001b[0m             \u001b[0;32mexcept\u001b[0m \u001b[0mTypeError\u001b[0m\u001b[0;34m:\u001b[0m\u001b[0;34m\u001b[0m\u001b[0;34m\u001b[0m\u001b[0m\n\u001b[1;32m     74\u001b[0m                 \u001b[0mretval\u001b[0m \u001b[0;34m=\u001b[0m \u001b[0mfunc\u001b[0m\u001b[0;34m(\u001b[0m\u001b[0;34m*\u001b[0m\u001b[0margs\u001b[0m\u001b[0;34m,\u001b[0m \u001b[0;34m**\u001b[0m\u001b[0mkwargs\u001b[0m\u001b[0;34m)\u001b[0m\u001b[0;34m\u001b[0m\u001b[0;34m\u001b[0m\u001b[0m\n",
      "\u001b[0;32m~/.local/lib/python3.9/site-packages/sympy/core/basic.py\u001b[0m in \u001b[0;36m_subs\u001b[0;34m(self, old, new, **hints)\u001b[0m\n\u001b[1;32m   1060\u001b[0m         \u001b[0mrv\u001b[0m \u001b[0;34m=\u001b[0m \u001b[0mself\u001b[0m\u001b[0;34m.\u001b[0m\u001b[0m_eval_subs\u001b[0m\u001b[0;34m(\u001b[0m\u001b[0mold\u001b[0m\u001b[0;34m,\u001b[0m \u001b[0mnew\u001b[0m\u001b[0;34m)\u001b[0m\u001b[0;34m\u001b[0m\u001b[0;34m\u001b[0m\u001b[0m\n\u001b[1;32m   1061\u001b[0m         \u001b[0;32mif\u001b[0m \u001b[0mrv\u001b[0m \u001b[0;32mis\u001b[0m \u001b[0;32mNone\u001b[0m\u001b[0;34m:\u001b[0m\u001b[0;34m\u001b[0m\u001b[0;34m\u001b[0m\u001b[0m\n\u001b[0;32m-> 1062\u001b[0;31m             \u001b[0mrv\u001b[0m \u001b[0;34m=\u001b[0m \u001b[0mfallback\u001b[0m\u001b[0;34m(\u001b[0m\u001b[0mself\u001b[0m\u001b[0;34m,\u001b[0m \u001b[0mold\u001b[0m\u001b[0;34m,\u001b[0m \u001b[0mnew\u001b[0m\u001b[0;34m)\u001b[0m\u001b[0;34m\u001b[0m\u001b[0;34m\u001b[0m\u001b[0m\n\u001b[0m\u001b[1;32m   1063\u001b[0m         \u001b[0;32mreturn\u001b[0m \u001b[0mrv\u001b[0m\u001b[0;34m\u001b[0m\u001b[0;34m\u001b[0m\u001b[0m\n\u001b[1;32m   1064\u001b[0m \u001b[0;34m\u001b[0m\u001b[0m\n",
      "\u001b[0;32m~/.local/lib/python3.9/site-packages/sympy/core/basic.py\u001b[0m in \u001b[0;36mfallback\u001b[0;34m(self, old, new)\u001b[0m\n\u001b[1;32m   1032\u001b[0m                 \u001b[0;32mif\u001b[0m \u001b[0;32mnot\u001b[0m \u001b[0mhasattr\u001b[0m\u001b[0;34m(\u001b[0m\u001b[0marg\u001b[0m\u001b[0;34m,\u001b[0m \u001b[0;34m'_eval_subs'\u001b[0m\u001b[0;34m)\u001b[0m\u001b[0;34m:\u001b[0m\u001b[0;34m\u001b[0m\u001b[0;34m\u001b[0m\u001b[0m\n\u001b[1;32m   1033\u001b[0m                     \u001b[0;32mcontinue\u001b[0m\u001b[0;34m\u001b[0m\u001b[0;34m\u001b[0m\u001b[0m\n\u001b[0;32m-> 1034\u001b[0;31m                 \u001b[0marg\u001b[0m \u001b[0;34m=\u001b[0m \u001b[0marg\u001b[0m\u001b[0;34m.\u001b[0m\u001b[0m_subs\u001b[0m\u001b[0;34m(\u001b[0m\u001b[0mold\u001b[0m\u001b[0;34m,\u001b[0m \u001b[0mnew\u001b[0m\u001b[0;34m,\u001b[0m \u001b[0;34m**\u001b[0m\u001b[0mhints\u001b[0m\u001b[0;34m)\u001b[0m\u001b[0;34m\u001b[0m\u001b[0;34m\u001b[0m\u001b[0m\n\u001b[0m\u001b[1;32m   1035\u001b[0m                 \u001b[0;32mif\u001b[0m \u001b[0;32mnot\u001b[0m \u001b[0m_aresame\u001b[0m\u001b[0;34m(\u001b[0m\u001b[0marg\u001b[0m\u001b[0;34m,\u001b[0m \u001b[0margs\u001b[0m\u001b[0;34m[\u001b[0m\u001b[0mi\u001b[0m\u001b[0;34m]\u001b[0m\u001b[0;34m)\u001b[0m\u001b[0;34m:\u001b[0m\u001b[0;34m\u001b[0m\u001b[0;34m\u001b[0m\u001b[0m\n\u001b[1;32m   1036\u001b[0m                     \u001b[0mhit\u001b[0m \u001b[0;34m=\u001b[0m \u001b[0;32mTrue\u001b[0m\u001b[0;34m\u001b[0m\u001b[0;34m\u001b[0m\u001b[0m\n",
      "\u001b[0;32m~/.local/lib/python3.9/site-packages/sympy/core/cache.py\u001b[0m in \u001b[0;36mwrapper\u001b[0;34m(*args, **kwargs)\u001b[0m\n\u001b[1;32m     70\u001b[0m         \u001b[0;32mdef\u001b[0m \u001b[0mwrapper\u001b[0m\u001b[0;34m(\u001b[0m\u001b[0;34m*\u001b[0m\u001b[0margs\u001b[0m\u001b[0;34m,\u001b[0m \u001b[0;34m**\u001b[0m\u001b[0mkwargs\u001b[0m\u001b[0;34m)\u001b[0m\u001b[0;34m:\u001b[0m\u001b[0;34m\u001b[0m\u001b[0;34m\u001b[0m\u001b[0m\n\u001b[1;32m     71\u001b[0m             \u001b[0;32mtry\u001b[0m\u001b[0;34m:\u001b[0m\u001b[0;34m\u001b[0m\u001b[0;34m\u001b[0m\u001b[0m\n\u001b[0;32m---> 72\u001b[0;31m                 \u001b[0mretval\u001b[0m \u001b[0;34m=\u001b[0m \u001b[0mcfunc\u001b[0m\u001b[0;34m(\u001b[0m\u001b[0;34m*\u001b[0m\u001b[0margs\u001b[0m\u001b[0;34m,\u001b[0m \u001b[0;34m**\u001b[0m\u001b[0mkwargs\u001b[0m\u001b[0;34m)\u001b[0m\u001b[0;34m\u001b[0m\u001b[0;34m\u001b[0m\u001b[0m\n\u001b[0m\u001b[1;32m     73\u001b[0m             \u001b[0;32mexcept\u001b[0m \u001b[0mTypeError\u001b[0m\u001b[0;34m:\u001b[0m\u001b[0;34m\u001b[0m\u001b[0;34m\u001b[0m\u001b[0m\n\u001b[1;32m     74\u001b[0m                 \u001b[0mretval\u001b[0m \u001b[0;34m=\u001b[0m \u001b[0mfunc\u001b[0m\u001b[0;34m(\u001b[0m\u001b[0;34m*\u001b[0m\u001b[0margs\u001b[0m\u001b[0;34m,\u001b[0m \u001b[0;34m**\u001b[0m\u001b[0mkwargs\u001b[0m\u001b[0;34m)\u001b[0m\u001b[0;34m\u001b[0m\u001b[0;34m\u001b[0m\u001b[0m\n",
      "\u001b[0;32m~/.local/lib/python3.9/site-packages/sympy/core/basic.py\u001b[0m in \u001b[0;36m_subs\u001b[0;34m(self, old, new, **hints)\u001b[0m\n\u001b[1;32m   1060\u001b[0m         \u001b[0mrv\u001b[0m \u001b[0;34m=\u001b[0m \u001b[0mself\u001b[0m\u001b[0;34m.\u001b[0m\u001b[0m_eval_subs\u001b[0m\u001b[0;34m(\u001b[0m\u001b[0mold\u001b[0m\u001b[0;34m,\u001b[0m \u001b[0mnew\u001b[0m\u001b[0;34m)\u001b[0m\u001b[0;34m\u001b[0m\u001b[0;34m\u001b[0m\u001b[0m\n\u001b[1;32m   1061\u001b[0m         \u001b[0;32mif\u001b[0m \u001b[0mrv\u001b[0m \u001b[0;32mis\u001b[0m \u001b[0;32mNone\u001b[0m\u001b[0;34m:\u001b[0m\u001b[0;34m\u001b[0m\u001b[0;34m\u001b[0m\u001b[0m\n\u001b[0;32m-> 1062\u001b[0;31m             \u001b[0mrv\u001b[0m \u001b[0;34m=\u001b[0m \u001b[0mfallback\u001b[0m\u001b[0;34m(\u001b[0m\u001b[0mself\u001b[0m\u001b[0;34m,\u001b[0m \u001b[0mold\u001b[0m\u001b[0;34m,\u001b[0m \u001b[0mnew\u001b[0m\u001b[0;34m)\u001b[0m\u001b[0;34m\u001b[0m\u001b[0;34m\u001b[0m\u001b[0m\n\u001b[0m\u001b[1;32m   1063\u001b[0m         \u001b[0;32mreturn\u001b[0m \u001b[0mrv\u001b[0m\u001b[0;34m\u001b[0m\u001b[0;34m\u001b[0m\u001b[0m\n\u001b[1;32m   1064\u001b[0m \u001b[0;34m\u001b[0m\u001b[0m\n",
      "\u001b[0;32m~/.local/lib/python3.9/site-packages/sympy/core/basic.py\u001b[0m in \u001b[0;36mfallback\u001b[0;34m(self, old, new)\u001b[0m\n\u001b[1;32m   1033\u001b[0m                     \u001b[0;32mcontinue\u001b[0m\u001b[0;34m\u001b[0m\u001b[0;34m\u001b[0m\u001b[0m\n\u001b[1;32m   1034\u001b[0m                 \u001b[0marg\u001b[0m \u001b[0;34m=\u001b[0m \u001b[0marg\u001b[0m\u001b[0;34m.\u001b[0m\u001b[0m_subs\u001b[0m\u001b[0;34m(\u001b[0m\u001b[0mold\u001b[0m\u001b[0;34m,\u001b[0m \u001b[0mnew\u001b[0m\u001b[0;34m,\u001b[0m \u001b[0;34m**\u001b[0m\u001b[0mhints\u001b[0m\u001b[0;34m)\u001b[0m\u001b[0;34m\u001b[0m\u001b[0;34m\u001b[0m\u001b[0m\n\u001b[0;32m-> 1035\u001b[0;31m                 \u001b[0;32mif\u001b[0m \u001b[0;32mnot\u001b[0m \u001b[0m_aresame\u001b[0m\u001b[0;34m(\u001b[0m\u001b[0marg\u001b[0m\u001b[0;34m,\u001b[0m \u001b[0margs\u001b[0m\u001b[0;34m[\u001b[0m\u001b[0mi\u001b[0m\u001b[0;34m]\u001b[0m\u001b[0;34m)\u001b[0m\u001b[0;34m:\u001b[0m\u001b[0;34m\u001b[0m\u001b[0;34m\u001b[0m\u001b[0m\n\u001b[0m\u001b[1;32m   1036\u001b[0m                     \u001b[0mhit\u001b[0m \u001b[0;34m=\u001b[0m \u001b[0;32mTrue\u001b[0m\u001b[0;34m\u001b[0m\u001b[0;34m\u001b[0m\u001b[0m\n\u001b[1;32m   1037\u001b[0m                     \u001b[0margs\u001b[0m\u001b[0;34m[\u001b[0m\u001b[0mi\u001b[0m\u001b[0;34m]\u001b[0m \u001b[0;34m=\u001b[0m \u001b[0marg\u001b[0m\u001b[0;34m\u001b[0m\u001b[0;34m\u001b[0m\u001b[0m\n",
      "\u001b[0;32m~/.local/lib/python3.9/site-packages/sympy/core/basic.py\u001b[0m in \u001b[0;36m_aresame\u001b[0;34m(a, b)\u001b[0m\n\u001b[1;32m   1884\u001b[0m     \u001b[0;32mif\u001b[0m \u001b[0misinstance\u001b[0m\u001b[0;34m(\u001b[0m\u001b[0ma\u001b[0m\u001b[0;34m,\u001b[0m \u001b[0mNumber\u001b[0m\u001b[0;34m)\u001b[0m \u001b[0;32mand\u001b[0m \u001b[0misinstance\u001b[0m\u001b[0;34m(\u001b[0m\u001b[0mb\u001b[0m\u001b[0;34m,\u001b[0m \u001b[0mNumber\u001b[0m\u001b[0;34m)\u001b[0m\u001b[0;34m:\u001b[0m\u001b[0;34m\u001b[0m\u001b[0;34m\u001b[0m\u001b[0m\n\u001b[1;32m   1885\u001b[0m         \u001b[0;32mreturn\u001b[0m \u001b[0ma\u001b[0m \u001b[0;34m==\u001b[0m \u001b[0mb\u001b[0m \u001b[0;32mand\u001b[0m \u001b[0ma\u001b[0m\u001b[0;34m.\u001b[0m\u001b[0m__class__\u001b[0m \u001b[0;34m==\u001b[0m \u001b[0mb\u001b[0m\u001b[0;34m.\u001b[0m\u001b[0m__class__\u001b[0m\u001b[0;34m\u001b[0m\u001b[0;34m\u001b[0m\u001b[0m\n\u001b[0;32m-> 1886\u001b[0;31m     \u001b[0;32mfor\u001b[0m \u001b[0mi\u001b[0m\u001b[0;34m,\u001b[0m \u001b[0mj\u001b[0m \u001b[0;32min\u001b[0m \u001b[0mzip_longest\u001b[0m\u001b[0;34m(\u001b[0m\u001b[0mpreorder_traversal\u001b[0m\u001b[0;34m(\u001b[0m\u001b[0ma\u001b[0m\u001b[0;34m)\u001b[0m\u001b[0;34m,\u001b[0m \u001b[0mpreorder_traversal\u001b[0m\u001b[0;34m(\u001b[0m\u001b[0mb\u001b[0m\u001b[0;34m)\u001b[0m\u001b[0;34m)\u001b[0m\u001b[0;34m:\u001b[0m\u001b[0;34m\u001b[0m\u001b[0;34m\u001b[0m\u001b[0m\n\u001b[0m\u001b[1;32m   1887\u001b[0m         \u001b[0;32mif\u001b[0m \u001b[0mi\u001b[0m \u001b[0;34m!=\u001b[0m \u001b[0mj\u001b[0m \u001b[0;32mor\u001b[0m \u001b[0mtype\u001b[0m\u001b[0;34m(\u001b[0m\u001b[0mi\u001b[0m\u001b[0;34m)\u001b[0m \u001b[0;34m!=\u001b[0m \u001b[0mtype\u001b[0m\u001b[0;34m(\u001b[0m\u001b[0mj\u001b[0m\u001b[0;34m)\u001b[0m\u001b[0;34m:\u001b[0m\u001b[0;34m\u001b[0m\u001b[0;34m\u001b[0m\u001b[0m\n\u001b[1;32m   1888\u001b[0m             if ((isinstance(i, UndefFunc) and isinstance(j, UndefFunc)) or\n",
      "\u001b[0;32m~/.local/lib/python3.9/site-packages/sympy/core/basic.py\u001b[0m in \u001b[0;36m__init__\u001b[0;34m(self, node, keys)\u001b[0m\n\u001b[1;32m   1988\u001b[0m     \u001b[0;32mdef\u001b[0m \u001b[0m__init__\u001b[0m\u001b[0;34m(\u001b[0m\u001b[0mself\u001b[0m\u001b[0;34m,\u001b[0m \u001b[0mnode\u001b[0m\u001b[0;34m,\u001b[0m \u001b[0mkeys\u001b[0m\u001b[0;34m=\u001b[0m\u001b[0;32mNone\u001b[0m\u001b[0;34m)\u001b[0m\u001b[0;34m:\u001b[0m\u001b[0;34m\u001b[0m\u001b[0;34m\u001b[0m\u001b[0m\n\u001b[1;32m   1989\u001b[0m         \u001b[0mself\u001b[0m\u001b[0;34m.\u001b[0m\u001b[0m_skip_flag\u001b[0m \u001b[0;34m=\u001b[0m \u001b[0;32mFalse\u001b[0m\u001b[0;34m\u001b[0m\u001b[0;34m\u001b[0m\u001b[0m\n\u001b[0;32m-> 1990\u001b[0;31m         \u001b[0mself\u001b[0m\u001b[0;34m.\u001b[0m\u001b[0m_pt\u001b[0m \u001b[0;34m=\u001b[0m \u001b[0mself\u001b[0m\u001b[0;34m.\u001b[0m\u001b[0m_preorder_traversal\u001b[0m\u001b[0;34m(\u001b[0m\u001b[0mnode\u001b[0m\u001b[0;34m,\u001b[0m \u001b[0mkeys\u001b[0m\u001b[0;34m)\u001b[0m\u001b[0;34m\u001b[0m\u001b[0;34m\u001b[0m\u001b[0m\n\u001b[0m\u001b[1;32m   1991\u001b[0m \u001b[0;34m\u001b[0m\u001b[0m\n\u001b[1;32m   1992\u001b[0m     \u001b[0;32mdef\u001b[0m \u001b[0m_preorder_traversal\u001b[0m\u001b[0;34m(\u001b[0m\u001b[0mself\u001b[0m\u001b[0;34m,\u001b[0m \u001b[0mnode\u001b[0m\u001b[0;34m,\u001b[0m \u001b[0mkeys\u001b[0m\u001b[0;34m)\u001b[0m\u001b[0;34m:\u001b[0m\u001b[0;34m\u001b[0m\u001b[0;34m\u001b[0m\u001b[0m\n",
      "\u001b[0;31mKeyboardInterrupt\u001b[0m: "
     ]
    }
   ],
   "source": [
    "num_points = 100\n",
    "epsilon = 1e-5\n",
    "\n",
    "us = np.linspace(0, 2 * np.pi, num_points)\n",
    "vs = np.linspace(0, 2 * np.pi, num_points)\n",
    "theta2s = np.linspace(0, 2 * np.pi, num_points)\n",
    "\n",
    "for u, v in product(us, vs):\n",
    "    rot = test.subs( { 'u': u } )\n",
    "    vrot = yrot('v').subs( { 'v': v } )\n",
    "    for theta2 in theta2s:#, theta3s, theta4s):\n",
    "        subbed = rot.subs( { 'theta_2': theta2} )#, 'theta_3': theta3, 'theta_4': theta4 } )\n",
    "        diff = (subbed - vrot).norm()\n",
    "        if diff < epsilon:\n",
    "            print(f'worked for u = {u}, v = {v}, theta_2 = {theta2}!')#', theta_3 = {theta3} and theta_4 = {theta4}!')"
   ]
  },
  {
   "cell_type": "code",
   "execution_count": 231,
   "id": "modern-differential",
   "metadata": {},
   "outputs": [
    {
     "data": {
      "text/plain": [
       "0.7853981633974483"
      ]
     },
     "execution_count": 231,
     "metadata": {},
     "output_type": "execute_result"
    }
   ],
   "source": [
    "4*np.pi/16"
   ]
  },
  {
   "cell_type": "code",
   "execution_count": 236,
   "id": "moral-affiliation",
   "metadata": {},
   "outputs": [
    {
     "data": {
      "text/latex": [
       "$\\displaystyle \\left[\\begin{matrix}0 & -2.44929359829471 \\cdot 10^{-16} & 2.44929359829471 \\cdot 10^{-16}\\\\2.44929359829471 \\cdot 10^{-16} & 0 & 5.99903913064743 \\cdot 10^{-32}\\\\-2.44929359829471 \\cdot 10^{-16} & 5.99903913064743 \\cdot 10^{-32} & 0\\end{matrix}\\right]$"
      ],
      "text/plain": [
       "Matrix([\n",
       "[                    0, -2.44929359829471e-16, 2.44929359829471e-16],\n",
       "[ 2.44929359829471e-16,                     0, 5.99903913064743e-32],\n",
       "[-2.44929359829471e-16,  5.99903913064743e-32,                    0]])"
      ]
     },
     "execution_count": 236,
     "metadata": {},
     "output_type": "execute_result"
    }
   ],
   "source": [
    "simplify(test - yrot('v')).subs ( { 'u': 6.283185307179586, 'v': 6.283185307179586, 'theta_2': 6.283185307179586 })"
   ]
  },
  {
   "cell_type": "code",
   "execution_count": 97,
   "id": "african-belle",
   "metadata": {},
   "outputs": [
    {
     "data": {
      "text/latex": [
       "$\\displaystyle \\left[\\begin{matrix}\\left(- \\left(\\left(- \\sin^{2}{\\left(u \\right)} + \\cos{\\left(\\theta_{2} \\right)} \\cos^{2}{\\left(u \\right)}\\right) \\cos{\\left(\\theta_{3} \\right)} - \\sin{\\left(\\theta_{2} \\right)} \\sin{\\left(\\theta_{3} \\right)} \\cos{\\left(u \\right)}\\right) \\sin{\\left(u \\right)} + \\left(- \\sin{\\left(u \\right)} \\cos{\\left(\\theta_{2} \\right)} \\cos{\\left(u \\right)} - \\sin{\\left(u \\right)} \\cos{\\left(u \\right)}\\right) \\cos{\\left(u \\right)}\\right) \\sin{\\left(v \\right)} + \\left(\\left(\\left(- \\sin^{2}{\\left(u \\right)} + \\cos{\\left(\\theta_{2} \\right)} \\cos^{2}{\\left(u \\right)}\\right) \\cos{\\left(\\theta_{3} \\right)} - \\sin{\\left(\\theta_{2} \\right)} \\sin{\\left(\\theta_{3} \\right)} \\cos{\\left(u \\right)}\\right) \\cos{\\left(u \\right)} + \\left(- \\sin{\\left(u \\right)} \\cos{\\left(\\theta_{2} \\right)} \\cos{\\left(u \\right)} - \\sin{\\left(u \\right)} \\cos{\\left(u \\right)}\\right) \\sin{\\left(u \\right)}\\right) \\cos{\\left(v \\right)} & \\left(- \\sin^{2}{\\left(u \\right)} + \\cos{\\left(\\theta_{2} \\right)} \\cos^{2}{\\left(u \\right)}\\right) \\sin{\\left(\\theta_{3} \\right)} + \\sin{\\left(\\theta_{2} \\right)} \\cos{\\left(\\theta_{3} \\right)} \\cos{\\left(u \\right)} & \\left(- \\left(\\left(- \\sin^{2}{\\left(u \\right)} + \\cos{\\left(\\theta_{2} \\right)} \\cos^{2}{\\left(u \\right)}\\right) \\cos{\\left(\\theta_{3} \\right)} - \\sin{\\left(\\theta_{2} \\right)} \\sin{\\left(\\theta_{3} \\right)} \\cos{\\left(u \\right)}\\right) \\sin{\\left(u \\right)} + \\left(- \\sin{\\left(u \\right)} \\cos{\\left(\\theta_{2} \\right)} \\cos{\\left(u \\right)} - \\sin{\\left(u \\right)} \\cos{\\left(u \\right)}\\right) \\cos{\\left(u \\right)}\\right) \\cos{\\left(v \\right)} - \\left(\\left(\\left(- \\sin^{2}{\\left(u \\right)} + \\cos{\\left(\\theta_{2} \\right)} \\cos^{2}{\\left(u \\right)}\\right) \\cos{\\left(\\theta_{3} \\right)} - \\sin{\\left(\\theta_{2} \\right)} \\sin{\\left(\\theta_{3} \\right)} \\cos{\\left(u \\right)}\\right) \\cos{\\left(u \\right)} + \\left(- \\sin{\\left(u \\right)} \\cos{\\left(\\theta_{2} \\right)} \\cos{\\left(u \\right)} - \\sin{\\left(u \\right)} \\cos{\\left(u \\right)}\\right) \\sin{\\left(u \\right)}\\right) \\sin{\\left(v \\right)}\\\\\\left(- \\left(- \\sin{\\left(\\theta_{2} \\right)} \\cos{\\left(\\theta_{3} \\right)} \\cos{\\left(u \\right)} - \\sin{\\left(\\theta_{3} \\right)} \\cos{\\left(\\theta_{2} \\right)}\\right) \\sin{\\left(u \\right)} + \\sin{\\left(\\theta_{2} \\right)} \\sin{\\left(u \\right)} \\cos{\\left(u \\right)}\\right) \\sin{\\left(v \\right)} + \\left(\\left(- \\sin{\\left(\\theta_{2} \\right)} \\cos{\\left(\\theta_{3} \\right)} \\cos{\\left(u \\right)} - \\sin{\\left(\\theta_{3} \\right)} \\cos{\\left(\\theta_{2} \\right)}\\right) \\cos{\\left(u \\right)} + \\sin{\\left(\\theta_{2} \\right)} \\sin^{2}{\\left(u \\right)}\\right) \\cos{\\left(v \\right)} & - \\sin{\\left(\\theta_{2} \\right)} \\sin{\\left(\\theta_{3} \\right)} \\cos{\\left(u \\right)} + \\cos{\\left(\\theta_{2} \\right)} \\cos{\\left(\\theta_{3} \\right)} & \\left(- \\left(- \\sin{\\left(\\theta_{2} \\right)} \\cos{\\left(\\theta_{3} \\right)} \\cos{\\left(u \\right)} - \\sin{\\left(\\theta_{3} \\right)} \\cos{\\left(\\theta_{2} \\right)}\\right) \\sin{\\left(u \\right)} + \\sin{\\left(\\theta_{2} \\right)} \\sin{\\left(u \\right)} \\cos{\\left(u \\right)}\\right) \\cos{\\left(v \\right)} - \\left(\\left(- \\sin{\\left(\\theta_{2} \\right)} \\cos{\\left(\\theta_{3} \\right)} \\cos{\\left(u \\right)} - \\sin{\\left(\\theta_{3} \\right)} \\cos{\\left(\\theta_{2} \\right)}\\right) \\cos{\\left(u \\right)} + \\sin{\\left(\\theta_{2} \\right)} \\sin^{2}{\\left(u \\right)}\\right) \\sin{\\left(v \\right)}\\\\\\left(- \\left(\\left(\\sin{\\left(u \\right)} \\cos{\\left(\\theta_{2} \\right)} \\cos{\\left(u \\right)} + \\sin{\\left(u \\right)} \\cos{\\left(u \\right)}\\right) \\cos{\\left(\\theta_{3} \\right)} - \\sin{\\left(\\theta_{2} \\right)} \\sin{\\left(\\theta_{3} \\right)} \\sin{\\left(u \\right)}\\right) \\sin{\\left(u \\right)} + \\left(- \\sin^{2}{\\left(u \\right)} \\cos{\\left(\\theta_{2} \\right)} + \\cos^{2}{\\left(u \\right)}\\right) \\cos{\\left(u \\right)}\\right) \\sin{\\left(v \\right)} + \\left(\\left(\\left(\\sin{\\left(u \\right)} \\cos{\\left(\\theta_{2} \\right)} \\cos{\\left(u \\right)} + \\sin{\\left(u \\right)} \\cos{\\left(u \\right)}\\right) \\cos{\\left(\\theta_{3} \\right)} - \\sin{\\left(\\theta_{2} \\right)} \\sin{\\left(\\theta_{3} \\right)} \\sin{\\left(u \\right)}\\right) \\cos{\\left(u \\right)} + \\left(- \\sin^{2}{\\left(u \\right)} \\cos{\\left(\\theta_{2} \\right)} + \\cos^{2}{\\left(u \\right)}\\right) \\sin{\\left(u \\right)}\\right) \\cos{\\left(v \\right)} & \\left(\\sin{\\left(u \\right)} \\cos{\\left(\\theta_{2} \\right)} \\cos{\\left(u \\right)} + \\sin{\\left(u \\right)} \\cos{\\left(u \\right)}\\right) \\sin{\\left(\\theta_{3} \\right)} + \\sin{\\left(\\theta_{2} \\right)} \\sin{\\left(u \\right)} \\cos{\\left(\\theta_{3} \\right)} & \\left(- \\left(\\left(\\sin{\\left(u \\right)} \\cos{\\left(\\theta_{2} \\right)} \\cos{\\left(u \\right)} + \\sin{\\left(u \\right)} \\cos{\\left(u \\right)}\\right) \\cos{\\left(\\theta_{3} \\right)} - \\sin{\\left(\\theta_{2} \\right)} \\sin{\\left(\\theta_{3} \\right)} \\sin{\\left(u \\right)}\\right) \\sin{\\left(u \\right)} + \\left(- \\sin^{2}{\\left(u \\right)} \\cos{\\left(\\theta_{2} \\right)} + \\cos^{2}{\\left(u \\right)}\\right) \\cos{\\left(u \\right)}\\right) \\cos{\\left(v \\right)} - \\left(\\left(\\left(\\sin{\\left(u \\right)} \\cos{\\left(\\theta_{2} \\right)} \\cos{\\left(u \\right)} + \\sin{\\left(u \\right)} \\cos{\\left(u \\right)}\\right) \\cos{\\left(\\theta_{3} \\right)} - \\sin{\\left(\\theta_{2} \\right)} \\sin{\\left(\\theta_{3} \\right)} \\sin{\\left(u \\right)}\\right) \\cos{\\left(u \\right)} + \\left(- \\sin^{2}{\\left(u \\right)} \\cos{\\left(\\theta_{2} \\right)} + \\cos^{2}{\\left(u \\right)}\\right) \\sin{\\left(u \\right)}\\right) \\sin{\\left(v \\right)}\\end{matrix}\\right]$"
      ],
      "text/plain": [
       "Matrix([\n",
       "[(-((-sin(u)**2 + cos(theta_2)*cos(u)**2)*cos(theta_3) - sin(theta_2)*sin(theta_3)*cos(u))*sin(u) + (-sin(u)*cos(theta_2)*cos(u) - sin(u)*cos(u))*cos(u))*sin(v) + (((-sin(u)**2 + cos(theta_2)*cos(u)**2)*cos(theta_3) - sin(theta_2)*sin(theta_3)*cos(u))*cos(u) + (-sin(u)*cos(theta_2)*cos(u) - sin(u)*cos(u))*sin(u))*cos(v),        (-sin(u)**2 + cos(theta_2)*cos(u)**2)*sin(theta_3) + sin(theta_2)*cos(theta_3)*cos(u), (-((-sin(u)**2 + cos(theta_2)*cos(u)**2)*cos(theta_3) - sin(theta_2)*sin(theta_3)*cos(u))*sin(u) + (-sin(u)*cos(theta_2)*cos(u) - sin(u)*cos(u))*cos(u))*cos(v) - (((-sin(u)**2 + cos(theta_2)*cos(u)**2)*cos(theta_3) - sin(theta_2)*sin(theta_3)*cos(u))*cos(u) + (-sin(u)*cos(theta_2)*cos(u) - sin(u)*cos(u))*sin(u))*sin(v)],\n",
       "[                                                                                                        (-(-sin(theta_2)*cos(theta_3)*cos(u) - sin(theta_3)*cos(theta_2))*sin(u) + sin(theta_2)*sin(u)*cos(u))*sin(v) + ((-sin(theta_2)*cos(theta_3)*cos(u) - sin(theta_3)*cos(theta_2))*cos(u) + sin(theta_2)*sin(u)**2)*cos(v),                                -sin(theta_2)*sin(theta_3)*cos(u) + cos(theta_2)*cos(theta_3),                                                                                                         (-(-sin(theta_2)*cos(theta_3)*cos(u) - sin(theta_3)*cos(theta_2))*sin(u) + sin(theta_2)*sin(u)*cos(u))*cos(v) - ((-sin(theta_2)*cos(theta_3)*cos(u) - sin(theta_3)*cos(theta_2))*cos(u) + sin(theta_2)*sin(u)**2)*sin(v)],\n",
       "[  (-((sin(u)*cos(theta_2)*cos(u) + sin(u)*cos(u))*cos(theta_3) - sin(theta_2)*sin(theta_3)*sin(u))*sin(u) + (-sin(u)**2*cos(theta_2) + cos(u)**2)*cos(u))*sin(v) + (((sin(u)*cos(theta_2)*cos(u) + sin(u)*cos(u))*cos(theta_3) - sin(theta_2)*sin(theta_3)*sin(u))*cos(u) + (-sin(u)**2*cos(theta_2) + cos(u)**2)*sin(u))*cos(v), (sin(u)*cos(theta_2)*cos(u) + sin(u)*cos(u))*sin(theta_3) + sin(theta_2)*sin(u)*cos(theta_3),   (-((sin(u)*cos(theta_2)*cos(u) + sin(u)*cos(u))*cos(theta_3) - sin(theta_2)*sin(theta_3)*sin(u))*sin(u) + (-sin(u)**2*cos(theta_2) + cos(u)**2)*cos(u))*cos(v) - (((sin(u)*cos(theta_2)*cos(u) + sin(u)*cos(u))*cos(theta_3) - sin(theta_2)*sin(theta_3)*sin(u))*cos(u) + (-sin(u)**2*cos(theta_2) + cos(u)**2)*sin(u))*sin(v)]])"
      ]
     },
     "execution_count": 97,
     "metadata": {},
     "output_type": "execute_result"
    }
   ],
   "source": [
    "test"
   ]
  },
  {
   "cell_type": "code",
   "execution_count": 194,
   "id": "metric-gender",
   "metadata": {},
   "outputs": [],
   "source": [
    "from scipy.spatial.transform import Rotation as R"
   ]
  },
  {
   "cell_type": "code",
   "execution_count": 201,
   "id": "gorgeous-ebony",
   "metadata": {},
   "outputs": [
    {
     "data": {
      "text/plain": [
       "array([[-1.0000000e+00, -4.4408921e-16,  0.0000000e+00],\n",
       "       [ 4.4408921e-16, -1.0000000e+00,  0.0000000e+00],\n",
       "       [ 0.0000000e+00,  0.0000000e+00,  1.0000000e+00]])"
      ]
     },
     "execution_count": 201,
     "metadata": {},
     "output_type": "execute_result"
    }
   ],
   "source": [
    "(R.from_euler('z', 90, degrees=True) * R.from_euler('z', 90, degrees=True)).as_matrix()"
   ]
  },
  {
   "cell_type": "code",
   "execution_count": null,
   "id": "painted-stevens",
   "metadata": {},
   "outputs": [],
   "source": [
    "def construct_rotations(m):\n",
    "    W = np.identity(3)\n",
    "    for i in range(m):\n",
    "        W *= yrot('u') * zrot(f'theta_{i}')\n",
    "    W *= yrot('u') * yrot('v')\n",
    "    return W"
   ]
  },
  {
   "cell_type": "code",
   "execution_count": 203,
   "id": "answering-belle",
   "metadata": {},
   "outputs": [
    {
     "data": {
      "text/plain": [
       "array([[1., 0., 0.],\n",
       "       [0., 1., 0.],\n",
       "       [0., 0., 1.]])"
      ]
     },
     "execution_count": 203,
     "metadata": {},
     "output_type": "execute_result"
    }
   ],
   "source": [
    "W = np.identity(3)\n",
    "W"
   ]
  },
  {
   "cell_type": "code",
   "execution_count": 206,
   "id": "caring-infrastructure",
   "metadata": {},
   "outputs": [
    {
     "data": {
      "text/plain": [
       "<scipy.spatial.transform.rotation.Rotation at 0x7f641c4f88a0>"
      ]
     },
     "execution_count": 206,
     "metadata": {},
     "output_type": "execute_result"
    }
   ],
   "source": [
    "R.from_euler('y', 1.32) *"
   ]
  },
  {
   "cell_type": "code",
   "execution_count": 30,
   "id": "adaptive-prediction",
   "metadata": {},
   "outputs": [],
   "source": [
    "test_angle = 'varphi'\n",
    "lhs = yrot(test_angle) * zrot('psi') * yrot(test_angle)\n",
    "rhs = yrot('alpha')"
   ]
  },
  {
   "cell_type": "code",
   "execution_count": 34,
   "id": "dried-journal",
   "metadata": {},
   "outputs": [
    {
     "data": {
      "text/latex": [
       "$\\displaystyle \\left[\\begin{matrix}\\cos{\\left(2 \\varphi \\right)} & 0 & - \\sin{\\left(2 \\varphi \\right)}\\\\0 & 1 & 0\\\\\\sin{\\left(2 \\varphi \\right)} & 0 & \\cos{\\left(2 \\varphi \\right)}\\end{matrix}\\right]$"
      ],
      "text/plain": [
       "Matrix([\n",
       "[cos(2*varphi), 0, -sin(2*varphi)],\n",
       "[            0, 1,              0],\n",
       "[sin(2*varphi), 0,  cos(2*varphi)]])"
      ]
     },
     "execution_count": 34,
     "metadata": {},
     "output_type": "execute_result"
    }
   ],
   "source": [
    "sym.simplify(lhs.subs( { 'psi': 0 }))"
   ]
  },
  {
   "cell_type": "code",
   "execution_count": 54,
   "id": "capital-teach",
   "metadata": {},
   "outputs": [
    {
     "data": {
      "text/plain": [
       "True"
      ]
     },
     "execution_count": 54,
     "metadata": {},
     "output_type": "execute_result"
    }
   ],
   "source": [
    "bool((rhs.evalf(subs={ 'alpha': 2 }) - lhs.evalf(subs={ 'psi': 0, 'varphi': 1 })).norm() < 1e-3)"
   ]
  },
  {
   "cell_type": "code",
   "execution_count": null,
   "id": "disabled-payroll",
   "metadata": {},
   "outputs": [],
   "source": []
  }
 ],
 "metadata": {
  "kernelspec": {
   "display_name": "Python 3",
   "language": "python",
   "name": "python3"
  },
  "language_info": {
   "codemirror_mode": {
    "name": "ipython",
    "version": 3
   },
   "file_extension": ".py",
   "mimetype": "text/x-python",
   "name": "python",
   "nbconvert_exporter": "python",
   "pygments_lexer": "ipython3",
   "version": "3.9.2"
  },
  "toc-autonumbering": true,
  "toc-showmarkdowntxt": false
 },
 "nbformat": 4,
 "nbformat_minor": 5
}
